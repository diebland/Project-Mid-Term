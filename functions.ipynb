{
 "cells": [
  {
   "cell_type": "code",
   "execution_count": null,
   "id": "ff30a12b",
   "metadata": {},
   "outputs": [],
   "source": [
    "from imblearn.over_sampling import SMOTE\n",
    "import matplotlib.pyplot as plt\n",
    "import numpy as np\n",
    "import pandas as pd\n",
    "import pickle\n",
    "import seaborn as sns\n",
    "from sklearn.preprocessing import Normalizer\n",
    "from sklearn.model_selection import train_test_split\n",
    "from sklearn.linear_model import LogisticRegression\n",
    "from sklearn.metrics import confusion_matrix\n",
    "from sklearn.neighbors import KNeighborsClassifier\n",
    "from sklearn.metrics import accuracy_score\n",
    "from sklearn.metrics import classification_report\n",
    "from sklearn.metrics import confusion_matrix\n",
    "from scipy.stats import chi2_contingency\n",
    "from scipy import stats\n",
    "import warnings\n",
    "warnings.filterwarnings('ignore')"
   ]
  },
  {
   "cell_type": "code",
   "execution_count": null,
   "id": "78c05fec",
   "metadata": {},
   "outputs": [],
   "source": [
    "def renaming(df):\n",
    "    #removing special characters & following the snake case\n",
    "    \n",
    "    df.columns = df.columns.str.replace(' ', '_').str.lower()\n",
    "    df.columns = df.columns.str.replace('#_','')\n",
    "    return df.info()"
   ]
  },
  {
   "cell_type": "code",
   "execution_count": null,
   "id": "0aeed606",
   "metadata": {},
   "outputs": [],
   "source": [
    "def categorical_information (df):\n",
    "    for col in df.select_dtypes('object'):\n",
    "        print (df_cat[col].nunique(), '\\n')\n",
    "        print(df_cat[col].value_counts(), '\\n'"
   ]
  },
  {
   "cell_type": "code",
   "execution_count": null,
   "id": "5f3a73bc",
   "metadata": {},
   "outputs": [],
   "source": [
    "def count_plot_cat(df):\n",
    "    for col in df.select_dtypes('object'):\n",
    "        sns.countplot(df[col])\n",
    "        plt.show()"
   ]
  },
  {
   "cell_type": "code",
   "execution_count": null,
   "id": "d28104f7",
   "metadata": {},
   "outputs": [],
   "source": [
    "def numerical_plotting(df):\n",
    "    decimaux = df.select_dtypes('float64')\n",
    "    entiers = df.select_dtypes('int64')\n",
    "    \n",
    "    for col in decimaux:\n",
    "        sns.distplot(continuous[col])\n",
    "        plt.show()\n",
    "        \n",
    "    for col in entiers:\n",
    "        sns.countplot(discrete[col])\n",
    "        plt.show()"
   ]
  },
  {
   "cell_type": "code",
   "execution_count": null,
   "id": "d99e8d5b",
   "metadata": {},
   "outputs": [],
   "source": [
    "def vizualizing_outliers(df):\n",
    "    for col in df._get_numeric_data():\n",
    "            sns.boxplot(df_num[col])\n",
    "            plt.show()"
   ]
  },
  {
   "cell_type": "code",
   "execution_count": null,
   "id": "0aee9763",
   "metadata": {},
   "outputs": [],
   "source": [
    "def corr_matrix(df):\n",
    "    corr_matrix=df.corr(method='pearson')\n",
    "    fig, ax = plt.subplots(figsize=(10, 8))\n",
    "    ax = sns.heatmap(corr_matrix, annot=True)\n",
    "    plt.show()"
   ]
  },
  {
   "cell_type": "code",
   "execution_count": null,
   "id": "58fb3554",
   "metadata": {},
   "outputs": [],
   "source": [
    "def count_plot_hue_target(df,columns=[], target = ''):\n",
    "    for col in columns: \n",
    "        plt.figure(figsize=(6,4))\n",
    "        sns.countplot(x = col, hue = target, data = df)\n",
    "    plt.show()   "
   ]
  },
  {
   "cell_type": "code",
   "execution_count": null,
   "id": "4454ed92",
   "metadata": {},
   "outputs": [],
   "source": [
    "# function to perform ChiSquare-test for all (categorical) variables\n",
    "def chi_square_test(df, columns=[]):\n",
    "    for i in columns:\n",
    "        for j in columns:\n",
    "            if i != j:\n",
    "                data_crosstab = pd.crosstab(df[i], df[j], margins = False)\n",
    "                print('ChiSquare test for ',i,'and ',j,': ')\n",
    "                print(chi2_contingency(data_crosstab, correction=False), '\\n')"
   ]
  },
  {
   "cell_type": "code",
   "execution_count": null,
   "id": "6ebd87f9",
   "metadata": {},
   "outputs": [],
   "source": [
    "#Boxcox transformation\n",
    "\n",
    "def boxcox_transform(df):\n",
    "    numeric_cols = df.select_dtypes('float64').columns\n",
    "    _ci = {column: None for column in numeric_cols}\n",
    "    for column in numeric_cols:\n",
    "        # since i know any columns should take negative numbers, to avoid -inf in df\n",
    "        df[column] = np.where(df[column]<=0, np.NAN, df[column]) \n",
    "        df[column] = df[column].fillna(df[column].mean())\n",
    "        transformed_data, ci = stats.boxcox(df[column])\n",
    "        df[column] = transformed_data\n",
    "        _ci[column] = [ci] \n",
    "    return df, _ci"
   ]
  },
  {
   "cell_type": "code",
   "execution_count": null,
   "id": "3fc1e3c3",
   "metadata": {},
   "outputs": [],
   "source": [
    "#checking distribution of variables\n",
    "\n",
    "def distribution_distplot(df):\n",
    "    for col in df.select_dtypes('float64'):\n",
    "        sns.distplot(df[col])\n",
    "        # save the figure\n",
    "        # plt.savefig('covariance_account_balance.png', dpi=100, bbox_inches='tight')\n",
    "        plt.show()"
   ]
  },
  {
   "cell_type": "code",
   "execution_count": null,
   "id": "ac8fdae7",
   "metadata": {},
   "outputs": [],
   "source": [
    "def logistic_regression_model(X_train, X_test, y_train, y_test):\n",
    "\n",
    "    # defining a function to apply the logistic regression model\n",
    "    \n",
    "    classification = LogisticRegression(random_state=42, max_iter=10000)\n",
    "    classification.fit(X_train, y_train)\n",
    "    \n",
    "    # and to evaluate the model\n",
    "    score = classification.score(X_test, y_test)\n",
    "    print('The accuracy score is: ', score, '\\n')\n",
    "      \n",
    "    predictions = classification.predict(X_test)\n",
    "    confusion_matrix(y_test, predictions)  \n",
    "   \n",
    "    \n",
    "    cf_matrix = confusion_matrix(y_test, predictions)\n",
    "    group_names = ['True NO', 'False NO',\n",
    "               'False YES', 'True YES']\n",
    "\n",
    "    group_counts = [\"{0:0.0f}\".format(value) for value in cf_matrix.flatten()]\n",
    "    group_percentages = [\"{0:.2%}\".format(value) for value in cf_matrix.flatten()/np.sum(cf_matrix)]\n",
    "    labels = [f\"{v1}\\n{v2}\\n{v3}\" for v1, v2, v3 in zip(group_names,group_counts,group_percentages)]\n",
    "    labels = np.asarray(labels).reshape(2,2)\n",
    "    sns.heatmap(cf_matrix, annot=labels, fmt='', cmap='Blues')\n",
    "    print (cf_matrix)"
   ]
  },
  {
   "cell_type": "code",
   "execution_count": null,
   "id": "c709d968",
   "metadata": {},
   "outputs": [],
   "source": [
    "def KNN_classifier_model(X_train, y_train, X_test, y_test,n):\n",
    "    \n",
    "    # define a function to apply the KNN Classifier Model\n",
    "    \n",
    "    knn = KNeighborsClassifier(n_neighbors=n)\n",
    "    knn.fit(X_train, y_train)\n",
    "    \n",
    "    # and to evaluate the model\n",
    "    \n",
    "    print('Accuracy of K-NN classifier on test set: {:.2f}'\n",
    "     .format(knn.score(X_test, y_test)))\n",
    "    \n",
    "    y_pred = knn.predict(X_test)\n",
    "    print(confusion_matrix(y_test, y_pred))\n",
    "    \n",
    "    cf_matrix = confusion_matrix(y_test, y_pred)\n",
    "    group_names = ['True NO', 'False NO',\n",
    "               'False YES', 'True YES']\n",
    "\n",
    "    group_counts = [\"{0:0.0f}\".format(value) for value in cf_matrix.flatten()]\n",
    "    group_percentages = [\"{0:.2%}\".format(value) for value in cf_matrix.flatten()/np.sum(cf_matrix)]\n",
    "    labels = [f\"{v1}\\n{v2}\\n{v3}\" for v1, v2, v3 in zip(group_names,group_counts,group_percentages)]\n",
    "    labels = np.asarray(labels).reshape(2,2)\n",
    "    sns.heatmap(cf_matrix, annot=labels, fmt='', cmap='Blues')\n",
    "    print (cf_matrix)"
   ]
  },
  {
   "cell_type": "code",
   "execution_count": null,
   "id": "e7af9742",
   "metadata": {},
   "outputs": [],
   "source": [
    "#choose the best key value\n",
    "def best_K(X_train, y_train, X_test, y_test, r):\n",
    "    scores = []\n",
    "    for i in r:\n",
    "        model = KNeighborsClassifier(n_neighbors=i)\n",
    "        model.fit(X_train, y_train)\n",
    "        scores.append(model.score(X_test, y_test))\n",
    "        \n",
    "    plt.figure(figsize=(10,6))\n",
    "    plt.plot(r,scores,color = 'blue', linestyle='dashed',\n",
    "             marker='*', markerfacecolor='red', markersize=10)\n",
    "    plt.title('accuracy scores vs. K Value')\n",
    "    plt.xlabel('K')\n",
    "    plt.ylabel('Accuracy') "
   ]
  },
  {
   "cell_type": "code",
   "execution_count": null,
   "id": "dfe81ae3",
   "metadata": {},
   "outputs": [],
   "source": []
  }
 ],
 "metadata": {
  "kernelspec": {
   "display_name": "Python 3",
   "language": "python",
   "name": "python3"
  },
  "language_info": {
   "codemirror_mode": {
    "name": "ipython",
    "version": 3
   },
   "file_extension": ".py",
   "mimetype": "text/x-python",
   "name": "python",
   "nbconvert_exporter": "python",
   "pygments_lexer": "ipython3",
   "version": "3.9.5"
  }
 },
 "nbformat": 4,
 "nbformat_minor": 5
}
