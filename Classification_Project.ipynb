{
 "cells": [
  {
   "cell_type": "markdown",
   "id": "bcbcf048",
   "metadata": {},
   "source": [
    "# Classification Problem : Credit Card Offer"
   ]
  },
  {
   "cell_type": "markdown",
   "id": "d9109998",
   "metadata": {},
   "source": [
    "### Importing the librairies"
   ]
  },
  {
   "cell_type": "code",
   "execution_count": 237,
   "id": "66f0ddd1",
   "metadata": {},
   "outputs": [],
   "source": [
    "import pandas as pd\n",
    "import numpy as np\n",
    "\n",
    "import matplotlib.pyplot as plt\n",
    "import seaborn as sns\n",
    "\n",
    "from scipy.stats import chi2_contingency\n",
    "from scipy import stats\n",
    "\n",
    "from imblearn.over_sampling import SMOTE\n",
    "\n",
    "from sklearn.preprocessing import Normalizer\n",
    "from sklearn.model_selection import train_test_split\n",
    "from sklearn.linear_model import LogisticRegression\n",
    "from sklearn.metrics import confusion_matrix\n",
    "from sklearn.neighbors import KNeighborsClassifier\n",
    "from sklearn.metrics import accuracy_score\n",
    "from sklearn.metrics import classification_report\n",
    "from sklearn.metrics import confusion_matrix\n",
    "\n",
    "\n",
    "import pickle\n",
    "\n",
    "import warnings\n",
    "warnings.filterwarnings('ignore')"
   ]
  },
  {
   "cell_type": "markdown",
   "id": "4b6d19dc",
   "metadata": {},
   "source": [
    "## 1. Cleaning the CSV file to be uploaded on MySQLworkbench"
   ]
  },
  {
   "cell_type": "code",
   "execution_count": 76,
   "id": "508bf063",
   "metadata": {
    "scrolled": false
   },
   "outputs": [
    {
     "data": {
      "text/html": [
       "<div>\n",
       "<style scoped>\n",
       "    .dataframe tbody tr th:only-of-type {\n",
       "        vertical-align: middle;\n",
       "    }\n",
       "\n",
       "    .dataframe tbody tr th {\n",
       "        vertical-align: top;\n",
       "    }\n",
       "\n",
       "    .dataframe thead th {\n",
       "        text-align: right;\n",
       "    }\n",
       "</style>\n",
       "<table border=\"1\" class=\"dataframe\">\n",
       "  <thead>\n",
       "    <tr style=\"text-align: right;\">\n",
       "      <th></th>\n",
       "      <th>Customer Number</th>\n",
       "      <th>Offer Accepted</th>\n",
       "      <th>Reward</th>\n",
       "      <th>Mailer Type</th>\n",
       "      <th>Income Level</th>\n",
       "      <th># Bank Accounts Open</th>\n",
       "      <th>Overdraft Protection</th>\n",
       "      <th>Credit Rating</th>\n",
       "      <th># Credit Cards Held</th>\n",
       "      <th># Homes Owned</th>\n",
       "      <th>Household Size</th>\n",
       "      <th>Own Your Home</th>\n",
       "      <th>Average Balance</th>\n",
       "      <th>Q1 Balance</th>\n",
       "      <th>Q2 Balance</th>\n",
       "      <th>Q3 Balance</th>\n",
       "      <th>Q4 Balance</th>\n",
       "    </tr>\n",
       "  </thead>\n",
       "  <tbody>\n",
       "    <tr>\n",
       "      <th>0</th>\n",
       "      <td>1</td>\n",
       "      <td>No</td>\n",
       "      <td>Air Miles</td>\n",
       "      <td>Letter</td>\n",
       "      <td>High</td>\n",
       "      <td>1</td>\n",
       "      <td>No</td>\n",
       "      <td>High</td>\n",
       "      <td>2</td>\n",
       "      <td>1</td>\n",
       "      <td>4</td>\n",
       "      <td>No</td>\n",
       "      <td>1160.75</td>\n",
       "      <td>1669.0</td>\n",
       "      <td>877.0</td>\n",
       "      <td>1095.0</td>\n",
       "      <td>1002.0</td>\n",
       "    </tr>\n",
       "    <tr>\n",
       "      <th>1</th>\n",
       "      <td>2</td>\n",
       "      <td>No</td>\n",
       "      <td>Air Miles</td>\n",
       "      <td>Letter</td>\n",
       "      <td>Medium</td>\n",
       "      <td>1</td>\n",
       "      <td>No</td>\n",
       "      <td>Medium</td>\n",
       "      <td>2</td>\n",
       "      <td>2</td>\n",
       "      <td>5</td>\n",
       "      <td>Yes</td>\n",
       "      <td>147.25</td>\n",
       "      <td>39.0</td>\n",
       "      <td>106.0</td>\n",
       "      <td>78.0</td>\n",
       "      <td>366.0</td>\n",
       "    </tr>\n",
       "    <tr>\n",
       "      <th>2</th>\n",
       "      <td>3</td>\n",
       "      <td>No</td>\n",
       "      <td>Air Miles</td>\n",
       "      <td>Postcard</td>\n",
       "      <td>High</td>\n",
       "      <td>2</td>\n",
       "      <td>No</td>\n",
       "      <td>Medium</td>\n",
       "      <td>2</td>\n",
       "      <td>1</td>\n",
       "      <td>2</td>\n",
       "      <td>Yes</td>\n",
       "      <td>276.50</td>\n",
       "      <td>367.0</td>\n",
       "      <td>352.0</td>\n",
       "      <td>145.0</td>\n",
       "      <td>242.0</td>\n",
       "    </tr>\n",
       "    <tr>\n",
       "      <th>3</th>\n",
       "      <td>4</td>\n",
       "      <td>No</td>\n",
       "      <td>Air Miles</td>\n",
       "      <td>Letter</td>\n",
       "      <td>Medium</td>\n",
       "      <td>2</td>\n",
       "      <td>No</td>\n",
       "      <td>High</td>\n",
       "      <td>1</td>\n",
       "      <td>1</td>\n",
       "      <td>4</td>\n",
       "      <td>No</td>\n",
       "      <td>1219.00</td>\n",
       "      <td>1578.0</td>\n",
       "      <td>1760.0</td>\n",
       "      <td>1119.0</td>\n",
       "      <td>419.0</td>\n",
       "    </tr>\n",
       "    <tr>\n",
       "      <th>4</th>\n",
       "      <td>5</td>\n",
       "      <td>No</td>\n",
       "      <td>Air Miles</td>\n",
       "      <td>Letter</td>\n",
       "      <td>Medium</td>\n",
       "      <td>1</td>\n",
       "      <td>No</td>\n",
       "      <td>Medium</td>\n",
       "      <td>2</td>\n",
       "      <td>1</td>\n",
       "      <td>6</td>\n",
       "      <td>Yes</td>\n",
       "      <td>1211.00</td>\n",
       "      <td>2140.0</td>\n",
       "      <td>1357.0</td>\n",
       "      <td>982.0</td>\n",
       "      <td>365.0</td>\n",
       "    </tr>\n",
       "  </tbody>\n",
       "</table>\n",
       "</div>"
      ],
      "text/plain": [
       "   Customer Number Offer Accepted     Reward Mailer Type Income Level  \\\n",
       "0                1             No  Air Miles      Letter         High   \n",
       "1                2             No  Air Miles      Letter       Medium   \n",
       "2                3             No  Air Miles    Postcard         High   \n",
       "3                4             No  Air Miles      Letter       Medium   \n",
       "4                5             No  Air Miles      Letter       Medium   \n",
       "\n",
       "   # Bank Accounts Open Overdraft Protection Credit Rating  \\\n",
       "0                     1                   No          High   \n",
       "1                     1                   No        Medium   \n",
       "2                     2                   No        Medium   \n",
       "3                     2                   No          High   \n",
       "4                     1                   No        Medium   \n",
       "\n",
       "   # Credit Cards Held  # Homes Owned  Household Size Own Your Home  \\\n",
       "0                    2              1               4            No   \n",
       "1                    2              2               5           Yes   \n",
       "2                    2              1               2           Yes   \n",
       "3                    1              1               4            No   \n",
       "4                    2              1               6           Yes   \n",
       "\n",
       "   Average Balance  Q1 Balance  Q2 Balance  Q3 Balance  Q4 Balance  \n",
       "0          1160.75      1669.0       877.0      1095.0      1002.0  \n",
       "1           147.25        39.0       106.0        78.0       366.0  \n",
       "2           276.50       367.0       352.0       145.0       242.0  \n",
       "3          1219.00      1578.0      1760.0      1119.0       419.0  \n",
       "4          1211.00      2140.0      1357.0       982.0       365.0  "
      ]
     },
     "execution_count": 76,
     "metadata": {},
     "output_type": "execute_result"
    }
   ],
   "source": [
    "df = pd.read_csv('creditcardmarketing.csv') \n",
    "df.head()"
   ]
  },
  {
   "cell_type": "markdown",
   "id": "414e7039",
   "metadata": {},
   "source": [
    "We will clean the headers only."
   ]
  },
  {
   "cell_type": "code",
   "execution_count": 77,
   "id": "6c76b619",
   "metadata": {},
   "outputs": [],
   "source": [
    "# function 1\n",
    "def renaming(df):\n",
    "    df.columns = df.columns.str.replace(' ', '_').str.lower()\n",
    "    df.columns = df.columns.str.replace('#_','')\n",
    "    return df.info()"
   ]
  },
  {
   "cell_type": "code",
   "execution_count": 78,
   "id": "e0c90022",
   "metadata": {
    "scrolled": false
   },
   "outputs": [
    {
     "name": "stdout",
     "output_type": "stream",
     "text": [
      "<class 'pandas.core.frame.DataFrame'>\n",
      "RangeIndex: 18000 entries, 0 to 17999\n",
      "Data columns (total 17 columns):\n",
      " #   Column                Non-Null Count  Dtype  \n",
      "---  ------                --------------  -----  \n",
      " 0   customer_number       18000 non-null  int64  \n",
      " 1   offer_accepted        18000 non-null  object \n",
      " 2   reward                18000 non-null  object \n",
      " 3   mailer_type           18000 non-null  object \n",
      " 4   income_level          18000 non-null  object \n",
      " 5   bank_accounts_open    18000 non-null  int64  \n",
      " 6   overdraft_protection  18000 non-null  object \n",
      " 7   credit_rating         18000 non-null  object \n",
      " 8   credit_cards_held     18000 non-null  int64  \n",
      " 9   homes_owned           18000 non-null  int64  \n",
      " 10  household_size        18000 non-null  int64  \n",
      " 11  own_your_home         18000 non-null  object \n",
      " 12  average_balance       17976 non-null  float64\n",
      " 13  q1_balance            17976 non-null  float64\n",
      " 14  q2_balance            17976 non-null  float64\n",
      " 15  q3_balance            17976 non-null  float64\n",
      " 16  q4_balance            17976 non-null  float64\n",
      "dtypes: float64(5), int64(5), object(7)\n",
      "memory usage: 2.3+ MB\n"
     ]
    }
   ],
   "source": [
    "renaming(df)"
   ]
  },
  {
   "cell_type": "markdown",
   "id": "b4c1e34e",
   "metadata": {},
   "source": [
    "There are 24 NAN values in the last 5 columns. The 24 rows with the non values will not be uploaded on MySQLWorkbench."
   ]
  },
  {
   "cell_type": "code",
   "execution_count": 91,
   "id": "f40791d9",
   "metadata": {},
   "outputs": [],
   "source": [
    "# saving the dataframe into CVS file for SQL \n",
    "\n",
    "df.to_csv('credit_card_data.csv')"
   ]
  },
  {
   "cell_type": "markdown",
   "id": "730724c3",
   "metadata": {},
   "source": [
    "## 2. Cleaning and EDA "
   ]
  },
  {
   "cell_type": "code",
   "execution_count": 79,
   "id": "5c8b54b0",
   "metadata": {},
   "outputs": [],
   "source": [
    "# customer_number are unique values so we pass this variable as the index\n",
    "df = df.set_index('customer_number')"
   ]
  },
  {
   "cell_type": "code",
   "execution_count": 80,
   "id": "4b939967",
   "metadata": {
    "scrolled": true
   },
   "outputs": [
    {
     "name": "stdout",
     "output_type": "stream",
     "text": [
      "<class 'pandas.core.frame.DataFrame'>\n",
      "Int64Index: 18000 entries, 1 to 18000\n",
      "Data columns (total 16 columns):\n",
      " #   Column                Non-Null Count  Dtype  \n",
      "---  ------                --------------  -----  \n",
      " 0   offer_accepted        18000 non-null  object \n",
      " 1   reward                18000 non-null  object \n",
      " 2   mailer_type           18000 non-null  object \n",
      " 3   income_level          18000 non-null  object \n",
      " 4   bank_accounts_open    18000 non-null  int64  \n",
      " 5   overdraft_protection  18000 non-null  object \n",
      " 6   credit_rating         18000 non-null  object \n",
      " 7   credit_cards_held     18000 non-null  int64  \n",
      " 8   homes_owned           18000 non-null  int64  \n",
      " 9   household_size        18000 non-null  int64  \n",
      " 10  own_your_home         18000 non-null  object \n",
      " 11  average_balance       17976 non-null  float64\n",
      " 12  q1_balance            17976 non-null  float64\n",
      " 13  q2_balance            17976 non-null  float64\n",
      " 14  q3_balance            17976 non-null  float64\n",
      " 15  q4_balance            17976 non-null  float64\n",
      "dtypes: float64(5), int64(4), object(7)\n",
      "memory usage: 2.3+ MB\n"
     ]
    }
   ],
   "source": [
    "df = df.drop_duplicates()\n",
    "df.info()"
   ]
  },
  {
   "cell_type": "markdown",
   "id": "4b4b5e0a",
   "metadata": {},
   "source": [
    "### 2.1 - Starting with categorical data"
   ]
  },
  {
   "cell_type": "code",
   "execution_count": 8,
   "id": "2b1c2119",
   "metadata": {},
   "outputs": [
    {
     "name": "stdout",
     "output_type": "stream",
     "text": [
      "2 \n",
      "\n",
      "No     16977\n",
      "Yes     1023\n",
      "Name: offer_accepted, dtype: int64 \n",
      "\n",
      "3 \n",
      "\n",
      "Air Miles    6061\n",
      "Cash Back    5999\n",
      "Points       5940\n",
      "Name: reward, dtype: int64 \n",
      "\n",
      "2 \n",
      "\n",
      "Postcard    9147\n",
      "Letter      8853\n",
      "Name: mailer_type, dtype: int64 \n",
      "\n",
      "3 \n",
      "\n",
      "Medium    9013\n",
      "High      4526\n",
      "Low       4461\n",
      "Name: income_level, dtype: int64 \n",
      "\n",
      "2 \n",
      "\n",
      "No     15322\n",
      "Yes     2678\n",
      "Name: overdraft_protection, dtype: int64 \n",
      "\n",
      "3 \n",
      "\n",
      "High      6071\n",
      "Medium    5972\n",
      "Low       5957\n",
      "Name: credit_rating, dtype: int64 \n",
      "\n",
      "2 \n",
      "\n",
      "Yes    11655\n",
      "No      6345\n",
      "Name: own_your_home, dtype: int64 \n",
      "\n"
     ]
    }
   ],
   "source": [
    "df_cat = df.select_dtypes('object')\n",
    "\n",
    "for col in df_cat.select_dtypes('object'):\n",
    "    print (df_cat[col].nunique(), '\\n')\n",
    "    print(df_cat[col].value_counts(), '\\n')\n"
   ]
  },
  {
   "cell_type": "markdown",
   "id": "ee900da0",
   "metadata": {},
   "source": [
    "Create visuals for all categorical colums. We can see that the target variable 'offer_accepted' is highly imbalanced."
   ]
  },
  {
   "cell_type": "code",
   "execution_count": 9,
   "id": "328e89b9",
   "metadata": {
    "scrolled": true
   },
   "outputs": [
    {
     "data": {
      "image/png": "[encoded data removed]",
      "text/plain": [
       "<Figure size 432x288 with 1 Axes>"
      ]
     },
     "metadata": {
      "needs_background": "light"
     },
     "output_type": "display_data"
    },
    {
     "data": {
      "image/png": "[encoded data removed]",
      "text/plain": [
       "<Figure size 432x288 with 1 Axes>"
      ]
     },
     "metadata": {
      "needs_background": "light"
     },
     "output_type": "display_data"
    },
    {
     "data": {
      "image/png": "[encoded data removed]",
      "text/plain": [
       "<Figure size 432x288 with 1 Axes>"
      ]
     },
     "metadata": {
      "needs_background": "light"
     },
     "output_type": "display_data"
    },
    {
     "data": {
      "image/png": "[encoded data removed]",
      "text/plain": [
       "<Figure size 432x288 with 1 Axes>"
      ]
     },
     "metadata": {
      "needs_background": "light"
     },
     "output_type": "display_data"
    },
    {
     "data": {
      "image/png": "[encoded data removed]",
      "text/plain": [
       "<Figure size 432x288 with 1 Axes>"
      ]
     },
     "metadata": {
      "needs_background": "light"
     },
     "output_type": "display_data"
    },
    {
     "data": {
      "image/png": "[encoded data removed]",
      "text/plain": [
       "<Figure size 432x288 with 1 Axes>"
      ]
     },
     "metadata": {
      "needs_background": "light"
     },
     "output_type": "display_data"
    },
    {
     "data": {
      "image/png": "[encoded data removed]",
      "text/plain": [
       "<Figure size 432x288 with 1 Axes>"
      ]
     },
     "metadata": {
      "needs_background": "light"
     },
     "output_type": "display_data"
    }
   ],
   "source": [
    "for col in df_cat:\n",
    "    sns.countplot(df_cat[col])\n",
    "    plt.show()"
   ]
  },
  {
   "cell_type": "code",
   "execution_count": 8,
   "id": "149a55a6",
   "metadata": {
    "scrolled": true
   },
   "outputs": [
    {
     "data": {
      "image/png": "[encoded data removed]",
      "text/plain": [
       "<Figure size 432x288 with 1 Axes>"
      ]
     },
     "metadata": {
      "needs_background": "light"
     },
     "output_type": "display_data"
    }
   ],
   "source": [
    "plt.figure(figsize=(6,4))\n",
    "sns.countplot(data=df, x=\"income_level\", hue=\"own_your_home\")\n",
    "plt.show()"
   ]
  },
  {
   "cell_type": "code",
   "execution_count": null,
   "id": "0e3532b1",
   "metadata": {},
   "outputs": [],
   "source": [
    "plt.figure(figsize=(6,4))\n",
    "sns.countplot(data=df, x=\"state\", hue=\"location_code\")\n",
    "plt.show()"
   ]
  },
  {
   "cell_type": "markdown",
   "id": "7cc44a74",
   "metadata": {},
   "source": [
    "### 2.2  Then numerical variables"
   ]
  },
  {
   "cell_type": "markdown",
   "id": "3a764b02",
   "metadata": {},
   "source": [
    "**Dealing with NAN values**"
   ]
  },
  {
   "cell_type": "code",
   "execution_count": 9,
   "id": "4d2b37f0",
   "metadata": {
    "scrolled": false
   },
   "outputs": [
    {
     "data": {
      "text/plain": [
       "offer_accepted           0\n",
       "reward                   0\n",
       "mailer_type              0\n",
       "income_level             0\n",
       "bank_accounts_open       0\n",
       "overdraft_protection     0\n",
       "credit_rating            0\n",
       "credit_cards_held        0\n",
       "homes_owned              0\n",
       "household_size           0\n",
       "own_your_home            0\n",
       "average_balance         24\n",
       "q1_balance              24\n",
       "q2_balance              24\n",
       "q3_balance              24\n",
       "q4_balance              24\n",
       "dtype: int64"
      ]
     },
     "execution_count": 9,
     "metadata": {},
     "output_type": "execute_result"
    }
   ],
   "source": [
    "df.isna().sum()"
   ]
  },
  {
   "cell_type": "code",
   "execution_count": 10,
   "id": "78d95b95",
   "metadata": {
    "scrolled": false
   },
   "outputs": [
    {
     "data": {
      "text/html": [
       "<div>\n",
       "<style scoped>\n",
       "    .dataframe tbody tr th:only-of-type {\n",
       "        vertical-align: middle;\n",
       "    }\n",
       "\n",
       "    .dataframe tbody tr th {\n",
       "        vertical-align: top;\n",
       "    }\n",
       "\n",
       "    .dataframe thead th {\n",
       "        text-align: right;\n",
       "    }\n",
       "</style>\n",
       "<table border=\"1\" class=\"dataframe\">\n",
       "  <thead>\n",
       "    <tr style=\"text-align: right;\">\n",
       "      <th></th>\n",
       "      <th>offer_accepted</th>\n",
       "      <th>reward</th>\n",
       "      <th>mailer_type</th>\n",
       "      <th>income_level</th>\n",
       "      <th>bank_accounts_open</th>\n",
       "      <th>overdraft_protection</th>\n",
       "      <th>credit_rating</th>\n",
       "      <th>credit_cards_held</th>\n",
       "      <th>homes_owned</th>\n",
       "      <th>household_size</th>\n",
       "      <th>own_your_home</th>\n",
       "      <th>average_balance</th>\n",
       "      <th>q1_balance</th>\n",
       "      <th>q2_balance</th>\n",
       "      <th>q3_balance</th>\n",
       "      <th>q4_balance</th>\n",
       "    </tr>\n",
       "    <tr>\n",
       "      <th>customer_number</th>\n",
       "      <th></th>\n",
       "      <th></th>\n",
       "      <th></th>\n",
       "      <th></th>\n",
       "      <th></th>\n",
       "      <th></th>\n",
       "      <th></th>\n",
       "      <th></th>\n",
       "      <th></th>\n",
       "      <th></th>\n",
       "      <th></th>\n",
       "      <th></th>\n",
       "      <th></th>\n",
       "      <th></th>\n",
       "      <th></th>\n",
       "      <th></th>\n",
       "    </tr>\n",
       "  </thead>\n",
       "  <tbody>\n",
       "    <tr>\n",
       "      <th>324</th>\n",
       "      <td>No</td>\n",
       "      <td>Points</td>\n",
       "      <td>Postcard</td>\n",
       "      <td>Medium</td>\n",
       "      <td>1</td>\n",
       "      <td>No</td>\n",
       "      <td>High</td>\n",
       "      <td>1</td>\n",
       "      <td>1</td>\n",
       "      <td>4</td>\n",
       "      <td>No</td>\n",
       "      <td>NaN</td>\n",
       "      <td>NaN</td>\n",
       "      <td>NaN</td>\n",
       "      <td>NaN</td>\n",
       "      <td>NaN</td>\n",
       "    </tr>\n",
       "    <tr>\n",
       "      <th>3071</th>\n",
       "      <td>Yes</td>\n",
       "      <td>Air Miles</td>\n",
       "      <td>Postcard</td>\n",
       "      <td>Low</td>\n",
       "      <td>3</td>\n",
       "      <td>No</td>\n",
       "      <td>Medium</td>\n",
       "      <td>2</td>\n",
       "      <td>1</td>\n",
       "      <td>4</td>\n",
       "      <td>Yes</td>\n",
       "      <td>NaN</td>\n",
       "      <td>NaN</td>\n",
       "      <td>NaN</td>\n",
       "      <td>NaN</td>\n",
       "      <td>NaN</td>\n",
       "    </tr>\n",
       "    <tr>\n",
       "      <th>3109</th>\n",
       "      <td>No</td>\n",
       "      <td>Air Miles</td>\n",
       "      <td>Letter</td>\n",
       "      <td>Low</td>\n",
       "      <td>1</td>\n",
       "      <td>No</td>\n",
       "      <td>High</td>\n",
       "      <td>3</td>\n",
       "      <td>1</td>\n",
       "      <td>4</td>\n",
       "      <td>Yes</td>\n",
       "      <td>NaN</td>\n",
       "      <td>NaN</td>\n",
       "      <td>NaN</td>\n",
       "      <td>NaN</td>\n",
       "      <td>NaN</td>\n",
       "    </tr>\n",
       "    <tr>\n",
       "      <th>3790</th>\n",
       "      <td>No</td>\n",
       "      <td>Air Miles</td>\n",
       "      <td>Letter</td>\n",
       "      <td>Medium</td>\n",
       "      <td>2</td>\n",
       "      <td>No</td>\n",
       "      <td>High</td>\n",
       "      <td>3</td>\n",
       "      <td>1</td>\n",
       "      <td>3</td>\n",
       "      <td>No</td>\n",
       "      <td>NaN</td>\n",
       "      <td>NaN</td>\n",
       "      <td>NaN</td>\n",
       "      <td>NaN</td>\n",
       "      <td>NaN</td>\n",
       "    </tr>\n",
       "    <tr>\n",
       "      <th>5084</th>\n",
       "      <td>No</td>\n",
       "      <td>Points</td>\n",
       "      <td>Letter</td>\n",
       "      <td>Medium</td>\n",
       "      <td>1</td>\n",
       "      <td>No</td>\n",
       "      <td>High</td>\n",
       "      <td>1</td>\n",
       "      <td>1</td>\n",
       "      <td>3</td>\n",
       "      <td>Yes</td>\n",
       "      <td>NaN</td>\n",
       "      <td>NaN</td>\n",
       "      <td>NaN</td>\n",
       "      <td>NaN</td>\n",
       "      <td>NaN</td>\n",
       "    </tr>\n",
       "    <tr>\n",
       "      <th>5678</th>\n",
       "      <td>No</td>\n",
       "      <td>Air Miles</td>\n",
       "      <td>Postcard</td>\n",
       "      <td>Low</td>\n",
       "      <td>1</td>\n",
       "      <td>No</td>\n",
       "      <td>Low</td>\n",
       "      <td>2</td>\n",
       "      <td>1</td>\n",
       "      <td>4</td>\n",
       "      <td>Yes</td>\n",
       "      <td>NaN</td>\n",
       "      <td>NaN</td>\n",
       "      <td>NaN</td>\n",
       "      <td>NaN</td>\n",
       "      <td>NaN</td>\n",
       "    </tr>\n",
       "    <tr>\n",
       "      <th>5690</th>\n",
       "      <td>No</td>\n",
       "      <td>Air Miles</td>\n",
       "      <td>Postcard</td>\n",
       "      <td>Medium</td>\n",
       "      <td>1</td>\n",
       "      <td>No</td>\n",
       "      <td>Medium</td>\n",
       "      <td>3</td>\n",
       "      <td>1</td>\n",
       "      <td>5</td>\n",
       "      <td>No</td>\n",
       "      <td>NaN</td>\n",
       "      <td>NaN</td>\n",
       "      <td>NaN</td>\n",
       "      <td>NaN</td>\n",
       "      <td>NaN</td>\n",
       "    </tr>\n",
       "    <tr>\n",
       "      <th>6933</th>\n",
       "      <td>No</td>\n",
       "      <td>Air Miles</td>\n",
       "      <td>Postcard</td>\n",
       "      <td>Medium</td>\n",
       "      <td>1</td>\n",
       "      <td>No</td>\n",
       "      <td>Medium</td>\n",
       "      <td>2</td>\n",
       "      <td>2</td>\n",
       "      <td>4</td>\n",
       "      <td>Yes</td>\n",
       "      <td>NaN</td>\n",
       "      <td>NaN</td>\n",
       "      <td>NaN</td>\n",
       "      <td>NaN</td>\n",
       "      <td>NaN</td>\n",
       "    </tr>\n",
       "    <tr>\n",
       "      <th>7788</th>\n",
       "      <td>No</td>\n",
       "      <td>Air Miles</td>\n",
       "      <td>Letter</td>\n",
       "      <td>Low</td>\n",
       "      <td>2</td>\n",
       "      <td>No</td>\n",
       "      <td>Low</td>\n",
       "      <td>1</td>\n",
       "      <td>1</td>\n",
       "      <td>4</td>\n",
       "      <td>Yes</td>\n",
       "      <td>NaN</td>\n",
       "      <td>NaN</td>\n",
       "      <td>NaN</td>\n",
       "      <td>NaN</td>\n",
       "      <td>NaN</td>\n",
       "    </tr>\n",
       "    <tr>\n",
       "      <th>7865</th>\n",
       "      <td>No</td>\n",
       "      <td>Cash Back</td>\n",
       "      <td>Postcard</td>\n",
       "      <td>High</td>\n",
       "      <td>2</td>\n",
       "      <td>Yes</td>\n",
       "      <td>Low</td>\n",
       "      <td>2</td>\n",
       "      <td>1</td>\n",
       "      <td>3</td>\n",
       "      <td>No</td>\n",
       "      <td>NaN</td>\n",
       "      <td>NaN</td>\n",
       "      <td>NaN</td>\n",
       "      <td>NaN</td>\n",
       "      <td>NaN</td>\n",
       "    </tr>\n",
       "    <tr>\n",
       "      <th>8152</th>\n",
       "      <td>No</td>\n",
       "      <td>Cash Back</td>\n",
       "      <td>Letter</td>\n",
       "      <td>Low</td>\n",
       "      <td>2</td>\n",
       "      <td>No</td>\n",
       "      <td>Medium</td>\n",
       "      <td>2</td>\n",
       "      <td>2</td>\n",
       "      <td>3</td>\n",
       "      <td>Yes</td>\n",
       "      <td>NaN</td>\n",
       "      <td>NaN</td>\n",
       "      <td>NaN</td>\n",
       "      <td>NaN</td>\n",
       "      <td>NaN</td>\n",
       "    </tr>\n",
       "    <tr>\n",
       "      <th>8635</th>\n",
       "      <td>No</td>\n",
       "      <td>Air Miles</td>\n",
       "      <td>Postcard</td>\n",
       "      <td>High</td>\n",
       "      <td>1</td>\n",
       "      <td>No</td>\n",
       "      <td>High</td>\n",
       "      <td>2</td>\n",
       "      <td>1</td>\n",
       "      <td>3</td>\n",
       "      <td>Yes</td>\n",
       "      <td>NaN</td>\n",
       "      <td>NaN</td>\n",
       "      <td>NaN</td>\n",
       "      <td>NaN</td>\n",
       "      <td>NaN</td>\n",
       "    </tr>\n",
       "    <tr>\n",
       "      <th>10040</th>\n",
       "      <td>No</td>\n",
       "      <td>Cash Back</td>\n",
       "      <td>Postcard</td>\n",
       "      <td>Medium</td>\n",
       "      <td>1</td>\n",
       "      <td>No</td>\n",
       "      <td>Low</td>\n",
       "      <td>2</td>\n",
       "      <td>1</td>\n",
       "      <td>4</td>\n",
       "      <td>Yes</td>\n",
       "      <td>NaN</td>\n",
       "      <td>NaN</td>\n",
       "      <td>NaN</td>\n",
       "      <td>NaN</td>\n",
       "      <td>NaN</td>\n",
       "    </tr>\n",
       "    <tr>\n",
       "      <th>10861</th>\n",
       "      <td>No</td>\n",
       "      <td>Points</td>\n",
       "      <td>Letter</td>\n",
       "      <td>Medium</td>\n",
       "      <td>1</td>\n",
       "      <td>Yes</td>\n",
       "      <td>Low</td>\n",
       "      <td>1</td>\n",
       "      <td>2</td>\n",
       "      <td>4</td>\n",
       "      <td>Yes</td>\n",
       "      <td>NaN</td>\n",
       "      <td>NaN</td>\n",
       "      <td>NaN</td>\n",
       "      <td>NaN</td>\n",
       "      <td>NaN</td>\n",
       "    </tr>\n",
       "    <tr>\n",
       "      <th>12480</th>\n",
       "      <td>No</td>\n",
       "      <td>Points</td>\n",
       "      <td>Letter</td>\n",
       "      <td>Medium</td>\n",
       "      <td>1</td>\n",
       "      <td>No</td>\n",
       "      <td>Medium</td>\n",
       "      <td>3</td>\n",
       "      <td>1</td>\n",
       "      <td>4</td>\n",
       "      <td>Yes</td>\n",
       "      <td>NaN</td>\n",
       "      <td>NaN</td>\n",
       "      <td>NaN</td>\n",
       "      <td>NaN</td>\n",
       "      <td>NaN</td>\n",
       "    </tr>\n",
       "    <tr>\n",
       "      <th>12560</th>\n",
       "      <td>No</td>\n",
       "      <td>Air Miles</td>\n",
       "      <td>Letter</td>\n",
       "      <td>High</td>\n",
       "      <td>1</td>\n",
       "      <td>No</td>\n",
       "      <td>Low</td>\n",
       "      <td>2</td>\n",
       "      <td>1</td>\n",
       "      <td>5</td>\n",
       "      <td>Yes</td>\n",
       "      <td>NaN</td>\n",
       "      <td>NaN</td>\n",
       "      <td>NaN</td>\n",
       "      <td>NaN</td>\n",
       "      <td>NaN</td>\n",
       "    </tr>\n",
       "    <tr>\n",
       "      <th>12946</th>\n",
       "      <td>No</td>\n",
       "      <td>Points</td>\n",
       "      <td>Letter</td>\n",
       "      <td>High</td>\n",
       "      <td>1</td>\n",
       "      <td>No</td>\n",
       "      <td>Low</td>\n",
       "      <td>2</td>\n",
       "      <td>1</td>\n",
       "      <td>4</td>\n",
       "      <td>Yes</td>\n",
       "      <td>NaN</td>\n",
       "      <td>NaN</td>\n",
       "      <td>NaN</td>\n",
       "      <td>NaN</td>\n",
       "      <td>NaN</td>\n",
       "    </tr>\n",
       "    <tr>\n",
       "      <th>13314</th>\n",
       "      <td>Yes</td>\n",
       "      <td>Air Miles</td>\n",
       "      <td>Postcard</td>\n",
       "      <td>Medium</td>\n",
       "      <td>1</td>\n",
       "      <td>No</td>\n",
       "      <td>Medium</td>\n",
       "      <td>1</td>\n",
       "      <td>1</td>\n",
       "      <td>3</td>\n",
       "      <td>Yes</td>\n",
       "      <td>NaN</td>\n",
       "      <td>NaN</td>\n",
       "      <td>NaN</td>\n",
       "      <td>NaN</td>\n",
       "      <td>NaN</td>\n",
       "    </tr>\n",
       "    <tr>\n",
       "      <th>13471</th>\n",
       "      <td>No</td>\n",
       "      <td>Air Miles</td>\n",
       "      <td>Postcard</td>\n",
       "      <td>Medium</td>\n",
       "      <td>1</td>\n",
       "      <td>No</td>\n",
       "      <td>Medium</td>\n",
       "      <td>2</td>\n",
       "      <td>1</td>\n",
       "      <td>3</td>\n",
       "      <td>Yes</td>\n",
       "      <td>NaN</td>\n",
       "      <td>NaN</td>\n",
       "      <td>NaN</td>\n",
       "      <td>NaN</td>\n",
       "      <td>NaN</td>\n",
       "    </tr>\n",
       "    <tr>\n",
       "      <th>14667</th>\n",
       "      <td>No</td>\n",
       "      <td>Air Miles</td>\n",
       "      <td>Postcard</td>\n",
       "      <td>High</td>\n",
       "      <td>1</td>\n",
       "      <td>No</td>\n",
       "      <td>Medium</td>\n",
       "      <td>3</td>\n",
       "      <td>1</td>\n",
       "      <td>2</td>\n",
       "      <td>Yes</td>\n",
       "      <td>NaN</td>\n",
       "      <td>NaN</td>\n",
       "      <td>NaN</td>\n",
       "      <td>NaN</td>\n",
       "      <td>NaN</td>\n",
       "    </tr>\n",
       "    <tr>\n",
       "      <th>14699</th>\n",
       "      <td>No</td>\n",
       "      <td>Points</td>\n",
       "      <td>Postcard</td>\n",
       "      <td>High</td>\n",
       "      <td>1</td>\n",
       "      <td>No</td>\n",
       "      <td>Low</td>\n",
       "      <td>3</td>\n",
       "      <td>1</td>\n",
       "      <td>2</td>\n",
       "      <td>Yes</td>\n",
       "      <td>NaN</td>\n",
       "      <td>NaN</td>\n",
       "      <td>NaN</td>\n",
       "      <td>NaN</td>\n",
       "      <td>NaN</td>\n",
       "    </tr>\n",
       "    <tr>\n",
       "      <th>15708</th>\n",
       "      <td>No</td>\n",
       "      <td>Cash Back</td>\n",
       "      <td>Letter</td>\n",
       "      <td>High</td>\n",
       "      <td>2</td>\n",
       "      <td>No</td>\n",
       "      <td>High</td>\n",
       "      <td>1</td>\n",
       "      <td>1</td>\n",
       "      <td>2</td>\n",
       "      <td>Yes</td>\n",
       "      <td>NaN</td>\n",
       "      <td>NaN</td>\n",
       "      <td>NaN</td>\n",
       "      <td>NaN</td>\n",
       "      <td>NaN</td>\n",
       "    </tr>\n",
       "    <tr>\n",
       "      <th>15934</th>\n",
       "      <td>No</td>\n",
       "      <td>Air Miles</td>\n",
       "      <td>Postcard</td>\n",
       "      <td>Low</td>\n",
       "      <td>1</td>\n",
       "      <td>No</td>\n",
       "      <td>High</td>\n",
       "      <td>2</td>\n",
       "      <td>1</td>\n",
       "      <td>2</td>\n",
       "      <td>Yes</td>\n",
       "      <td>NaN</td>\n",
       "      <td>NaN</td>\n",
       "      <td>NaN</td>\n",
       "      <td>NaN</td>\n",
       "      <td>NaN</td>\n",
       "    </tr>\n",
       "    <tr>\n",
       "      <th>17105</th>\n",
       "      <td>No</td>\n",
       "      <td>Air Miles</td>\n",
       "      <td>Letter</td>\n",
       "      <td>Medium</td>\n",
       "      <td>1</td>\n",
       "      <td>No</td>\n",
       "      <td>Low</td>\n",
       "      <td>1</td>\n",
       "      <td>1</td>\n",
       "      <td>4</td>\n",
       "      <td>No</td>\n",
       "      <td>NaN</td>\n",
       "      <td>NaN</td>\n",
       "      <td>NaN</td>\n",
       "      <td>NaN</td>\n",
       "      <td>NaN</td>\n",
       "    </tr>\n",
       "  </tbody>\n",
       "</table>\n",
       "</div>"
      ],
      "text/plain": [
       "                offer_accepted     reward mailer_type income_level  \\\n",
       "customer_number                                                      \n",
       "324                         No     Points    Postcard       Medium   \n",
       "3071                       Yes  Air Miles    Postcard          Low   \n",
       "3109                        No  Air Miles      Letter          Low   \n",
       "3790                        No  Air Miles      Letter       Medium   \n",
       "5084                        No     Points      Letter       Medium   \n",
       "5678                        No  Air Miles    Postcard          Low   \n",
       "5690                        No  Air Miles    Postcard       Medium   \n",
       "6933                        No  Air Miles    Postcard       Medium   \n",
       "7788                        No  Air Miles      Letter          Low   \n",
       "7865                        No  Cash Back    Postcard         High   \n",
       "8152                        No  Cash Back      Letter          Low   \n",
       "8635                        No  Air Miles    Postcard         High   \n",
       "10040                       No  Cash Back    Postcard       Medium   \n",
       "10861                       No     Points      Letter       Medium   \n",
       "12480                       No     Points      Letter       Medium   \n",
       "12560                       No  Air Miles      Letter         High   \n",
       "12946                       No     Points      Letter         High   \n",
       "13314                      Yes  Air Miles    Postcard       Medium   \n",
       "13471                       No  Air Miles    Postcard       Medium   \n",
       "14667                       No  Air Miles    Postcard         High   \n",
       "14699                       No     Points    Postcard         High   \n",
       "15708                       No  Cash Back      Letter         High   \n",
       "15934                       No  Air Miles    Postcard          Low   \n",
       "17105                       No  Air Miles      Letter       Medium   \n",
       "\n",
       "                 bank_accounts_open overdraft_protection credit_rating  \\\n",
       "customer_number                                                          \n",
       "324                               1                   No          High   \n",
       "3071                              3                   No        Medium   \n",
       "3109                              1                   No          High   \n",
       "3790                              2                   No          High   \n",
       "5084                              1                   No          High   \n",
       "5678                              1                   No           Low   \n",
       "5690                              1                   No        Medium   \n",
       "6933                              1                   No        Medium   \n",
       "7788                              2                   No           Low   \n",
       "7865                              2                  Yes           Low   \n",
       "8152                              2                   No        Medium   \n",
       "8635                              1                   No          High   \n",
       "10040                             1                   No           Low   \n",
       "10861                             1                  Yes           Low   \n",
       "12480                             1                   No        Medium   \n",
       "12560                             1                   No           Low   \n",
       "12946                             1                   No           Low   \n",
       "13314                             1                   No        Medium   \n",
       "13471                             1                   No        Medium   \n",
       "14667                             1                   No        Medium   \n",
       "14699                             1                   No           Low   \n",
       "15708                             2                   No          High   \n",
       "15934                             1                   No          High   \n",
       "17105                             1                   No           Low   \n",
       "\n",
       "                 credit_cards_held  homes_owned  household_size own_your_home  \\\n",
       "customer_number                                                                 \n",
       "324                              1            1               4            No   \n",
       "3071                             2            1               4           Yes   \n",
       "3109                             3            1               4           Yes   \n",
       "3790                             3            1               3            No   \n",
       "5084                             1            1               3           Yes   \n",
       "5678                             2            1               4           Yes   \n",
       "5690                             3            1               5            No   \n",
       "6933                             2            2               4           Yes   \n",
       "7788                             1            1               4           Yes   \n",
       "7865                             2            1               3            No   \n",
       "8152                             2            2               3           Yes   \n",
       "8635                             2            1               3           Yes   \n",
       "10040                            2            1               4           Yes   \n",
       "10861                            1            2               4           Yes   \n",
       "12480                            3            1               4           Yes   \n",
       "12560                            2            1               5           Yes   \n",
       "12946                            2            1               4           Yes   \n",
       "13314                            1            1               3           Yes   \n",
       "13471                            2            1               3           Yes   \n",
       "14667                            3            1               2           Yes   \n",
       "14699                            3            1               2           Yes   \n",
       "15708                            1            1               2           Yes   \n",
       "15934                            2            1               2           Yes   \n",
       "17105                            1            1               4            No   \n",
       "\n",
       "                 average_balance  q1_balance  q2_balance  q3_balance  \\\n",
       "customer_number                                                        \n",
       "324                          NaN         NaN         NaN         NaN   \n",
       "3071                         NaN         NaN         NaN         NaN   \n",
       "3109                         NaN         NaN         NaN         NaN   \n",
       "3790                         NaN         NaN         NaN         NaN   \n",
       "5084                         NaN         NaN         NaN         NaN   \n",
       "5678                         NaN         NaN         NaN         NaN   \n",
       "5690                         NaN         NaN         NaN         NaN   \n",
       "6933                         NaN         NaN         NaN         NaN   \n",
       "7788                         NaN         NaN         NaN         NaN   \n",
       "7865                         NaN         NaN         NaN         NaN   \n",
       "8152                         NaN         NaN         NaN         NaN   \n",
       "8635                         NaN         NaN         NaN         NaN   \n",
       "10040                        NaN         NaN         NaN         NaN   \n",
       "10861                        NaN         NaN         NaN         NaN   \n",
       "12480                        NaN         NaN         NaN         NaN   \n",
       "12560                        NaN         NaN         NaN         NaN   \n",
       "12946                        NaN         NaN         NaN         NaN   \n",
       "13314                        NaN         NaN         NaN         NaN   \n",
       "13471                        NaN         NaN         NaN         NaN   \n",
       "14667                        NaN         NaN         NaN         NaN   \n",
       "14699                        NaN         NaN         NaN         NaN   \n",
       "15708                        NaN         NaN         NaN         NaN   \n",
       "15934                        NaN         NaN         NaN         NaN   \n",
       "17105                        NaN         NaN         NaN         NaN   \n",
       "\n",
       "                 q4_balance  \n",
       "customer_number              \n",
       "324                     NaN  \n",
       "3071                    NaN  \n",
       "3109                    NaN  \n",
       "3790                    NaN  \n",
       "5084                    NaN  \n",
       "5678                    NaN  \n",
       "5690                    NaN  \n",
       "6933                    NaN  \n",
       "7788                    NaN  \n",
       "7865                    NaN  \n",
       "8152                    NaN  \n",
       "8635                    NaN  \n",
       "10040                   NaN  \n",
       "10861                   NaN  \n",
       "12480                   NaN  \n",
       "12560                   NaN  \n",
       "12946                   NaN  \n",
       "13314                   NaN  \n",
       "13471                   NaN  \n",
       "14667                   NaN  \n",
       "14699                   NaN  \n",
       "15708                   NaN  \n",
       "15934                   NaN  \n",
       "17105                   NaN  "
      ]
     },
     "execution_count": 10,
     "metadata": {},
     "output_type": "execute_result"
    }
   ],
   "source": [
    "# checking the rows that are null \n",
    "df[df['q1_balance'].isna()==True] "
   ]
  },
  {
   "cell_type": "code",
   "execution_count": 81,
   "id": "eba49427",
   "metadata": {
    "scrolled": true
   },
   "outputs": [],
   "source": [
    "# since there are only 24 rows with NAN values in the whole dataframe i.e 0,13% of the data, I will drop them.\n",
    "\n",
    "df = df.dropna()\n",
    "df = df.reset_index(drop=True)\n"
   ]
  },
  {
   "cell_type": "markdown",
   "id": "d83622d1",
   "metadata": {},
   "source": [
    "**Exploring data**"
   ]
  },
  {
   "cell_type": "code",
   "execution_count": 101,
   "id": "48cbde6c",
   "metadata": {
    "scrolled": false
   },
   "outputs": [
    {
     "data": {
      "text/html": [
       "<div>\n",
       "<style scoped>\n",
       "    .dataframe tbody tr th:only-of-type {\n",
       "        vertical-align: middle;\n",
       "    }\n",
       "\n",
       "    .dataframe tbody tr th {\n",
       "        vertical-align: top;\n",
       "    }\n",
       "\n",
       "    .dataframe thead th {\n",
       "        text-align: right;\n",
       "    }\n",
       "</style>\n",
       "<table border=\"1\" class=\"dataframe\">\n",
       "  <thead>\n",
       "    <tr style=\"text-align: right;\">\n",
       "      <th></th>\n",
       "      <th>bank_accounts_open</th>\n",
       "      <th>credit_cards_held</th>\n",
       "      <th>homes_owned</th>\n",
       "      <th>household_size</th>\n",
       "      <th>average_balance</th>\n",
       "      <th>q1_balance</th>\n",
       "      <th>q2_balance</th>\n",
       "      <th>q3_balance</th>\n",
       "      <th>q4_balance</th>\n",
       "    </tr>\n",
       "  </thead>\n",
       "  <tbody>\n",
       "    <tr>\n",
       "      <th>count</th>\n",
       "      <td>17976.000000</td>\n",
       "      <td>17976.000000</td>\n",
       "      <td>17976.000000</td>\n",
       "      <td>17976.000000</td>\n",
       "      <td>17976.000000</td>\n",
       "      <td>17976.000000</td>\n",
       "      <td>17976.000000</td>\n",
       "      <td>17976.000000</td>\n",
       "      <td>17976.000000</td>\n",
       "    </tr>\n",
       "    <tr>\n",
       "      <th>mean</th>\n",
       "      <td>1.255730</td>\n",
       "      <td>1.903427</td>\n",
       "      <td>1.203549</td>\n",
       "      <td>3.499110</td>\n",
       "      <td>940.515562</td>\n",
       "      <td>910.450656</td>\n",
       "      <td>999.392190</td>\n",
       "      <td>1042.033600</td>\n",
       "      <td>810.185803</td>\n",
       "    </tr>\n",
       "    <tr>\n",
       "      <th>std</th>\n",
       "      <td>0.472405</td>\n",
       "      <td>0.797086</td>\n",
       "      <td>0.427446</td>\n",
       "      <td>1.114476</td>\n",
       "      <td>350.297837</td>\n",
       "      <td>620.077060</td>\n",
       "      <td>457.402268</td>\n",
       "      <td>553.452599</td>\n",
       "      <td>559.001365</td>\n",
       "    </tr>\n",
       "    <tr>\n",
       "      <th>min</th>\n",
       "      <td>1.000000</td>\n",
       "      <td>1.000000</td>\n",
       "      <td>1.000000</td>\n",
       "      <td>1.000000</td>\n",
       "      <td>48.250000</td>\n",
       "      <td>0.000000</td>\n",
       "      <td>0.000000</td>\n",
       "      <td>0.000000</td>\n",
       "      <td>0.000000</td>\n",
       "    </tr>\n",
       "    <tr>\n",
       "      <th>25%</th>\n",
       "      <td>1.000000</td>\n",
       "      <td>1.000000</td>\n",
       "      <td>1.000000</td>\n",
       "      <td>3.000000</td>\n",
       "      <td>787.500000</td>\n",
       "      <td>392.750000</td>\n",
       "      <td>663.000000</td>\n",
       "      <td>633.000000</td>\n",
       "      <td>363.000000</td>\n",
       "    </tr>\n",
       "    <tr>\n",
       "      <th>50%</th>\n",
       "      <td>1.000000</td>\n",
       "      <td>2.000000</td>\n",
       "      <td>1.000000</td>\n",
       "      <td>3.000000</td>\n",
       "      <td>1007.000000</td>\n",
       "      <td>772.000000</td>\n",
       "      <td>1032.000000</td>\n",
       "      <td>945.500000</td>\n",
       "      <td>703.000000</td>\n",
       "    </tr>\n",
       "    <tr>\n",
       "      <th>75%</th>\n",
       "      <td>1.000000</td>\n",
       "      <td>2.000000</td>\n",
       "      <td>1.000000</td>\n",
       "      <td>4.000000</td>\n",
       "      <td>1153.250000</td>\n",
       "      <td>1521.000000</td>\n",
       "      <td>1342.000000</td>\n",
       "      <td>1463.000000</td>\n",
       "      <td>1212.000000</td>\n",
       "    </tr>\n",
       "    <tr>\n",
       "      <th>max</th>\n",
       "      <td>3.000000</td>\n",
       "      <td>4.000000</td>\n",
       "      <td>3.000000</td>\n",
       "      <td>9.000000</td>\n",
       "      <td>3366.250000</td>\n",
       "      <td>3450.000000</td>\n",
       "      <td>3421.000000</td>\n",
       "      <td>3823.000000</td>\n",
       "      <td>4215.000000</td>\n",
       "    </tr>\n",
       "  </tbody>\n",
       "</table>\n",
       "</div>"
      ],
      "text/plain": [
       "       bank_accounts_open  credit_cards_held   homes_owned  household_size  \\\n",
       "count        17976.000000       17976.000000  17976.000000    17976.000000   \n",
       "mean             1.255730           1.903427      1.203549        3.499110   \n",
       "std              0.472405           0.797086      0.427446        1.114476   \n",
       "min              1.000000           1.000000      1.000000        1.000000   \n",
       "25%              1.000000           1.000000      1.000000        3.000000   \n",
       "50%              1.000000           2.000000      1.000000        3.000000   \n",
       "75%              1.000000           2.000000      1.000000        4.000000   \n",
       "max              3.000000           4.000000      3.000000        9.000000   \n",
       "\n",
       "       average_balance    q1_balance    q2_balance    q3_balance    q4_balance  \n",
       "count     17976.000000  17976.000000  17976.000000  17976.000000  17976.000000  \n",
       "mean        940.515562    910.450656    999.392190   1042.033600    810.185803  \n",
       "std         350.297837    620.077060    457.402268    553.452599    559.001365  \n",
       "min          48.250000      0.000000      0.000000      0.000000      0.000000  \n",
       "25%         787.500000    392.750000    663.000000    633.000000    363.000000  \n",
       "50%        1007.000000    772.000000   1032.000000    945.500000    703.000000  \n",
       "75%        1153.250000   1521.000000   1342.000000   1463.000000   1212.000000  \n",
       "max        3366.250000   3450.000000   3421.000000   3823.000000   4215.000000  "
      ]
     },
     "execution_count": 101,
     "metadata": {},
     "output_type": "execute_result"
    }
   ],
   "source": [
    "df.describe()"
   ]
  },
  {
   "cell_type": "markdown",
   "id": "fbd78ee5",
   "metadata": {},
   "source": [
    "**Create a function to plot graphs of the continuous and discrete variables**"
   ]
  },
  {
   "cell_type": "code",
   "execution_count": 13,
   "id": "76b9566a",
   "metadata": {},
   "outputs": [],
   "source": [
    "def numerical_plotting(df):\n",
    "    continuous = df.select_dtypes('float64')\n",
    "    discrete = df.select_dtypes('int64')\n",
    "    \n",
    "    for col in continuous:\n",
    "        sns.distplot(continuous[col])\n",
    "        plt.show()\n",
    "        \n",
    "    for col in discrete:\n",
    "        sns.countplot(discrete[col])\n",
    "        plt.show()"
   ]
  },
  {
   "cell_type": "code",
   "execution_count": 14,
   "id": "f18a1704",
   "metadata": {
    "scrolled": false
   },
   "outputs": [
    {
     "data": {
      "image/png": "[encoded data removed]",
      "text/plain": [
       "<Figure size 432x288 with 1 Axes>"
      ]
     },
     "metadata": {
      "needs_background": "light"
     },
     "output_type": "display_data"
    },
    {
     "data": {
      "image/png": "[encoded data removed]",
      "text/plain": [
       "<Figure size 432x288 with 1 Axes>"
      ]
     },
     "metadata": {
      "needs_background": "light"
     },
     "output_type": "display_data"
    },
    {
     "data": {
      "image/png": "[encoded data removed]",
      "text/plain": [
       "<Figure size 432x288 with 1 Axes>"
      ]
     },
     "metadata": {
      "needs_background": "light"
     },
     "output_type": "display_data"
    },
    {
     "data": {
      "image/png": "[encoded data removed]",
      "text/plain": [
       "<Figure size 432x288 with 1 Axes>"
      ]
     },
     "metadata": {
      "needs_background": "light"
     },
     "output_type": "display_data"
    },
    {
     "data": {
      "image/png": "[encoded data removed]",
      "text/plain": [
       "<Figure size 432x288 with 1 Axes>"
      ]
     },
     "metadata": {
      "needs_background": "light"
     },
     "output_type": "display_data"
    },
    {
     "data": {
      "image/png": "[encoded data removed]",
      "text/plain": [
       "<Figure size 432x288 with 1 Axes>"
      ]
     },
     "metadata": {
      "needs_background": "light"
     },
     "output_type": "display_data"
    },
    {
     "data": {
      "image/png": "[encoded data removed]",
      "text/plain": [
       "<Figure size 432x288 with 1 Axes>"
      ]
     },
     "metadata": {
      "needs_background": "light"
     },
     "output_type": "display_data"
    },
    {
     "data": {
      "image/png": "[encoded data removed]",
      "text/plain": [
       "<Figure size 432x288 with 1 Axes>"
      ]
     },
     "metadata": {
      "needs_background": "light"
     },
     "output_type": "display_data"
    },
    {
     "data": {
      "image/png": "[encoded data removed]",
      "text/plain": [
       "<Figure size 432x288 with 1 Axes>"
      ]
     },
     "metadata": {
      "needs_background": "light"
     },
     "output_type": "display_data"
    }
   ],
   "source": [
    "numerical_plotting(df)"
   ]
  },
  {
   "cell_type": "markdown",
   "id": "befbbccd",
   "metadata": {},
   "source": [
    "Correlation analysis"
   ]
  },
  {
   "cell_type": "markdown",
   "id": "8f56758c",
   "metadata": {},
   "source": [
    "Covariance visualization :\n",
    "we are only working on continuous variables since the discrete variables are featured as categorical variables."
   ]
  },
  {
   "cell_type": "code",
   "execution_count": 16,
   "id": "a3972691",
   "metadata": {
    "scrolled": true
   },
   "outputs": [
    {
     "data": {
      "image/png": "[encoded data removed]",
      "text/plain": [
       "<Figure size 900x900 with 30 Axes>"
      ]
     },
     "metadata": {
      "needs_background": "light"
     },
     "output_type": "display_data"
    }
   ],
   "source": [
    "continuous = df.select_dtypes('float64')\n",
    "sns.pairplot(continuous)\n",
    "\n",
    "# save the figure\n",
    "# plt.savefig('covariance_account_balance.png', dpi=100, bbox_inches='tight')\n",
    "plt.show()"
   ]
  },
  {
   "cell_type": "code",
   "execution_count": 18,
   "id": "0672f668",
   "metadata": {
    "scrolled": false
   },
   "outputs": [
    {
     "data": {
      "image/png": "[encoded data removed]",
      "text/plain": [
       "<Figure size 720x576 with 2 Axes>"
      ]
     },
     "metadata": {
      "needs_background": "light"
     },
     "output_type": "display_data"
    }
   ],
   "source": [
    "corr_matrix=df.corr(method='pearson')\n",
    "fig, ax = plt.subplots(figsize=(10, 8))\n",
    "ax = sns.heatmap(corr_matrix, annot=True)\n",
    "plt.show()"
   ]
  },
  {
   "cell_type": "code",
   "execution_count": 74,
   "id": "96557126",
   "metadata": {},
   "outputs": [],
   "source": [
    "# We decide to drop the average_balance variable \n",
    "#because it has high correlation score with 2 other variables (q2_balance and q3_balance)\n",
    "df = df.drop(['average_balance'], axis=1)"
   ]
  },
  {
   "cell_type": "markdown",
   "id": "ccd3372c",
   "metadata": {},
   "source": [
    "**Checking on outliers**"
   ]
  },
  {
   "cell_type": "code",
   "execution_count": 16,
   "id": "6f7e1209",
   "metadata": {},
   "outputs": [
    {
     "data": {
      "image/png": "[encoded data removed]",
      "text/plain": [
       "<Figure size 432x288 with 1 Axes>"
      ]
     },
     "metadata": {
      "needs_background": "light"
     },
     "output_type": "display_data"
    },
    {
     "data": {
      "image/png": "[encoded data removed]",
      "text/plain": [
       "<Figure size 432x288 with 1 Axes>"
      ]
     },
     "metadata": {
      "needs_background": "light"
     },
     "output_type": "display_data"
    },
    {
     "data": {
      "image/png": "[encoded data removed]",
      "text/plain": [
       "<Figure size 432x288 with 1 Axes>"
      ]
     },
     "metadata": {
      "needs_background": "light"
     },
     "output_type": "display_data"
    },
    {
     "data": {
      "image/png": "[encoded data removed]",
      "text/plain": [
       "<Figure size 432x288 with 1 Axes>"
      ]
     },
     "metadata": {
      "needs_background": "light"
     },
     "output_type": "display_data"
    },
    {
     "data": {
      "image/png": "[encoded data removed]",
      "text/plain": [
       "<Figure size 432x288 with 1 Axes>"
      ]
     },
     "metadata": {
      "needs_background": "light"
     },
     "output_type": "display_data"
    },
    {
     "data": {
      "image/png": "[encoded data removed]",
      "text/plain": [
       "<Figure size 432x288 with 1 Axes>"
      ]
     },
     "metadata": {
      "needs_background": "light"
     },
     "output_type": "display_data"
    },
    {
     "data": {
      "image/png": "[encoded data removed]",
      "text/plain": [
       "<Figure size 432x288 with 1 Axes>"
      ]
     },
     "metadata": {
      "needs_background": "light"
     },
     "output_type": "display_data"
    },
    {
     "data": {
      "image/png": "[encoded data removed]",
      "text/plain": [
       "<Figure size 432x288 with 1 Axes>"
      ]
     },
     "metadata": {
      "needs_background": "light"
     },
     "output_type": "display_data"
    }
   ],
   "source": [
    "# vizualizing outliers\n",
    "df_num = df._get_numeric_data() \n",
    "for col in df_num:\n",
    "    sns.boxplot(df_num[col])\n",
    "    plt.show()"
   ]
  },
  {
   "cell_type": "markdown",
   "id": "661776e6",
   "metadata": {},
   "source": [
    "**The outliers should not have relevant impact on our analysis. we will not remove them.**"
   ]
  },
  {
   "cell_type": "markdown",
   "id": "75b47bb6",
   "metadata": {},
   "source": [
    "## 2.3 - Exploration of the target variable : \"accepted_offer\""
   ]
  },
  {
   "cell_type": "markdown",
   "id": "89d70f2b",
   "metadata": {},
   "source": [
    "We have already seen that the target variable is higly imbalanced. We will need to deal with this issue.\n",
    "First, we will explore colinearity between variables"
   ]
  },
  {
   "cell_type": "code",
   "execution_count": 20,
   "id": "4d57d7ea",
   "metadata": {},
   "outputs": [
    {
     "data": {
      "image/png": "[encoded data removed]",
      "text/plain": [
       "<Figure size 432x288 with 1 Axes>"
      ]
     },
     "metadata": {
      "needs_background": "light"
     },
     "output_type": "display_data"
    }
   ],
   "source": [
    "# average_balance vs offer_accepted\n",
    "\n",
    "plt.figure(figsize=(6,4))\n",
    "sns.barplot(data=df, y=\"average_balance\", x=\"offer_accepted\")\n",
    "plt.show()"
   ]
  },
  {
   "cell_type": "code",
   "execution_count": 21,
   "id": "d09d822d",
   "metadata": {
    "scrolled": false
   },
   "outputs": [
    {
     "data": {
      "text/html": [
       "<div>\n",
       "<style scoped>\n",
       "    .dataframe tbody tr th:only-of-type {\n",
       "        vertical-align: middle;\n",
       "    }\n",
       "\n",
       "    .dataframe tbody tr th {\n",
       "        vertical-align: top;\n",
       "    }\n",
       "\n",
       "    .dataframe thead th {\n",
       "        text-align: right;\n",
       "    }\n",
       "</style>\n",
       "<table border=\"1\" class=\"dataframe\">\n",
       "  <thead>\n",
       "    <tr style=\"text-align: right;\">\n",
       "      <th></th>\n",
       "      <th>average_balance</th>\n",
       "      <th>offer_accepted</th>\n",
       "      <th>mailer_type</th>\n",
       "      <th>income_level</th>\n",
       "      <th>own_your_home</th>\n",
       "      <th>credit_rating</th>\n",
       "      <th>bank_accounts_open</th>\n",
       "      <th>credit_cards_held</th>\n",
       "    </tr>\n",
       "  </thead>\n",
       "  <tbody>\n",
       "    <tr>\n",
       "      <th>2295</th>\n",
       "      <td>3366.25</td>\n",
       "      <td>No</td>\n",
       "      <td>Letter</td>\n",
       "      <td>High</td>\n",
       "      <td>No</td>\n",
       "      <td>Medium</td>\n",
       "      <td>1</td>\n",
       "      <td>2</td>\n",
       "    </tr>\n",
       "    <tr>\n",
       "      <th>12619</th>\n",
       "      <td>2948.50</td>\n",
       "      <td>No</td>\n",
       "      <td>Letter</td>\n",
       "      <td>High</td>\n",
       "      <td>No</td>\n",
       "      <td>High</td>\n",
       "      <td>1</td>\n",
       "      <td>3</td>\n",
       "    </tr>\n",
       "    <tr>\n",
       "      <th>8875</th>\n",
       "      <td>2738.50</td>\n",
       "      <td>No</td>\n",
       "      <td>Letter</td>\n",
       "      <td>Medium</td>\n",
       "      <td>Yes</td>\n",
       "      <td>Medium</td>\n",
       "      <td>1</td>\n",
       "      <td>2</td>\n",
       "    </tr>\n",
       "    <tr>\n",
       "      <th>10563</th>\n",
       "      <td>2609.50</td>\n",
       "      <td>No</td>\n",
       "      <td>Letter</td>\n",
       "      <td>Medium</td>\n",
       "      <td>Yes</td>\n",
       "      <td>High</td>\n",
       "      <td>3</td>\n",
       "      <td>1</td>\n",
       "    </tr>\n",
       "    <tr>\n",
       "      <th>13984</th>\n",
       "      <td>2437.50</td>\n",
       "      <td>No</td>\n",
       "      <td>Letter</td>\n",
       "      <td>Medium</td>\n",
       "      <td>Yes</td>\n",
       "      <td>Medium</td>\n",
       "      <td>1</td>\n",
       "      <td>1</td>\n",
       "    </tr>\n",
       "    <tr>\n",
       "      <th>10462</th>\n",
       "      <td>2430.00</td>\n",
       "      <td>No</td>\n",
       "      <td>Letter</td>\n",
       "      <td>Medium</td>\n",
       "      <td>Yes</td>\n",
       "      <td>High</td>\n",
       "      <td>1</td>\n",
       "      <td>1</td>\n",
       "    </tr>\n",
       "    <tr>\n",
       "      <th>2654</th>\n",
       "      <td>2336.75</td>\n",
       "      <td>No</td>\n",
       "      <td>Letter</td>\n",
       "      <td>Medium</td>\n",
       "      <td>No</td>\n",
       "      <td>Low</td>\n",
       "      <td>1</td>\n",
       "      <td>2</td>\n",
       "    </tr>\n",
       "    <tr>\n",
       "      <th>15238</th>\n",
       "      <td>2320.50</td>\n",
       "      <td>No</td>\n",
       "      <td>Letter</td>\n",
       "      <td>Medium</td>\n",
       "      <td>No</td>\n",
       "      <td>High</td>\n",
       "      <td>1</td>\n",
       "      <td>2</td>\n",
       "    </tr>\n",
       "    <tr>\n",
       "      <th>15587</th>\n",
       "      <td>2271.50</td>\n",
       "      <td>No</td>\n",
       "      <td>Postcard</td>\n",
       "      <td>High</td>\n",
       "      <td>Yes</td>\n",
       "      <td>Low</td>\n",
       "      <td>1</td>\n",
       "      <td>1</td>\n",
       "    </tr>\n",
       "    <tr>\n",
       "      <th>8765</th>\n",
       "      <td>2073.25</td>\n",
       "      <td>No</td>\n",
       "      <td>Postcard</td>\n",
       "      <td>Medium</td>\n",
       "      <td>No</td>\n",
       "      <td>High</td>\n",
       "      <td>1</td>\n",
       "      <td>1</td>\n",
       "    </tr>\n",
       "    <tr>\n",
       "      <th>5291</th>\n",
       "      <td>1932.00</td>\n",
       "      <td>No</td>\n",
       "      <td>Letter</td>\n",
       "      <td>Medium</td>\n",
       "      <td>No</td>\n",
       "      <td>Medium</td>\n",
       "      <td>1</td>\n",
       "      <td>1</td>\n",
       "    </tr>\n",
       "    <tr>\n",
       "      <th>5963</th>\n",
       "      <td>1926.25</td>\n",
       "      <td>No</td>\n",
       "      <td>Letter</td>\n",
       "      <td>Low</td>\n",
       "      <td>No</td>\n",
       "      <td>Medium</td>\n",
       "      <td>2</td>\n",
       "      <td>1</td>\n",
       "    </tr>\n",
       "    <tr>\n",
       "      <th>3524</th>\n",
       "      <td>1915.75</td>\n",
       "      <td>No</td>\n",
       "      <td>Letter</td>\n",
       "      <td>High</td>\n",
       "      <td>No</td>\n",
       "      <td>High</td>\n",
       "      <td>1</td>\n",
       "      <td>2</td>\n",
       "    </tr>\n",
       "    <tr>\n",
       "      <th>17712</th>\n",
       "      <td>1902.00</td>\n",
       "      <td>No</td>\n",
       "      <td>Postcard</td>\n",
       "      <td>High</td>\n",
       "      <td>Yes</td>\n",
       "      <td>High</td>\n",
       "      <td>2</td>\n",
       "      <td>1</td>\n",
       "    </tr>\n",
       "    <tr>\n",
       "      <th>9423</th>\n",
       "      <td>1900.50</td>\n",
       "      <td>No</td>\n",
       "      <td>Letter</td>\n",
       "      <td>Low</td>\n",
       "      <td>Yes</td>\n",
       "      <td>Low</td>\n",
       "      <td>1</td>\n",
       "      <td>1</td>\n",
       "    </tr>\n",
       "    <tr>\n",
       "      <th>1476</th>\n",
       "      <td>1898.25</td>\n",
       "      <td>No</td>\n",
       "      <td>Letter</td>\n",
       "      <td>Low</td>\n",
       "      <td>Yes</td>\n",
       "      <td>Low</td>\n",
       "      <td>2</td>\n",
       "      <td>2</td>\n",
       "    </tr>\n",
       "    <tr>\n",
       "      <th>9429</th>\n",
       "      <td>1887.75</td>\n",
       "      <td>No</td>\n",
       "      <td>Letter</td>\n",
       "      <td>High</td>\n",
       "      <td>No</td>\n",
       "      <td>High</td>\n",
       "      <td>2</td>\n",
       "      <td>1</td>\n",
       "    </tr>\n",
       "    <tr>\n",
       "      <th>14012</th>\n",
       "      <td>1885.75</td>\n",
       "      <td>No</td>\n",
       "      <td>Letter</td>\n",
       "      <td>Medium</td>\n",
       "      <td>Yes</td>\n",
       "      <td>Low</td>\n",
       "      <td>1</td>\n",
       "      <td>1</td>\n",
       "    </tr>\n",
       "    <tr>\n",
       "      <th>15732</th>\n",
       "      <td>1885.25</td>\n",
       "      <td>No</td>\n",
       "      <td>Postcard</td>\n",
       "      <td>Medium</td>\n",
       "      <td>No</td>\n",
       "      <td>Medium</td>\n",
       "      <td>1</td>\n",
       "      <td>2</td>\n",
       "    </tr>\n",
       "    <tr>\n",
       "      <th>9375</th>\n",
       "      <td>1883.00</td>\n",
       "      <td>No</td>\n",
       "      <td>Postcard</td>\n",
       "      <td>Medium</td>\n",
       "      <td>Yes</td>\n",
       "      <td>High</td>\n",
       "      <td>1</td>\n",
       "      <td>2</td>\n",
       "    </tr>\n",
       "  </tbody>\n",
       "</table>\n",
       "</div>"
      ],
      "text/plain": [
       "       average_balance offer_accepted mailer_type income_level own_your_home  \\\n",
       "2295           3366.25             No      Letter         High            No   \n",
       "12619          2948.50             No      Letter         High            No   \n",
       "8875           2738.50             No      Letter       Medium           Yes   \n",
       "10563          2609.50             No      Letter       Medium           Yes   \n",
       "13984          2437.50             No      Letter       Medium           Yes   \n",
       "10462          2430.00             No      Letter       Medium           Yes   \n",
       "2654           2336.75             No      Letter       Medium            No   \n",
       "15238          2320.50             No      Letter       Medium            No   \n",
       "15587          2271.50             No    Postcard         High           Yes   \n",
       "8765           2073.25             No    Postcard       Medium            No   \n",
       "5291           1932.00             No      Letter       Medium            No   \n",
       "5963           1926.25             No      Letter          Low            No   \n",
       "3524           1915.75             No      Letter         High            No   \n",
       "17712          1902.00             No    Postcard         High           Yes   \n",
       "9423           1900.50             No      Letter          Low           Yes   \n",
       "1476           1898.25             No      Letter          Low           Yes   \n",
       "9429           1887.75             No      Letter         High            No   \n",
       "14012          1885.75             No      Letter       Medium           Yes   \n",
       "15732          1885.25             No    Postcard       Medium            No   \n",
       "9375           1883.00             No    Postcard       Medium           Yes   \n",
       "\n",
       "      credit_rating  bank_accounts_open  credit_cards_held  \n",
       "2295         Medium                   1                  2  \n",
       "12619          High                   1                  3  \n",
       "8875         Medium                   1                  2  \n",
       "10563          High                   3                  1  \n",
       "13984        Medium                   1                  1  \n",
       "10462          High                   1                  1  \n",
       "2654            Low                   1                  2  \n",
       "15238          High                   1                  2  \n",
       "15587           Low                   1                  1  \n",
       "8765           High                   1                  1  \n",
       "5291         Medium                   1                  1  \n",
       "5963         Medium                   2                  1  \n",
       "3524           High                   1                  2  \n",
       "17712          High                   2                  1  \n",
       "9423            Low                   1                  1  \n",
       "1476            Low                   2                  2  \n",
       "9429           High                   2                  1  \n",
       "14012           Low                   1                  1  \n",
       "15732        Medium                   1                  2  \n",
       "9375           High                   1                  2  "
      ]
     },
     "execution_count": 21,
     "metadata": {},
     "output_type": "execute_result"
    }
   ],
   "source": [
    "# Did the customers with the highest average balance accept the offer?\n",
    "\n",
    "df.nlargest(20,columns=\"average_balance\")[[\"average_balance\",\"offer_accepted\",\"mailer_type\",\"income_level\",\"own_your_home\", \"credit_rating\",\"bank_accounts_open\",\"credit_cards_held\"]]"
   ]
  },
  {
   "cell_type": "code",
   "execution_count": 22,
   "id": "83440150",
   "metadata": {},
   "outputs": [
    {
     "data": {
      "text/html": [
       "<div>\n",
       "<style scoped>\n",
       "    .dataframe tbody tr th:only-of-type {\n",
       "        vertical-align: middle;\n",
       "    }\n",
       "\n",
       "    .dataframe tbody tr th {\n",
       "        vertical-align: top;\n",
       "    }\n",
       "\n",
       "    .dataframe thead th {\n",
       "        text-align: right;\n",
       "    }\n",
       "</style>\n",
       "<table border=\"1\" class=\"dataframe\">\n",
       "  <thead>\n",
       "    <tr style=\"text-align: right;\">\n",
       "      <th></th>\n",
       "      <th>average_balance</th>\n",
       "      <th>offer_accepted</th>\n",
       "      <th>mailer_type</th>\n",
       "      <th>income_level</th>\n",
       "      <th>own_your_home</th>\n",
       "      <th>credit_rating</th>\n",
       "      <th>bank_accounts_open</th>\n",
       "      <th>credit_cards_held</th>\n",
       "    </tr>\n",
       "  </thead>\n",
       "  <tbody>\n",
       "    <tr>\n",
       "      <th>5703</th>\n",
       "      <td>48.25</td>\n",
       "      <td>No</td>\n",
       "      <td>Postcard</td>\n",
       "      <td>Medium</td>\n",
       "      <td>Yes</td>\n",
       "      <td>Medium</td>\n",
       "      <td>2</td>\n",
       "      <td>1</td>\n",
       "    </tr>\n",
       "    <tr>\n",
       "      <th>2791</th>\n",
       "      <td>56.00</td>\n",
       "      <td>No</td>\n",
       "      <td>Letter</td>\n",
       "      <td>Medium</td>\n",
       "      <td>Yes</td>\n",
       "      <td>Low</td>\n",
       "      <td>2</td>\n",
       "      <td>3</td>\n",
       "    </tr>\n",
       "    <tr>\n",
       "      <th>13301</th>\n",
       "      <td>62.00</td>\n",
       "      <td>No</td>\n",
       "      <td>Letter</td>\n",
       "      <td>High</td>\n",
       "      <td>Yes</td>\n",
       "      <td>Medium</td>\n",
       "      <td>1</td>\n",
       "      <td>3</td>\n",
       "    </tr>\n",
       "    <tr>\n",
       "      <th>11262</th>\n",
       "      <td>63.50</td>\n",
       "      <td>No</td>\n",
       "      <td>Postcard</td>\n",
       "      <td>Medium</td>\n",
       "      <td>No</td>\n",
       "      <td>High</td>\n",
       "      <td>1</td>\n",
       "      <td>1</td>\n",
       "    </tr>\n",
       "    <tr>\n",
       "      <th>5143</th>\n",
       "      <td>71.25</td>\n",
       "      <td>No</td>\n",
       "      <td>Postcard</td>\n",
       "      <td>Medium</td>\n",
       "      <td>No</td>\n",
       "      <td>High</td>\n",
       "      <td>1</td>\n",
       "      <td>3</td>\n",
       "    </tr>\n",
       "    <tr>\n",
       "      <th>12892</th>\n",
       "      <td>74.50</td>\n",
       "      <td>No</td>\n",
       "      <td>Letter</td>\n",
       "      <td>High</td>\n",
       "      <td>Yes</td>\n",
       "      <td>Medium</td>\n",
       "      <td>1</td>\n",
       "      <td>1</td>\n",
       "    </tr>\n",
       "    <tr>\n",
       "      <th>13142</th>\n",
       "      <td>75.25</td>\n",
       "      <td>No</td>\n",
       "      <td>Postcard</td>\n",
       "      <td>Medium</td>\n",
       "      <td>Yes</td>\n",
       "      <td>Low</td>\n",
       "      <td>1</td>\n",
       "      <td>2</td>\n",
       "    </tr>\n",
       "    <tr>\n",
       "      <th>4220</th>\n",
       "      <td>75.75</td>\n",
       "      <td>Yes</td>\n",
       "      <td>Postcard</td>\n",
       "      <td>High</td>\n",
       "      <td>Yes</td>\n",
       "      <td>Low</td>\n",
       "      <td>1</td>\n",
       "      <td>3</td>\n",
       "    </tr>\n",
       "    <tr>\n",
       "      <th>6699</th>\n",
       "      <td>76.25</td>\n",
       "      <td>No</td>\n",
       "      <td>Letter</td>\n",
       "      <td>Low</td>\n",
       "      <td>Yes</td>\n",
       "      <td>Low</td>\n",
       "      <td>1</td>\n",
       "      <td>1</td>\n",
       "    </tr>\n",
       "    <tr>\n",
       "      <th>4335</th>\n",
       "      <td>79.00</td>\n",
       "      <td>No</td>\n",
       "      <td>Postcard</td>\n",
       "      <td>Medium</td>\n",
       "      <td>No</td>\n",
       "      <td>Low</td>\n",
       "      <td>2</td>\n",
       "      <td>2</td>\n",
       "    </tr>\n",
       "    <tr>\n",
       "      <th>4167</th>\n",
       "      <td>79.50</td>\n",
       "      <td>No</td>\n",
       "      <td>Postcard</td>\n",
       "      <td>Low</td>\n",
       "      <td>Yes</td>\n",
       "      <td>Medium</td>\n",
       "      <td>1</td>\n",
       "      <td>1</td>\n",
       "    </tr>\n",
       "    <tr>\n",
       "      <th>6815</th>\n",
       "      <td>82.50</td>\n",
       "      <td>Yes</td>\n",
       "      <td>Letter</td>\n",
       "      <td>Medium</td>\n",
       "      <td>No</td>\n",
       "      <td>Low</td>\n",
       "      <td>1</td>\n",
       "      <td>4</td>\n",
       "    </tr>\n",
       "    <tr>\n",
       "      <th>7814</th>\n",
       "      <td>82.50</td>\n",
       "      <td>No</td>\n",
       "      <td>Postcard</td>\n",
       "      <td>Low</td>\n",
       "      <td>Yes</td>\n",
       "      <td>Medium</td>\n",
       "      <td>1</td>\n",
       "      <td>1</td>\n",
       "    </tr>\n",
       "    <tr>\n",
       "      <th>10701</th>\n",
       "      <td>83.00</td>\n",
       "      <td>No</td>\n",
       "      <td>Letter</td>\n",
       "      <td>Medium</td>\n",
       "      <td>Yes</td>\n",
       "      <td>Medium</td>\n",
       "      <td>1</td>\n",
       "      <td>1</td>\n",
       "    </tr>\n",
       "    <tr>\n",
       "      <th>6413</th>\n",
       "      <td>86.00</td>\n",
       "      <td>No</td>\n",
       "      <td>Postcard</td>\n",
       "      <td>Medium</td>\n",
       "      <td>Yes</td>\n",
       "      <td>Medium</td>\n",
       "      <td>2</td>\n",
       "      <td>1</td>\n",
       "    </tr>\n",
       "    <tr>\n",
       "      <th>6040</th>\n",
       "      <td>87.25</td>\n",
       "      <td>No</td>\n",
       "      <td>Letter</td>\n",
       "      <td>High</td>\n",
       "      <td>Yes</td>\n",
       "      <td>High</td>\n",
       "      <td>1</td>\n",
       "      <td>1</td>\n",
       "    </tr>\n",
       "    <tr>\n",
       "      <th>1430</th>\n",
       "      <td>87.50</td>\n",
       "      <td>No</td>\n",
       "      <td>Postcard</td>\n",
       "      <td>Medium</td>\n",
       "      <td>Yes</td>\n",
       "      <td>Medium</td>\n",
       "      <td>2</td>\n",
       "      <td>2</td>\n",
       "    </tr>\n",
       "    <tr>\n",
       "      <th>13346</th>\n",
       "      <td>88.75</td>\n",
       "      <td>No</td>\n",
       "      <td>Letter</td>\n",
       "      <td>High</td>\n",
       "      <td>No</td>\n",
       "      <td>High</td>\n",
       "      <td>1</td>\n",
       "      <td>2</td>\n",
       "    </tr>\n",
       "    <tr>\n",
       "      <th>6637</th>\n",
       "      <td>89.00</td>\n",
       "      <td>No</td>\n",
       "      <td>Postcard</td>\n",
       "      <td>High</td>\n",
       "      <td>Yes</td>\n",
       "      <td>High</td>\n",
       "      <td>1</td>\n",
       "      <td>3</td>\n",
       "    </tr>\n",
       "    <tr>\n",
       "      <th>15745</th>\n",
       "      <td>91.00</td>\n",
       "      <td>No</td>\n",
       "      <td>Letter</td>\n",
       "      <td>Medium</td>\n",
       "      <td>Yes</td>\n",
       "      <td>Low</td>\n",
       "      <td>1</td>\n",
       "      <td>3</td>\n",
       "    </tr>\n",
       "  </tbody>\n",
       "</table>\n",
       "</div>"
      ],
      "text/plain": [
       "       average_balance offer_accepted mailer_type income_level own_your_home  \\\n",
       "5703             48.25             No    Postcard       Medium           Yes   \n",
       "2791             56.00             No      Letter       Medium           Yes   \n",
       "13301            62.00             No      Letter         High           Yes   \n",
       "11262            63.50             No    Postcard       Medium            No   \n",
       "5143             71.25             No    Postcard       Medium            No   \n",
       "12892            74.50             No      Letter         High           Yes   \n",
       "13142            75.25             No    Postcard       Medium           Yes   \n",
       "4220             75.75            Yes    Postcard         High           Yes   \n",
       "6699             76.25             No      Letter          Low           Yes   \n",
       "4335             79.00             No    Postcard       Medium            No   \n",
       "4167             79.50             No    Postcard          Low           Yes   \n",
       "6815             82.50            Yes      Letter       Medium            No   \n",
       "7814             82.50             No    Postcard          Low           Yes   \n",
       "10701            83.00             No      Letter       Medium           Yes   \n",
       "6413             86.00             No    Postcard       Medium           Yes   \n",
       "6040             87.25             No      Letter         High           Yes   \n",
       "1430             87.50             No    Postcard       Medium           Yes   \n",
       "13346            88.75             No      Letter         High            No   \n",
       "6637             89.00             No    Postcard         High           Yes   \n",
       "15745            91.00             No      Letter       Medium           Yes   \n",
       "\n",
       "      credit_rating  bank_accounts_open  credit_cards_held  \n",
       "5703         Medium                   2                  1  \n",
       "2791            Low                   2                  3  \n",
       "13301        Medium                   1                  3  \n",
       "11262          High                   1                  1  \n",
       "5143           High                   1                  3  \n",
       "12892        Medium                   1                  1  \n",
       "13142           Low                   1                  2  \n",
       "4220            Low                   1                  3  \n",
       "6699            Low                   1                  1  \n",
       "4335            Low                   2                  2  \n",
       "4167         Medium                   1                  1  \n",
       "6815            Low                   1                  4  \n",
       "7814         Medium                   1                  1  \n",
       "10701        Medium                   1                  1  \n",
       "6413         Medium                   2                  1  \n",
       "6040           High                   1                  1  \n",
       "1430         Medium                   2                  2  \n",
       "13346          High                   1                  2  \n",
       "6637           High                   1                  3  \n",
       "15745           Low                   1                  3  "
      ]
     },
     "execution_count": 22,
     "metadata": {},
     "output_type": "execute_result"
    }
   ],
   "source": [
    "# Same question but with the customers with the lowest average balance?\n",
    "\n",
    "df.nsmallest(20,columns=\"average_balance\")[[\"average_balance\",\"offer_accepted\",\"mailer_type\",\"income_level\",\"own_your_home\", \"credit_rating\",\"bank_accounts_open\",\"credit_cards_held\"]]"
   ]
  },
  {
   "cell_type": "code",
   "execution_count": 23,
   "id": "2a32aa76",
   "metadata": {
    "scrolled": false
   },
   "outputs": [
    {
     "data": {
      "image/png": "[encoded data removed]",
      "text/plain": [
       "<Figure size 432x288 with 1 Axes>"
      ]
     },
     "metadata": {
      "needs_background": "light"
     },
     "output_type": "display_data"
    }
   ],
   "source": [
    "plt.figure(figsize=(6,4))\n",
    "sns.countplot(data=df, x=\"income_level\", hue=\"offer_accepted\")\n",
    "plt.show()"
   ]
  },
  {
   "cell_type": "markdown",
   "id": "5fc63396",
   "metadata": {},
   "source": [
    "Checking correlation between variables\n",
    "\n",
    "The p_value is used for hypothesis testing and it can be used to measure dependency between two variables.\n",
    "\n",
    "A low p_value means that there is significant relationship between two variables.\n",
    "\n",
    "A reasonable threshold for p_value is 0.05, and it's related to a confidence interval of 95%. \n",
    "\n",
    "For now: a p_value below 0.05 means that there is a considerable correlation between two variables, and it is likely that one of them can be dropped without decreasing the metrics of the model."
   ]
  },
  {
   "cell_type": "markdown",
   "id": "93c1a62f",
   "metadata": {},
   "source": [
    "**correlation between 'offer_accepted' and 'income_level'**"
   ]
  },
  {
   "cell_type": "code",
   "execution_count": 94,
   "id": "a535add3",
   "metadata": {},
   "outputs": [
    {
     "data": {
      "text/html": [
       "<div>\n",
       "<style scoped>\n",
       "    .dataframe tbody tr th:only-of-type {\n",
       "        vertical-align: middle;\n",
       "    }\n",
       "\n",
       "    .dataframe tbody tr th {\n",
       "        vertical-align: top;\n",
       "    }\n",
       "\n",
       "    .dataframe thead th {\n",
       "        text-align: right;\n",
       "    }\n",
       "</style>\n",
       "<table border=\"1\" class=\"dataframe\">\n",
       "  <thead>\n",
       "    <tr style=\"text-align: right;\">\n",
       "      <th>income_level</th>\n",
       "      <th>High</th>\n",
       "      <th>Low</th>\n",
       "      <th>Medium</th>\n",
       "      <th>All</th>\n",
       "    </tr>\n",
       "    <tr>\n",
       "      <th>offer_accepted</th>\n",
       "      <th></th>\n",
       "      <th></th>\n",
       "      <th></th>\n",
       "      <th></th>\n",
       "    </tr>\n",
       "  </thead>\n",
       "  <tbody>\n",
       "    <tr>\n",
       "      <th>No</th>\n",
       "      <td>4361</td>\n",
       "      <td>4073</td>\n",
       "      <td>8543</td>\n",
       "      <td>16977</td>\n",
       "    </tr>\n",
       "    <tr>\n",
       "      <th>Yes</th>\n",
       "      <td>165</td>\n",
       "      <td>388</td>\n",
       "      <td>470</td>\n",
       "      <td>1023</td>\n",
       "    </tr>\n",
       "    <tr>\n",
       "      <th>All</th>\n",
       "      <td>4526</td>\n",
       "      <td>4461</td>\n",
       "      <td>9013</td>\n",
       "      <td>18000</td>\n",
       "    </tr>\n",
       "  </tbody>\n",
       "</table>\n",
       "</div>"
      ],
      "text/plain": [
       "income_level    High   Low  Medium    All\n",
       "offer_accepted                           \n",
       "No              4361  4073    8543  16977\n",
       "Yes              165   388     470   1023\n",
       "All             4526  4461    9013  18000"
      ]
     },
     "execution_count": 94,
     "metadata": {},
     "output_type": "execute_result"
    }
   ],
   "source": [
    "# contingency table\n",
    "data_crosstab = pd.crosstab(df_cat['offer_accepted'], df_cat['income_level'], margins = False)\n",
    "data_crosstab"
   ]
  },
  {
   "cell_type": "code",
   "execution_count": 66,
   "id": "282c3045",
   "metadata": {
    "scrolled": false
   },
   "outputs": [
    {
     "data": {
      "text/plain": [
       "(114.36759816901265,\n",
       " 1.463496214215802e-25,\n",
       " 2,\n",
       " array([[4268.77233333, 4207.4665    , 8500.76116667],\n",
       "        [ 257.22766667,  253.5335    ,  512.23883333]]))"
      ]
     },
     "execution_count": 66,
     "metadata": {},
     "output_type": "execute_result"
    }
   ],
   "source": [
    "chi2_contingency(data_crosstab, correction=False)"
   ]
  },
  {
   "cell_type": "code",
   "execution_count": 87,
   "id": "d854653d",
   "metadata": {},
   "outputs": [
    {
     "data": {
      "text/plain": [
       "1.463496214215802e-25"
      ]
     },
     "execution_count": 87,
     "metadata": {},
     "output_type": "execute_result"
    }
   ],
   "source": [
    "stats, p_value, dof, frequencies = chi2_contingency(data_crosstab)\n",
    "p_value"
   ]
  },
  {
   "cell_type": "markdown",
   "id": "fe09bffb",
   "metadata": {},
   "source": [
    "**Correlation between 'credit_rating' and 'own_your_home'**"
   ]
  },
  {
   "cell_type": "code",
   "execution_count": 93,
   "id": "1d225a33",
   "metadata": {},
   "outputs": [
    {
     "data": {
      "text/html": [
       "<div>\n",
       "<style scoped>\n",
       "    .dataframe tbody tr th:only-of-type {\n",
       "        vertical-align: middle;\n",
       "    }\n",
       "\n",
       "    .dataframe tbody tr th {\n",
       "        vertical-align: top;\n",
       "    }\n",
       "\n",
       "    .dataframe thead th {\n",
       "        text-align: right;\n",
       "    }\n",
       "</style>\n",
       "<table border=\"1\" class=\"dataframe\">\n",
       "  <thead>\n",
       "    <tr style=\"text-align: right;\">\n",
       "      <th>own_your_home</th>\n",
       "      <th>No</th>\n",
       "      <th>Yes</th>\n",
       "    </tr>\n",
       "    <tr>\n",
       "      <th>credit_rating</th>\n",
       "      <th></th>\n",
       "      <th></th>\n",
       "    </tr>\n",
       "  </thead>\n",
       "  <tbody>\n",
       "    <tr>\n",
       "      <th>High</th>\n",
       "      <td>2142</td>\n",
       "      <td>3929</td>\n",
       "    </tr>\n",
       "    <tr>\n",
       "      <th>Low</th>\n",
       "      <td>2126</td>\n",
       "      <td>3831</td>\n",
       "    </tr>\n",
       "    <tr>\n",
       "      <th>Medium</th>\n",
       "      <td>2077</td>\n",
       "      <td>3895</td>\n",
       "    </tr>\n",
       "  </tbody>\n",
       "</table>\n",
       "</div>"
      ],
      "text/plain": [
       "own_your_home    No   Yes\n",
       "credit_rating            \n",
       "High           2142  3929\n",
       "Low            2126  3831\n",
       "Medium         2077  3895"
      ]
     },
     "execution_count": 93,
     "metadata": {},
     "output_type": "execute_result"
    }
   ],
   "source": [
    "data_crosstab1 = pd.crosstab(df_cat['credit_rating'], df_cat['own_your_home'], margins = False)\n",
    "data_crosstab1"
   ]
  },
  {
   "cell_type": "code",
   "execution_count": 95,
   "id": "7185c211",
   "metadata": {
    "scrolled": true
   },
   "outputs": [
    {
     "data": {
      "text/plain": [
       "0.5808393854017466"
      ]
     },
     "execution_count": 95,
     "metadata": {},
     "output_type": "execute_result"
    }
   ],
   "source": [
    "stats, p_value, dof, frequencies = chi2_contingency(data_crosstab1)\n",
    "p_value"
   ]
  },
  {
   "cell_type": "markdown",
   "id": "c963964e",
   "metadata": {},
   "source": [
    "## 3. Preprocessing and Modeling"
   ]
  },
  {
   "cell_type": "markdown",
   "id": "a4aaa12e",
   "metadata": {},
   "source": [
    "We will use different models to compare them and find the one which fits better our data. We will apply two algorithms : Logistic Regression and KNN Classifier."
   ]
  },
  {
   "cell_type": "code",
   "execution_count": 138,
   "id": "150d51a0",
   "metadata": {},
   "outputs": [],
   "source": [
    "# create a copy\n",
    "df1 = df.copy()\n",
    "df2 = df.copy()"
   ]
  },
  {
   "cell_type": "markdown",
   "id": "242629ec",
   "metadata": {},
   "source": [
    "### 3.1 - Preprocessing - using boxcox and SMOTE\n",
    "1. Boxcox transformation on continuous variables only\n",
    "2. Encoding - get dummies\n",
    "3. Dealing with imbalanced - SMOTE\n",
    "4. Modeling"
   ]
  },
  {
   "cell_type": "markdown",
   "id": "5b391686",
   "metadata": {},
   "source": [
    "#### Boxcox transformation\n",
    "\n",
    "We will apply it on the following columns : 'average_balance', 'q1_balance', 'q2_balance', 'q3_balance', 'q4_balance' to help our features to have a more normal distribution."
   ]
  },
  {
   "cell_type": "code",
   "execution_count": 84,
   "id": "9cd9ddf7",
   "metadata": {
    "scrolled": true
   },
   "outputs": [
    {
     "data": {
      "text/html": [
       "<div>\n",
       "<style scoped>\n",
       "    .dataframe tbody tr th:only-of-type {\n",
       "        vertical-align: middle;\n",
       "    }\n",
       "\n",
       "    .dataframe tbody tr th {\n",
       "        vertical-align: top;\n",
       "    }\n",
       "\n",
       "    .dataframe thead th {\n",
       "        text-align: right;\n",
       "    }\n",
       "</style>\n",
       "<table border=\"1\" class=\"dataframe\">\n",
       "  <thead>\n",
       "    <tr style=\"text-align: right;\">\n",
       "      <th></th>\n",
       "      <th>offer_accepted</th>\n",
       "      <th>reward</th>\n",
       "      <th>mailer_type</th>\n",
       "      <th>income_level</th>\n",
       "      <th>bank_accounts_open</th>\n",
       "      <th>overdraft_protection</th>\n",
       "      <th>credit_rating</th>\n",
       "      <th>credit_cards_held</th>\n",
       "      <th>homes_owned</th>\n",
       "      <th>household_size</th>\n",
       "      <th>own_your_home</th>\n",
       "      <th>average_balance</th>\n",
       "      <th>q1_balance</th>\n",
       "      <th>q2_balance</th>\n",
       "      <th>q3_balance</th>\n",
       "      <th>q4_balance</th>\n",
       "    </tr>\n",
       "  </thead>\n",
       "  <tbody>\n",
       "    <tr>\n",
       "      <th>0</th>\n",
       "      <td>No</td>\n",
       "      <td>Air Miles</td>\n",
       "      <td>Letter</td>\n",
       "      <td>High</td>\n",
       "      <td>1</td>\n",
       "      <td>No</td>\n",
       "      <td>High</td>\n",
       "      <td>2</td>\n",
       "      <td>1</td>\n",
       "      <td>4</td>\n",
       "      <td>No</td>\n",
       "      <td>8703.958501</td>\n",
       "      <td>73.836626</td>\n",
       "      <td>639.885262</td>\n",
       "      <td>173.975094</td>\n",
       "      <td>50.525011</td>\n",
       "    </tr>\n",
       "    <tr>\n",
       "      <th>1</th>\n",
       "      <td>No</td>\n",
       "      <td>Air Miles</td>\n",
       "      <td>Letter</td>\n",
       "      <td>Medium</td>\n",
       "      <td>1</td>\n",
       "      <td>No</td>\n",
       "      <td>Medium</td>\n",
       "      <td>2</td>\n",
       "      <td>2</td>\n",
       "      <td>5</td>\n",
       "      <td>Yes</td>\n",
       "      <td>563.218895</td>\n",
       "      <td>10.157140</td>\n",
       "      <td>85.875613</td>\n",
       "      <td>27.328789</td>\n",
       "      <td>30.922576</td>\n",
       "    </tr>\n",
       "    <tr>\n",
       "      <th>2</th>\n",
       "      <td>No</td>\n",
       "      <td>Air Miles</td>\n",
       "      <td>Postcard</td>\n",
       "      <td>High</td>\n",
       "      <td>2</td>\n",
       "      <td>No</td>\n",
       "      <td>Medium</td>\n",
       "      <td>2</td>\n",
       "      <td>1</td>\n",
       "      <td>2</td>\n",
       "      <td>Yes</td>\n",
       "      <td>1299.266926</td>\n",
       "      <td>34.277501</td>\n",
       "      <td>269.331501</td>\n",
       "      <td>42.538730</td>\n",
       "      <td>25.166504</td>\n",
       "    </tr>\n",
       "    <tr>\n",
       "      <th>3</th>\n",
       "      <td>No</td>\n",
       "      <td>Air Miles</td>\n",
       "      <td>Letter</td>\n",
       "      <td>Medium</td>\n",
       "      <td>2</td>\n",
       "      <td>No</td>\n",
       "      <td>High</td>\n",
       "      <td>1</td>\n",
       "      <td>1</td>\n",
       "      <td>4</td>\n",
       "      <td>No</td>\n",
       "      <td>9287.622984</td>\n",
       "      <td>71.795308</td>\n",
       "      <td>1237.254765</td>\n",
       "      <td>176.596534</td>\n",
       "      <td>33.055723</td>\n",
       "    </tr>\n",
       "    <tr>\n",
       "      <th>4</th>\n",
       "      <td>No</td>\n",
       "      <td>Air Miles</td>\n",
       "      <td>Letter</td>\n",
       "      <td>Medium</td>\n",
       "      <td>1</td>\n",
       "      <td>No</td>\n",
       "      <td>Medium</td>\n",
       "      <td>2</td>\n",
       "      <td>1</td>\n",
       "      <td>6</td>\n",
       "      <td>Yes</td>\n",
       "      <td>9206.914353</td>\n",
       "      <td>83.588729</td>\n",
       "      <td>967.349381</td>\n",
       "      <td>161.378408</td>\n",
       "      <td>30.880781</td>\n",
       "    </tr>\n",
       "    <tr>\n",
       "      <th>...</th>\n",
       "      <td>...</td>\n",
       "      <td>...</td>\n",
       "      <td>...</td>\n",
       "      <td>...</td>\n",
       "      <td>...</td>\n",
       "      <td>...</td>\n",
       "      <td>...</td>\n",
       "      <td>...</td>\n",
       "      <td>...</td>\n",
       "      <td>...</td>\n",
       "      <td>...</td>\n",
       "      <td>...</td>\n",
       "      <td>...</td>\n",
       "      <td>...</td>\n",
       "      <td>...</td>\n",
       "      <td>...</td>\n",
       "    </tr>\n",
       "    <tr>\n",
       "      <th>17971</th>\n",
       "      <td>No</td>\n",
       "      <td>Cash Back</td>\n",
       "      <td>Letter</td>\n",
       "      <td>High</td>\n",
       "      <td>1</td>\n",
       "      <td>No</td>\n",
       "      <td>Low</td>\n",
       "      <td>1</td>\n",
       "      <td>1</td>\n",
       "      <td>5</td>\n",
       "      <td>Yes</td>\n",
       "      <td>668.250437</td>\n",
       "      <td>20.364395</td>\n",
       "      <td>53.691759</td>\n",
       "      <td>25.535159</td>\n",
       "      <td>32.228934</td>\n",
       "    </tr>\n",
       "    <tr>\n",
       "      <th>17972</th>\n",
       "      <td>No</td>\n",
       "      <td>Cash Back</td>\n",
       "      <td>Letter</td>\n",
       "      <td>High</td>\n",
       "      <td>1</td>\n",
       "      <td>No</td>\n",
       "      <td>Low</td>\n",
       "      <td>3</td>\n",
       "      <td>1</td>\n",
       "      <td>3</td>\n",
       "      <td>Yes</td>\n",
       "      <td>5763.396657</td>\n",
       "      <td>56.640150</td>\n",
       "      <td>683.333055</td>\n",
       "      <td>156.926025</td>\n",
       "      <td>37.265522</td>\n",
       "    </tr>\n",
       "    <tr>\n",
       "      <th>17973</th>\n",
       "      <td>No</td>\n",
       "      <td>Cash Back</td>\n",
       "      <td>Letter</td>\n",
       "      <td>High</td>\n",
       "      <td>1</td>\n",
       "      <td>No</td>\n",
       "      <td>Low</td>\n",
       "      <td>2</td>\n",
       "      <td>1</td>\n",
       "      <td>4</td>\n",
       "      <td>No</td>\n",
       "      <td>7981.026326</td>\n",
       "      <td>54.691416</td>\n",
       "      <td>563.606453</td>\n",
       "      <td>182.108919</td>\n",
       "      <td>61.203573</td>\n",
       "    </tr>\n",
       "    <tr>\n",
       "      <th>17974</th>\n",
       "      <td>No</td>\n",
       "      <td>Cash Back</td>\n",
       "      <td>Letter</td>\n",
       "      <td>Medium</td>\n",
       "      <td>1</td>\n",
       "      <td>No</td>\n",
       "      <td>Medium</td>\n",
       "      <td>4</td>\n",
       "      <td>2</td>\n",
       "      <td>2</td>\n",
       "      <td>Yes</td>\n",
       "      <td>7354.790374</td>\n",
       "      <td>45.051227</td>\n",
       "      <td>712.896118</td>\n",
       "      <td>147.842192</td>\n",
       "      <td>63.524960</td>\n",
       "    </tr>\n",
       "    <tr>\n",
       "      <th>17975</th>\n",
       "      <td>No</td>\n",
       "      <td>Cash Back</td>\n",
       "      <td>Letter</td>\n",
       "      <td>Low</td>\n",
       "      <td>2</td>\n",
       "      <td>No</td>\n",
       "      <td>Medium</td>\n",
       "      <td>2</td>\n",
       "      <td>1</td>\n",
       "      <td>3</td>\n",
       "      <td>No</td>\n",
       "      <td>7678.383978</td>\n",
       "      <td>28.956192</td>\n",
       "      <td>981.512321</td>\n",
       "      <td>261.446143</td>\n",
       "      <td>39.506446</td>\n",
       "    </tr>\n",
       "  </tbody>\n",
       "</table>\n",
       "<p>17976 rows × 16 columns</p>\n",
       "</div>"
      ],
      "text/plain": [
       "      offer_accepted     reward mailer_type income_level  bank_accounts_open  \\\n",
       "0                 No  Air Miles      Letter         High                   1   \n",
       "1                 No  Air Miles      Letter       Medium                   1   \n",
       "2                 No  Air Miles    Postcard         High                   2   \n",
       "3                 No  Air Miles      Letter       Medium                   2   \n",
       "4                 No  Air Miles      Letter       Medium                   1   \n",
       "...              ...        ...         ...          ...                 ...   \n",
       "17971             No  Cash Back      Letter         High                   1   \n",
       "17972             No  Cash Back      Letter         High                   1   \n",
       "17973             No  Cash Back      Letter         High                   1   \n",
       "17974             No  Cash Back      Letter       Medium                   1   \n",
       "17975             No  Cash Back      Letter          Low                   2   \n",
       "\n",
       "      overdraft_protection credit_rating  credit_cards_held  homes_owned  \\\n",
       "0                       No          High                  2            1   \n",
       "1                       No        Medium                  2            2   \n",
       "2                       No        Medium                  2            1   \n",
       "3                       No          High                  1            1   \n",
       "4                       No        Medium                  2            1   \n",
       "...                    ...           ...                ...          ...   \n",
       "17971                   No           Low                  1            1   \n",
       "17972                   No           Low                  3            1   \n",
       "17973                   No           Low                  2            1   \n",
       "17974                   No        Medium                  4            2   \n",
       "17975                   No        Medium                  2            1   \n",
       "\n",
       "       household_size own_your_home  average_balance  q1_balance   q2_balance  \\\n",
       "0                   4            No      8703.958501   73.836626   639.885262   \n",
       "1                   5           Yes       563.218895   10.157140    85.875613   \n",
       "2                   2           Yes      1299.266926   34.277501   269.331501   \n",
       "3                   4            No      9287.622984   71.795308  1237.254765   \n",
       "4                   6           Yes      9206.914353   83.588729   967.349381   \n",
       "...               ...           ...              ...         ...          ...   \n",
       "17971               5           Yes       668.250437   20.364395    53.691759   \n",
       "17972               3           Yes      5763.396657   56.640150   683.333055   \n",
       "17973               4            No      7981.026326   54.691416   563.606453   \n",
       "17974               2           Yes      7354.790374   45.051227   712.896118   \n",
       "17975               3            No      7678.383978   28.956192   981.512321   \n",
       "\n",
       "       q3_balance  q4_balance  \n",
       "0      173.975094   50.525011  \n",
       "1       27.328789   30.922576  \n",
       "2       42.538730   25.166504  \n",
       "3      176.596534   33.055723  \n",
       "4      161.378408   30.880781  \n",
       "...           ...         ...  \n",
       "17971   25.535159   32.228934  \n",
       "17972  156.926025   37.265522  \n",
       "17973  182.108919   61.203573  \n",
       "17974  147.842192   63.524960  \n",
       "17975  261.446143   39.506446  \n",
       "\n",
       "[17976 rows x 16 columns]"
      ]
     },
     "execution_count": 84,
     "metadata": {},
     "output_type": "execute_result"
    }
   ],
   "source": [
    "#Boxcox transformation\n",
    "\n",
    "def boxcox_transform(df):\n",
    "    numeric_cols = df.select_dtypes('float64').columns\n",
    "    _ci = {column: None for column in numeric_cols}\n",
    "    for column in numeric_cols:\n",
    "        # since i know any columns should take negative numbers, to avoid -inf in df\n",
    "        df[column] = np.where(df[column]<=0, np.NAN, df[column]) \n",
    "        df[column] = df[column].fillna(df[column].mean())\n",
    "        transformed_data, ci = stats.boxcox(df[column])\n",
    "        df[column] = transformed_data\n",
    "        _ci[column] = [ci] \n",
    "    return df, _ci\n",
    "\n",
    "df, _ci = boxcox_transform(df)\n",
    "df"
   ]
  },
  {
   "cell_type": "code",
   "execution_count": 85,
   "id": "4cf00eed",
   "metadata": {},
   "outputs": [],
   "source": [
    "#drop the target\n",
    "X = df.drop('offer_accepted', axis=1)\n",
    "y = df['offer_accepted']"
   ]
  },
  {
   "cell_type": "markdown",
   "id": "1186051c",
   "metadata": {},
   "source": [
    "#### Encoding"
   ]
  },
  {
   "cell_type": "code",
   "execution_count": 86,
   "id": "692bbc54",
   "metadata": {},
   "outputs": [
    {
     "data": {
      "text/html": [
       "<div>\n",
       "<style scoped>\n",
       "    .dataframe tbody tr th:only-of-type {\n",
       "        vertical-align: middle;\n",
       "    }\n",
       "\n",
       "    .dataframe tbody tr th {\n",
       "        vertical-align: top;\n",
       "    }\n",
       "\n",
       "    .dataframe thead th {\n",
       "        text-align: right;\n",
       "    }\n",
       "</style>\n",
       "<table border=\"1\" class=\"dataframe\">\n",
       "  <thead>\n",
       "    <tr style=\"text-align: right;\">\n",
       "      <th></th>\n",
       "      <th>bank_accounts_open</th>\n",
       "      <th>credit_cards_held</th>\n",
       "      <th>homes_owned</th>\n",
       "      <th>household_size</th>\n",
       "      <th>average_balance</th>\n",
       "      <th>q1_balance</th>\n",
       "      <th>q2_balance</th>\n",
       "      <th>q3_balance</th>\n",
       "      <th>q4_balance</th>\n",
       "      <th>reward_Air Miles</th>\n",
       "      <th>...</th>\n",
       "      <th>income_level_High</th>\n",
       "      <th>income_level_Low</th>\n",
       "      <th>income_level_Medium</th>\n",
       "      <th>overdraft_protection_No</th>\n",
       "      <th>overdraft_protection_Yes</th>\n",
       "      <th>credit_rating_High</th>\n",
       "      <th>credit_rating_Low</th>\n",
       "      <th>credit_rating_Medium</th>\n",
       "      <th>own_your_home_No</th>\n",
       "      <th>own_your_home_Yes</th>\n",
       "    </tr>\n",
       "  </thead>\n",
       "  <tbody>\n",
       "    <tr>\n",
       "      <th>0</th>\n",
       "      <td>1</td>\n",
       "      <td>2</td>\n",
       "      <td>1</td>\n",
       "      <td>4</td>\n",
       "      <td>8703.958501</td>\n",
       "      <td>73.836626</td>\n",
       "      <td>639.885262</td>\n",
       "      <td>173.975094</td>\n",
       "      <td>50.525011</td>\n",
       "      <td>1</td>\n",
       "      <td>...</td>\n",
       "      <td>1</td>\n",
       "      <td>0</td>\n",
       "      <td>0</td>\n",
       "      <td>1</td>\n",
       "      <td>0</td>\n",
       "      <td>1</td>\n",
       "      <td>0</td>\n",
       "      <td>0</td>\n",
       "      <td>1</td>\n",
       "      <td>0</td>\n",
       "    </tr>\n",
       "    <tr>\n",
       "      <th>1</th>\n",
       "      <td>1</td>\n",
       "      <td>2</td>\n",
       "      <td>2</td>\n",
       "      <td>5</td>\n",
       "      <td>563.218895</td>\n",
       "      <td>10.157140</td>\n",
       "      <td>85.875613</td>\n",
       "      <td>27.328789</td>\n",
       "      <td>30.922576</td>\n",
       "      <td>1</td>\n",
       "      <td>...</td>\n",
       "      <td>0</td>\n",
       "      <td>0</td>\n",
       "      <td>1</td>\n",
       "      <td>1</td>\n",
       "      <td>0</td>\n",
       "      <td>0</td>\n",
       "      <td>0</td>\n",
       "      <td>1</td>\n",
       "      <td>0</td>\n",
       "      <td>1</td>\n",
       "    </tr>\n",
       "    <tr>\n",
       "      <th>2</th>\n",
       "      <td>2</td>\n",
       "      <td>2</td>\n",
       "      <td>1</td>\n",
       "      <td>2</td>\n",
       "      <td>1299.266926</td>\n",
       "      <td>34.277501</td>\n",
       "      <td>269.331501</td>\n",
       "      <td>42.538730</td>\n",
       "      <td>25.166504</td>\n",
       "      <td>1</td>\n",
       "      <td>...</td>\n",
       "      <td>1</td>\n",
       "      <td>0</td>\n",
       "      <td>0</td>\n",
       "      <td>1</td>\n",
       "      <td>0</td>\n",
       "      <td>0</td>\n",
       "      <td>0</td>\n",
       "      <td>1</td>\n",
       "      <td>0</td>\n",
       "      <td>1</td>\n",
       "    </tr>\n",
       "    <tr>\n",
       "      <th>3</th>\n",
       "      <td>2</td>\n",
       "      <td>1</td>\n",
       "      <td>1</td>\n",
       "      <td>4</td>\n",
       "      <td>9287.622984</td>\n",
       "      <td>71.795308</td>\n",
       "      <td>1237.254765</td>\n",
       "      <td>176.596534</td>\n",
       "      <td>33.055723</td>\n",
       "      <td>1</td>\n",
       "      <td>...</td>\n",
       "      <td>0</td>\n",
       "      <td>0</td>\n",
       "      <td>1</td>\n",
       "      <td>1</td>\n",
       "      <td>0</td>\n",
       "      <td>1</td>\n",
       "      <td>0</td>\n",
       "      <td>0</td>\n",
       "      <td>1</td>\n",
       "      <td>0</td>\n",
       "    </tr>\n",
       "    <tr>\n",
       "      <th>4</th>\n",
       "      <td>1</td>\n",
       "      <td>2</td>\n",
       "      <td>1</td>\n",
       "      <td>6</td>\n",
       "      <td>9206.914353</td>\n",
       "      <td>83.588729</td>\n",
       "      <td>967.349381</td>\n",
       "      <td>161.378408</td>\n",
       "      <td>30.880781</td>\n",
       "      <td>1</td>\n",
       "      <td>...</td>\n",
       "      <td>0</td>\n",
       "      <td>0</td>\n",
       "      <td>1</td>\n",
       "      <td>1</td>\n",
       "      <td>0</td>\n",
       "      <td>0</td>\n",
       "      <td>0</td>\n",
       "      <td>1</td>\n",
       "      <td>0</td>\n",
       "      <td>1</td>\n",
       "    </tr>\n",
       "    <tr>\n",
       "      <th>...</th>\n",
       "      <td>...</td>\n",
       "      <td>...</td>\n",
       "      <td>...</td>\n",
       "      <td>...</td>\n",
       "      <td>...</td>\n",
       "      <td>...</td>\n",
       "      <td>...</td>\n",
       "      <td>...</td>\n",
       "      <td>...</td>\n",
       "      <td>...</td>\n",
       "      <td>...</td>\n",
       "      <td>...</td>\n",
       "      <td>...</td>\n",
       "      <td>...</td>\n",
       "      <td>...</td>\n",
       "      <td>...</td>\n",
       "      <td>...</td>\n",
       "      <td>...</td>\n",
       "      <td>...</td>\n",
       "      <td>...</td>\n",
       "      <td>...</td>\n",
       "    </tr>\n",
       "    <tr>\n",
       "      <th>17971</th>\n",
       "      <td>1</td>\n",
       "      <td>1</td>\n",
       "      <td>1</td>\n",
       "      <td>5</td>\n",
       "      <td>668.250437</td>\n",
       "      <td>20.364395</td>\n",
       "      <td>53.691759</td>\n",
       "      <td>25.535159</td>\n",
       "      <td>32.228934</td>\n",
       "      <td>0</td>\n",
       "      <td>...</td>\n",
       "      <td>1</td>\n",
       "      <td>0</td>\n",
       "      <td>0</td>\n",
       "      <td>1</td>\n",
       "      <td>0</td>\n",
       "      <td>0</td>\n",
       "      <td>1</td>\n",
       "      <td>0</td>\n",
       "      <td>0</td>\n",
       "      <td>1</td>\n",
       "    </tr>\n",
       "    <tr>\n",
       "      <th>17972</th>\n",
       "      <td>1</td>\n",
       "      <td>3</td>\n",
       "      <td>1</td>\n",
       "      <td>3</td>\n",
       "      <td>5763.396657</td>\n",
       "      <td>56.640150</td>\n",
       "      <td>683.333055</td>\n",
       "      <td>156.926025</td>\n",
       "      <td>37.265522</td>\n",
       "      <td>0</td>\n",
       "      <td>...</td>\n",
       "      <td>1</td>\n",
       "      <td>0</td>\n",
       "      <td>0</td>\n",
       "      <td>1</td>\n",
       "      <td>0</td>\n",
       "      <td>0</td>\n",
       "      <td>1</td>\n",
       "      <td>0</td>\n",
       "      <td>0</td>\n",
       "      <td>1</td>\n",
       "    </tr>\n",
       "    <tr>\n",
       "      <th>17973</th>\n",
       "      <td>1</td>\n",
       "      <td>2</td>\n",
       "      <td>1</td>\n",
       "      <td>4</td>\n",
       "      <td>7981.026326</td>\n",
       "      <td>54.691416</td>\n",
       "      <td>563.606453</td>\n",
       "      <td>182.108919</td>\n",
       "      <td>61.203573</td>\n",
       "      <td>0</td>\n",
       "      <td>...</td>\n",
       "      <td>1</td>\n",
       "      <td>0</td>\n",
       "      <td>0</td>\n",
       "      <td>1</td>\n",
       "      <td>0</td>\n",
       "      <td>0</td>\n",
       "      <td>1</td>\n",
       "      <td>0</td>\n",
       "      <td>1</td>\n",
       "      <td>0</td>\n",
       "    </tr>\n",
       "    <tr>\n",
       "      <th>17974</th>\n",
       "      <td>1</td>\n",
       "      <td>4</td>\n",
       "      <td>2</td>\n",
       "      <td>2</td>\n",
       "      <td>7354.790374</td>\n",
       "      <td>45.051227</td>\n",
       "      <td>712.896118</td>\n",
       "      <td>147.842192</td>\n",
       "      <td>63.524960</td>\n",
       "      <td>0</td>\n",
       "      <td>...</td>\n",
       "      <td>0</td>\n",
       "      <td>0</td>\n",
       "      <td>1</td>\n",
       "      <td>1</td>\n",
       "      <td>0</td>\n",
       "      <td>0</td>\n",
       "      <td>0</td>\n",
       "      <td>1</td>\n",
       "      <td>0</td>\n",
       "      <td>1</td>\n",
       "    </tr>\n",
       "    <tr>\n",
       "      <th>17975</th>\n",
       "      <td>2</td>\n",
       "      <td>2</td>\n",
       "      <td>1</td>\n",
       "      <td>3</td>\n",
       "      <td>7678.383978</td>\n",
       "      <td>28.956192</td>\n",
       "      <td>981.512321</td>\n",
       "      <td>261.446143</td>\n",
       "      <td>39.506446</td>\n",
       "      <td>0</td>\n",
       "      <td>...</td>\n",
       "      <td>0</td>\n",
       "      <td>1</td>\n",
       "      <td>0</td>\n",
       "      <td>1</td>\n",
       "      <td>0</td>\n",
       "      <td>0</td>\n",
       "      <td>0</td>\n",
       "      <td>1</td>\n",
       "      <td>1</td>\n",
       "      <td>0</td>\n",
       "    </tr>\n",
       "  </tbody>\n",
       "</table>\n",
       "<p>17976 rows × 24 columns</p>\n",
       "</div>"
      ],
      "text/plain": [
       "       bank_accounts_open  credit_cards_held  homes_owned  household_size  \\\n",
       "0                       1                  2            1               4   \n",
       "1                       1                  2            2               5   \n",
       "2                       2                  2            1               2   \n",
       "3                       2                  1            1               4   \n",
       "4                       1                  2            1               6   \n",
       "...                   ...                ...          ...             ...   \n",
       "17971                   1                  1            1               5   \n",
       "17972                   1                  3            1               3   \n",
       "17973                   1                  2            1               4   \n",
       "17974                   1                  4            2               2   \n",
       "17975                   2                  2            1               3   \n",
       "\n",
       "       average_balance  q1_balance   q2_balance  q3_balance  q4_balance  \\\n",
       "0          8703.958501   73.836626   639.885262  173.975094   50.525011   \n",
       "1           563.218895   10.157140    85.875613   27.328789   30.922576   \n",
       "2          1299.266926   34.277501   269.331501   42.538730   25.166504   \n",
       "3          9287.622984   71.795308  1237.254765  176.596534   33.055723   \n",
       "4          9206.914353   83.588729   967.349381  161.378408   30.880781   \n",
       "...                ...         ...          ...         ...         ...   \n",
       "17971       668.250437   20.364395    53.691759   25.535159   32.228934   \n",
       "17972      5763.396657   56.640150   683.333055  156.926025   37.265522   \n",
       "17973      7981.026326   54.691416   563.606453  182.108919   61.203573   \n",
       "17974      7354.790374   45.051227   712.896118  147.842192   63.524960   \n",
       "17975      7678.383978   28.956192   981.512321  261.446143   39.506446   \n",
       "\n",
       "       reward_Air Miles  ...  income_level_High  income_level_Low  \\\n",
       "0                     1  ...                  1                 0   \n",
       "1                     1  ...                  0                 0   \n",
       "2                     1  ...                  1                 0   \n",
       "3                     1  ...                  0                 0   \n",
       "4                     1  ...                  0                 0   \n",
       "...                 ...  ...                ...               ...   \n",
       "17971                 0  ...                  1                 0   \n",
       "17972                 0  ...                  1                 0   \n",
       "17973                 0  ...                  1                 0   \n",
       "17974                 0  ...                  0                 0   \n",
       "17975                 0  ...                  0                 1   \n",
       "\n",
       "       income_level_Medium  overdraft_protection_No  overdraft_protection_Yes  \\\n",
       "0                        0                        1                         0   \n",
       "1                        1                        1                         0   \n",
       "2                        0                        1                         0   \n",
       "3                        1                        1                         0   \n",
       "4                        1                        1                         0   \n",
       "...                    ...                      ...                       ...   \n",
       "17971                    0                        1                         0   \n",
       "17972                    0                        1                         0   \n",
       "17973                    0                        1                         0   \n",
       "17974                    1                        1                         0   \n",
       "17975                    0                        1                         0   \n",
       "\n",
       "       credit_rating_High  credit_rating_Low  credit_rating_Medium  \\\n",
       "0                       1                  0                     0   \n",
       "1                       0                  0                     1   \n",
       "2                       0                  0                     1   \n",
       "3                       1                  0                     0   \n",
       "4                       0                  0                     1   \n",
       "...                   ...                ...                   ...   \n",
       "17971                   0                  1                     0   \n",
       "17972                   0                  1                     0   \n",
       "17973                   0                  1                     0   \n",
       "17974                   0                  0                     1   \n",
       "17975                   0                  0                     1   \n",
       "\n",
       "       own_your_home_No  own_your_home_Yes  \n",
       "0                     1                  0  \n",
       "1                     0                  1  \n",
       "2                     0                  1  \n",
       "3                     1                  0  \n",
       "4                     0                  1  \n",
       "...                 ...                ...  \n",
       "17971                 0                  1  \n",
       "17972                 0                  1  \n",
       "17973                 1                  0  \n",
       "17974                 0                  1  \n",
       "17975                 1                  0  \n",
       "\n",
       "[17976 rows x 24 columns]"
      ]
     },
     "execution_count": 86,
     "metadata": {},
     "output_type": "execute_result"
    }
   ],
   "source": [
    "X= pd.get_dummies(X)\n",
    "X"
   ]
  },
  {
   "cell_type": "markdown",
   "id": "a05a6899",
   "metadata": {},
   "source": [
    "#### Dealing with imbalanced data"
   ]
  },
  {
   "cell_type": "code",
   "execution_count": 87,
   "id": "81d9af38",
   "metadata": {},
   "outputs": [
    {
     "data": {
      "text/plain": [
       "No     16955\n",
       "Yes    16955\n",
       "Name: offer_accepted, dtype: int64"
      ]
     },
     "execution_count": 87,
     "metadata": {},
     "output_type": "execute_result"
    }
   ],
   "source": [
    "# SMOTE\n",
    "# Uses knn to create rows with similar features from the minority classes.\n",
    "\n",
    "smote = SMOTE()\n",
    "\n",
    "X_sm, y_sm = smote.fit_resample(X, y)\n",
    "y_sm.value_counts()"
   ]
  },
  {
   "cell_type": "markdown",
   "id": "2ebe5ea8",
   "metadata": {},
   "source": [
    "#### Modeling"
   ]
  },
  {
   "cell_type": "markdown",
   "id": "0e933493",
   "metadata": {},
   "source": [
    "**Logistic Regression**"
   ]
  },
  {
   "cell_type": "code",
   "execution_count": 88,
   "id": "8239025e",
   "metadata": {},
   "outputs": [],
   "source": [
    "X_train, X_test, y_train, y_test = train_test_split(X_sm, y_sm, test_size=0.2, random_state=42)"
   ]
  },
  {
   "cell_type": "code",
   "execution_count": 89,
   "id": "d3ee5abc",
   "metadata": {
    "scrolled": true
   },
   "outputs": [
    {
     "data": {
      "text/plain": [
       "LogisticRegression(max_iter=10000, random_state=42)"
      ]
     },
     "execution_count": 89,
     "metadata": {},
     "output_type": "execute_result"
    }
   ],
   "source": [
    "classification = LogisticRegression(random_state=42, max_iter=10000)\n",
    "classification.fit(X_train, y_train)"
   ]
  },
  {
   "cell_type": "code",
   "execution_count": 90,
   "id": "c76cc03c",
   "metadata": {},
   "outputs": [
    {
     "data": {
      "text/plain": [
       "0.9628428192273666"
      ]
     },
     "execution_count": 90,
     "metadata": {},
     "output_type": "execute_result"
    }
   ],
   "source": [
    "#evaluate the model\n",
    "classification.score(X_test, y_test)"
   ]
  },
  {
   "cell_type": "code",
   "execution_count": 92,
   "id": "cf28388a",
   "metadata": {
    "scrolled": false
   },
   "outputs": [
    {
     "data": {
      "text/plain": [
       "array([[3391,    1],\n",
       "       [ 251, 3139]], dtype=int64)"
      ]
     },
     "execution_count": 92,
     "metadata": {},
     "output_type": "execute_result"
    }
   ],
   "source": [
    "predictions = classification.predict(X_test)\n",
    "confusion_matrix(y_test, predictions)"
   ]
  },
  {
   "cell_type": "code",
   "execution_count": 238,
   "id": "34e10a5a",
   "metadata": {},
   "outputs": [
    {
     "data": {
      "text/plain": [
       "<AxesSubplot:>"
      ]
     },
     "execution_count": 238,
     "metadata": {},
     "output_type": "execute_result"
    },
    {
     "data": {
      "image/png": "[encoded data removed]",
      "text/plain": [
       "<Figure size 432x288 with 2 Axes>"
      ]
     },
     "metadata": {
      "needs_background": "light"
     },
     "output_type": "display_data"
    }
   ],
   "source": [
    "cf_matrix = confusion_matrix(y_test, predictions)\n",
    "group_names = ['True NO', 'False NO',\n",
    "               'False YES', 'True YES']\n",
    "\n",
    "group_counts = [\"{0:0.0f}\".format(value) for value in cf_matrix.flatten()]\n",
    "group_percentages = [\"{0:.2%}\".format(value) for value in cf_matrix.flatten()/np.sum(cf_matrix)]\n",
    "labels = [f\"{v1}\\n{v2}\\n{v3}\" for v1, v2, v3 in zip(group_names,group_counts,group_percentages)]\n",
    "labels = np.asarray(labels).reshape(2,2)\n",
    "sns.heatmap(cf_matrix, annot=labels, fmt='', cmap='Blues')"
   ]
  },
  {
   "cell_type": "markdown",
   "id": "32425373",
   "metadata": {},
   "source": [
    "**KNN-Classifier**"
   ]
  },
  {
   "cell_type": "code",
   "execution_count": null,
   "id": "724c7103",
   "metadata": {},
   "outputs": [],
   "source": [
    "knn = KNeighborsClassifier()\n",
    "knn.fit(X_train_f, y_train)\n",
    "print('Accuracy of K-NN classifier on training set: {:.2f}'\n",
    "     .format(knn.score(X_train_f, y_train)))\n",
    "print('Accuracy of K-NN classifier on test set: {:.2f}'\n",
    "     .format(knn.score(X_test_f, y_test)))"
   ]
  },
  {
   "cell_type": "code",
   "execution_count": null,
   "id": "e501f0c2",
   "metadata": {},
   "outputs": [],
   "source": [
    "y_pred = knn.predict(X_test_f)\n",
    "\n",
    "print(accuracy_score(y_test, y_pred))\n",
    "print(classification_report(y_test, y_pred))\n",
    "print(confusion_matrix(y_test, y_pred))"
   ]
  },
  {
   "cell_type": "code",
   "execution_count": null,
   "id": "9be5f8af",
   "metadata": {},
   "outputs": [],
   "source": [
    "cf_matrix = confusion_matrix(y_test, y_pred)\n",
    "group_names = ['True NO', 'False NO',\n",
    "               'False YES', 'True YES']\n",
    "\n",
    "group_counts = [\"{0:0.0f}\".format(value) for value in cf_matrix.flatten()]\n",
    "group_percentages = [\"{0:.2%}\".format(value) for value in cf_matrix.flatten()/np.sum(cf_matrix)]\n",
    "labels = [f\"{v1}\\n{v2}\\n{v3}\" for v1, v2, v3 in zip(group_names,group_counts,group_percentages)]\n",
    "labels = np.asarray(labels).reshape(2,2)\n",
    "sns.heatmap(cf_matrix, annot=labels, fmt='', cmap='Blues')"
   ]
  },
  {
   "cell_type": "markdown",
   "id": "7e7cc37a",
   "metadata": {},
   "source": [
    "### 3.2 - Preprocessing using BoxCox and Parameter Tuning\n",
    "\n",
    "1. Boxcox transformation on continuous variables only\n",
    "2. Parameter Tuning: class_weight\n",
    "3. Encoding - get dummies\n",
    "4. Modeling"
   ]
  },
  {
   "cell_type": "markdown",
   "id": "82d40b63",
   "metadata": {},
   "source": [
    "#### Boxcox transformation"
   ]
  },
  {
   "cell_type": "code",
   "execution_count": 96,
   "id": "59fd7db9",
   "metadata": {},
   "outputs": [
    {
     "data": {
      "text/html": [
       "<div>\n",
       "<style scoped>\n",
       "    .dataframe tbody tr th:only-of-type {\n",
       "        vertical-align: middle;\n",
       "    }\n",
       "\n",
       "    .dataframe tbody tr th {\n",
       "        vertical-align: top;\n",
       "    }\n",
       "\n",
       "    .dataframe thead th {\n",
       "        text-align: right;\n",
       "    }\n",
       "</style>\n",
       "<table border=\"1\" class=\"dataframe\">\n",
       "  <thead>\n",
       "    <tr style=\"text-align: right;\">\n",
       "      <th></th>\n",
       "      <th>offer_accepted</th>\n",
       "      <th>reward</th>\n",
       "      <th>mailer_type</th>\n",
       "      <th>income_level</th>\n",
       "      <th>bank_accounts_open</th>\n",
       "      <th>overdraft_protection</th>\n",
       "      <th>credit_rating</th>\n",
       "      <th>credit_cards_held</th>\n",
       "      <th>homes_owned</th>\n",
       "      <th>household_size</th>\n",
       "      <th>own_your_home</th>\n",
       "      <th>average_balance</th>\n",
       "      <th>q1_balance</th>\n",
       "      <th>q2_balance</th>\n",
       "      <th>q3_balance</th>\n",
       "      <th>q4_balance</th>\n",
       "    </tr>\n",
       "  </thead>\n",
       "  <tbody>\n",
       "    <tr>\n",
       "      <th>0</th>\n",
       "      <td>No</td>\n",
       "      <td>Air Miles</td>\n",
       "      <td>Letter</td>\n",
       "      <td>High</td>\n",
       "      <td>1</td>\n",
       "      <td>No</td>\n",
       "      <td>High</td>\n",
       "      <td>2</td>\n",
       "      <td>1</td>\n",
       "      <td>4</td>\n",
       "      <td>No</td>\n",
       "      <td>8703.958501</td>\n",
       "      <td>73.836626</td>\n",
       "      <td>639.885262</td>\n",
       "      <td>173.975094</td>\n",
       "      <td>50.525011</td>\n",
       "    </tr>\n",
       "    <tr>\n",
       "      <th>1</th>\n",
       "      <td>No</td>\n",
       "      <td>Air Miles</td>\n",
       "      <td>Letter</td>\n",
       "      <td>Medium</td>\n",
       "      <td>1</td>\n",
       "      <td>No</td>\n",
       "      <td>Medium</td>\n",
       "      <td>2</td>\n",
       "      <td>2</td>\n",
       "      <td>5</td>\n",
       "      <td>Yes</td>\n",
       "      <td>563.218895</td>\n",
       "      <td>10.157140</td>\n",
       "      <td>85.875613</td>\n",
       "      <td>27.328789</td>\n",
       "      <td>30.922576</td>\n",
       "    </tr>\n",
       "    <tr>\n",
       "      <th>2</th>\n",
       "      <td>No</td>\n",
       "      <td>Air Miles</td>\n",
       "      <td>Postcard</td>\n",
       "      <td>High</td>\n",
       "      <td>2</td>\n",
       "      <td>No</td>\n",
       "      <td>Medium</td>\n",
       "      <td>2</td>\n",
       "      <td>1</td>\n",
       "      <td>2</td>\n",
       "      <td>Yes</td>\n",
       "      <td>1299.266926</td>\n",
       "      <td>34.277501</td>\n",
       "      <td>269.331501</td>\n",
       "      <td>42.538730</td>\n",
       "      <td>25.166504</td>\n",
       "    </tr>\n",
       "    <tr>\n",
       "      <th>3</th>\n",
       "      <td>No</td>\n",
       "      <td>Air Miles</td>\n",
       "      <td>Letter</td>\n",
       "      <td>Medium</td>\n",
       "      <td>2</td>\n",
       "      <td>No</td>\n",
       "      <td>High</td>\n",
       "      <td>1</td>\n",
       "      <td>1</td>\n",
       "      <td>4</td>\n",
       "      <td>No</td>\n",
       "      <td>9287.622984</td>\n",
       "      <td>71.795308</td>\n",
       "      <td>1237.254765</td>\n",
       "      <td>176.596534</td>\n",
       "      <td>33.055723</td>\n",
       "    </tr>\n",
       "    <tr>\n",
       "      <th>4</th>\n",
       "      <td>No</td>\n",
       "      <td>Air Miles</td>\n",
       "      <td>Letter</td>\n",
       "      <td>Medium</td>\n",
       "      <td>1</td>\n",
       "      <td>No</td>\n",
       "      <td>Medium</td>\n",
       "      <td>2</td>\n",
       "      <td>1</td>\n",
       "      <td>6</td>\n",
       "      <td>Yes</td>\n",
       "      <td>9206.914353</td>\n",
       "      <td>83.588729</td>\n",
       "      <td>967.349381</td>\n",
       "      <td>161.378408</td>\n",
       "      <td>30.880781</td>\n",
       "    </tr>\n",
       "    <tr>\n",
       "      <th>...</th>\n",
       "      <td>...</td>\n",
       "      <td>...</td>\n",
       "      <td>...</td>\n",
       "      <td>...</td>\n",
       "      <td>...</td>\n",
       "      <td>...</td>\n",
       "      <td>...</td>\n",
       "      <td>...</td>\n",
       "      <td>...</td>\n",
       "      <td>...</td>\n",
       "      <td>...</td>\n",
       "      <td>...</td>\n",
       "      <td>...</td>\n",
       "      <td>...</td>\n",
       "      <td>...</td>\n",
       "      <td>...</td>\n",
       "    </tr>\n",
       "    <tr>\n",
       "      <th>17971</th>\n",
       "      <td>No</td>\n",
       "      <td>Cash Back</td>\n",
       "      <td>Letter</td>\n",
       "      <td>High</td>\n",
       "      <td>1</td>\n",
       "      <td>No</td>\n",
       "      <td>Low</td>\n",
       "      <td>1</td>\n",
       "      <td>1</td>\n",
       "      <td>5</td>\n",
       "      <td>Yes</td>\n",
       "      <td>668.250437</td>\n",
       "      <td>20.364395</td>\n",
       "      <td>53.691759</td>\n",
       "      <td>25.535159</td>\n",
       "      <td>32.228934</td>\n",
       "    </tr>\n",
       "    <tr>\n",
       "      <th>17972</th>\n",
       "      <td>No</td>\n",
       "      <td>Cash Back</td>\n",
       "      <td>Letter</td>\n",
       "      <td>High</td>\n",
       "      <td>1</td>\n",
       "      <td>No</td>\n",
       "      <td>Low</td>\n",
       "      <td>3</td>\n",
       "      <td>1</td>\n",
       "      <td>3</td>\n",
       "      <td>Yes</td>\n",
       "      <td>5763.396657</td>\n",
       "      <td>56.640150</td>\n",
       "      <td>683.333055</td>\n",
       "      <td>156.926025</td>\n",
       "      <td>37.265522</td>\n",
       "    </tr>\n",
       "    <tr>\n",
       "      <th>17973</th>\n",
       "      <td>No</td>\n",
       "      <td>Cash Back</td>\n",
       "      <td>Letter</td>\n",
       "      <td>High</td>\n",
       "      <td>1</td>\n",
       "      <td>No</td>\n",
       "      <td>Low</td>\n",
       "      <td>2</td>\n",
       "      <td>1</td>\n",
       "      <td>4</td>\n",
       "      <td>No</td>\n",
       "      <td>7981.026326</td>\n",
       "      <td>54.691416</td>\n",
       "      <td>563.606453</td>\n",
       "      <td>182.108919</td>\n",
       "      <td>61.203573</td>\n",
       "    </tr>\n",
       "    <tr>\n",
       "      <th>17974</th>\n",
       "      <td>No</td>\n",
       "      <td>Cash Back</td>\n",
       "      <td>Letter</td>\n",
       "      <td>Medium</td>\n",
       "      <td>1</td>\n",
       "      <td>No</td>\n",
       "      <td>Medium</td>\n",
       "      <td>4</td>\n",
       "      <td>2</td>\n",
       "      <td>2</td>\n",
       "      <td>Yes</td>\n",
       "      <td>7354.790374</td>\n",
       "      <td>45.051227</td>\n",
       "      <td>712.896118</td>\n",
       "      <td>147.842192</td>\n",
       "      <td>63.524960</td>\n",
       "    </tr>\n",
       "    <tr>\n",
       "      <th>17975</th>\n",
       "      <td>No</td>\n",
       "      <td>Cash Back</td>\n",
       "      <td>Letter</td>\n",
       "      <td>Low</td>\n",
       "      <td>2</td>\n",
       "      <td>No</td>\n",
       "      <td>Medium</td>\n",
       "      <td>2</td>\n",
       "      <td>1</td>\n",
       "      <td>3</td>\n",
       "      <td>No</td>\n",
       "      <td>7678.383978</td>\n",
       "      <td>28.956192</td>\n",
       "      <td>981.512321</td>\n",
       "      <td>261.446143</td>\n",
       "      <td>39.506446</td>\n",
       "    </tr>\n",
       "  </tbody>\n",
       "</table>\n",
       "<p>17976 rows × 16 columns</p>\n",
       "</div>"
      ],
      "text/plain": [
       "      offer_accepted     reward mailer_type income_level  bank_accounts_open  \\\n",
       "0                 No  Air Miles      Letter         High                   1   \n",
       "1                 No  Air Miles      Letter       Medium                   1   \n",
       "2                 No  Air Miles    Postcard         High                   2   \n",
       "3                 No  Air Miles      Letter       Medium                   2   \n",
       "4                 No  Air Miles      Letter       Medium                   1   \n",
       "...              ...        ...         ...          ...                 ...   \n",
       "17971             No  Cash Back      Letter         High                   1   \n",
       "17972             No  Cash Back      Letter         High                   1   \n",
       "17973             No  Cash Back      Letter         High                   1   \n",
       "17974             No  Cash Back      Letter       Medium                   1   \n",
       "17975             No  Cash Back      Letter          Low                   2   \n",
       "\n",
       "      overdraft_protection credit_rating  credit_cards_held  homes_owned  \\\n",
       "0                       No          High                  2            1   \n",
       "1                       No        Medium                  2            2   \n",
       "2                       No        Medium                  2            1   \n",
       "3                       No          High                  1            1   \n",
       "4                       No        Medium                  2            1   \n",
       "...                    ...           ...                ...          ...   \n",
       "17971                   No           Low                  1            1   \n",
       "17972                   No           Low                  3            1   \n",
       "17973                   No           Low                  2            1   \n",
       "17974                   No        Medium                  4            2   \n",
       "17975                   No        Medium                  2            1   \n",
       "\n",
       "       household_size own_your_home  average_balance  q1_balance   q2_balance  \\\n",
       "0                   4            No      8703.958501   73.836626   639.885262   \n",
       "1                   5           Yes       563.218895   10.157140    85.875613   \n",
       "2                   2           Yes      1299.266926   34.277501   269.331501   \n",
       "3                   4            No      9287.622984   71.795308  1237.254765   \n",
       "4                   6           Yes      9206.914353   83.588729   967.349381   \n",
       "...               ...           ...              ...         ...          ...   \n",
       "17971               5           Yes       668.250437   20.364395    53.691759   \n",
       "17972               3           Yes      5763.396657   56.640150   683.333055   \n",
       "17973               4            No      7981.026326   54.691416   563.606453   \n",
       "17974               2           Yes      7354.790374   45.051227   712.896118   \n",
       "17975               3            No      7678.383978   28.956192   981.512321   \n",
       "\n",
       "       q3_balance  q4_balance  \n",
       "0      173.975094   50.525011  \n",
       "1       27.328789   30.922576  \n",
       "2       42.538730   25.166504  \n",
       "3      176.596534   33.055723  \n",
       "4      161.378408   30.880781  \n",
       "...           ...         ...  \n",
       "17971   25.535159   32.228934  \n",
       "17972  156.926025   37.265522  \n",
       "17973  182.108919   61.203573  \n",
       "17974  147.842192   63.524960  \n",
       "17975  261.446143   39.506446  \n",
       "\n",
       "[17976 rows x 16 columns]"
      ]
     },
     "execution_count": 96,
     "metadata": {},
     "output_type": "execute_result"
    }
   ],
   "source": [
    "#Boxcox transformation\n",
    "\n",
    "def boxcox_transform(df):\n",
    "    numeric_cols = df.select_dtypes('float64').columns\n",
    "    _ci = {column: None for column in numeric_cols}\n",
    "    for column in numeric_cols:\n",
    "        # since i know any columns should take negative numbers, to avoid -inf in df\n",
    "        df[column] = np.where(df[column]<=0, np.NAN, df[column]) \n",
    "        df[column] = df[column].fillna(df[column].mean())\n",
    "        transformed_data, ci = stats.boxcox(df[column])\n",
    "        df[column] = transformed_data\n",
    "        _ci[column] = [ci] \n",
    "    return df, _ci\n",
    "\n",
    "df1, _ci = boxcox_transform(df1)\n",
    "df1"
   ]
  },
  {
   "cell_type": "markdown",
   "id": "02e7c06f",
   "metadata": {},
   "source": [
    "#### Parameter Tuning - Encoding"
   ]
  },
  {
   "cell_type": "code",
   "execution_count": 97,
   "id": "b72f1cd7",
   "metadata": {
    "scrolled": true
   },
   "outputs": [
    {
     "data": {
      "text/plain": [
       "No     16955\n",
       "Yes     1021\n",
       "Name: offer_accepted, dtype: int64"
      ]
     },
     "execution_count": 97,
     "metadata": {},
     "output_type": "execute_result"
    }
   ],
   "source": [
    "df1.offer_accepted.value_counts()"
   ]
  },
  {
   "cell_type": "code",
   "execution_count": 239,
   "id": "8928d493",
   "metadata": {},
   "outputs": [],
   "source": [
    "# Drop Target column and Get Dummies First\n",
    "\n",
    "X1 = pd.get_dummies(df1.drop('offer_accepted', axis=1))\n",
    "y1 = df1['offer_accepted']\n",
    "\n",
    "total = sum(df1['offer_accepted'].value_counts())\n",
    "\n",
    "weights = {'No': total/(2*df1['offer_accepted'].value_counts()['No']),\n",
    "           'Yes': total/(2*df1['offer_accepted'].value_counts()['Yes'])}"
   ]
  },
  {
   "cell_type": "code",
   "execution_count": 105,
   "id": "6bf4ddcc",
   "metadata": {
    "scrolled": false
   },
   "outputs": [
    {
     "data": {
      "text/plain": [
       "{'No': 0.5301091123562371, 'Yes': 8.80313418217434}"
      ]
     },
     "execution_count": 105,
     "metadata": {},
     "output_type": "execute_result"
    }
   ],
   "source": [
    "weights"
   ]
  },
  {
   "cell_type": "markdown",
   "id": "b202b39f",
   "metadata": {},
   "source": [
    "#### Modeling"
   ]
  },
  {
   "cell_type": "markdown",
   "id": "c217ed81",
   "metadata": {},
   "source": [
    "**Logistic Regression**"
   ]
  },
  {
   "cell_type": "code",
   "execution_count": 106,
   "id": "1bd6dc56",
   "metadata": {},
   "outputs": [],
   "source": [
    "X_train, X_test, y_train, y_test = train_test_split(X1, y1, test_size=0.2, random_state=42)"
   ]
  },
  {
   "cell_type": "code",
   "execution_count": 107,
   "id": "ddf8af62",
   "metadata": {},
   "outputs": [
    {
     "data": {
      "text/plain": [
       "LogisticRegression(max_iter=10000, random_state=42)"
      ]
     },
     "execution_count": 107,
     "metadata": {},
     "output_type": "execute_result"
    }
   ],
   "source": [
    "classification = LogisticRegression(random_state=42, max_iter=10000)\n",
    "classification.fit(X_train, y_train)"
   ]
  },
  {
   "cell_type": "code",
   "execution_count": 108,
   "id": "e23e6cbd",
   "metadata": {
    "scrolled": false
   },
   "outputs": [
    {
     "data": {
      "text/plain": [
       "0.9468854282536151"
      ]
     },
     "execution_count": 108,
     "metadata": {},
     "output_type": "execute_result"
    }
   ],
   "source": [
    "classification.score(X_test, y_test)"
   ]
  },
  {
   "cell_type": "code",
   "execution_count": 109,
   "id": "1842da9a",
   "metadata": {
    "scrolled": false
   },
   "outputs": [
    {
     "data": {
      "text/plain": [
       "array([[3405,    0],\n",
       "       [ 191,    0]], dtype=int64)"
      ]
     },
     "execution_count": 109,
     "metadata": {},
     "output_type": "execute_result"
    }
   ],
   "source": [
    "predictions = classification.predict(X_test)\n",
    "confusion_matrix(y_test, predictions)"
   ]
  },
  {
   "cell_type": "code",
   "execution_count": 34,
   "id": "0079d452",
   "metadata": {},
   "outputs": [
    {
     "data": {
      "text/plain": [
       "<AxesSubplot:>"
      ]
     },
     "execution_count": 34,
     "metadata": {},
     "output_type": "execute_result"
    },
    {
     "data": {
      "image/png": "[encoded data removed]",
      "text/plain": [
       "<Figure size 432x288 with 2 Axes>"
      ]
     },
     "metadata": {
      "needs_background": "light"
     },
     "output_type": "display_data"
    }
   ],
   "source": [
    "cf_matrix = confusion_matrix(y_test, predictions)\n",
    "group_names = ['True NO', 'False NO',\n",
    "               'False YES', 'True YES']\n",
    "\n",
    "group_counts = [\"{0:0.0f}\".format(value) for value in cf_matrix.flatten()]\n",
    "group_percentages = [\"{0:.2%}\".format(value) for value in cf_matrix.flatten()/np.sum(cf_matrix)]\n",
    "labels = [f\"{v1}\\n{v2}\\n{v3}\" for v1, v2, v3 in zip(group_names,group_counts,group_percentages)]\n",
    "labels = np.asarray(labels).reshape(2,2)\n",
    "sns.heatmap(cf_matrix, annot=labels, fmt='', cmap='Blues')"
   ]
  },
  {
   "cell_type": "code",
   "execution_count": 62,
   "id": "890dbf7d",
   "metadata": {
    "scrolled": true
   },
   "outputs": [
    {
     "data": {
      "image/png": "[encoded data removed]",
      "text/plain": [
       "<Figure size 432x288 with 2 Axes>"
      ]
     },
     "metadata": {
      "needs_background": "light"
     },
     "output_type": "display_data"
    }
   ],
   "source": [
    "from sklearn.metrics import plot_confusion_matrix\n",
    "\n",
    "plot_confusion_matrix(classification, X_test, y_test, cmap='Blues')\n",
    "plt.show()"
   ]
  },
  {
   "cell_type": "markdown",
   "id": "88ff184d",
   "metadata": {},
   "source": [
    "**KNN Classifier**"
   ]
  },
  {
   "cell_type": "code",
   "execution_count": 64,
   "id": "1187cc54",
   "metadata": {},
   "outputs": [
    {
     "name": "stdout",
     "output_type": "stream",
     "text": [
      "Accuracy of K-NN classifier on training set: 0.94\n",
      "Accuracy of K-NN classifier on test set: 0.95\n"
     ]
    }
   ],
   "source": [
    "knn = KNeighborsClassifier()\n",
    "knn.fit(X_train, y_train)\n",
    "print('Accuracy of K-NN classifier on training set: {:.2f}'\n",
    "     .format(knn.score(X_train, y_train)))\n",
    "print('Accuracy of K-NN classifier on test set: {:.2f}'\n",
    "     .format(knn.score(X_test, y_test)))"
   ]
  },
  {
   "cell_type": "code",
   "execution_count": null,
   "id": "032e47ae",
   "metadata": {},
   "outputs": [],
   "source": [
    "y_pred = knn.predict(X_test_f)\n",
    "\n",
    "print(accuracy_score(y_test, y_pred))\n",
    "print(classification_report(y_test, y_pred))\n",
    "print(confusion_matrix(y_test, y_pred))"
   ]
  },
  {
   "cell_type": "code",
   "execution_count": null,
   "id": "bccec776",
   "metadata": {},
   "outputs": [],
   "source": [
    "cf_matrix = confusion_matrix(y_test, y_pred)\n",
    "group_names = ['True NO', 'False NO',\n",
    "               'False YES', 'True YES']\n",
    "\n",
    "group_counts = [\"{0:0.0f}\".format(value) for value in cf_matrix.flatten()]\n",
    "group_percentages = [\"{0:.2%}\".format(value) for value in cf_matrix.flatten()/np.sum(cf_matrix)]\n",
    "labels = [f\"{v1}\\n{v2}\\n{v3}\" for v1, v2, v3 in zip(group_names,group_counts,group_percentages)]\n",
    "labels = np.asarray(labels).reshape(2,2)\n",
    "sns.heatmap(cf_matrix, annot=labels, fmt='', cmap='Blues')"
   ]
  },
  {
   "cell_type": "markdown",
   "id": "ab8f0a13",
   "metadata": {},
   "source": [
    "### 3.3 - Preprocessing using Upsampling and normalization\n",
    "\n",
    "1. Numerical columns in a list\n",
    "2. Dealing with imbalanced - UpSampling\n",
    "3. Encoding - get dummies\n",
    "4. train-test split\n",
    "5. Normalization of the numerical columns\n",
    "6. Modeling"
   ]
  },
  {
   "cell_type": "code",
   "execution_count": 140,
   "id": "c29eed00",
   "metadata": {},
   "outputs": [
    {
     "data": {
      "text/plain": [
       "Index(['bank_accounts_open', 'credit_cards_held', 'homes_owned',\n",
       "       'household_size', 'average_balance', 'q1_balance', 'q2_balance',\n",
       "       'q3_balance', 'q4_balance'],\n",
       "      dtype='object')"
      ]
     },
     "execution_count": 140,
     "metadata": {},
     "output_type": "execute_result"
    }
   ],
   "source": [
    "numerical = df2.select_dtypes(np.number)\n",
    "\n",
    "numerical.columns"
   ]
  },
  {
   "cell_type": "code",
   "execution_count": 37,
   "id": "dc2de3ba",
   "metadata": {},
   "outputs": [],
   "source": [
    "num_col = ['bank_accounts_open', 'credit_cards_held', 'homes_owned',\n",
    "       'household_size', 'average_balance','q1_balance', 'q2_balance', 'q3_balance',\n",
    "       'q4_balance']"
   ]
  },
  {
   "cell_type": "markdown",
   "id": "ed8168f4",
   "metadata": {},
   "source": [
    "#### Upsampling"
   ]
  },
  {
   "cell_type": "code",
   "execution_count": 143,
   "id": "85a7d28d",
   "metadata": {},
   "outputs": [
    {
     "data": {
      "text/plain": [
       "No     16955\n",
       "Yes     1021\n",
       "Name: offer_accepted, dtype: int64"
      ]
     },
     "execution_count": 143,
     "metadata": {},
     "output_type": "execute_result"
    }
   ],
   "source": [
    "df2['offer_accepted'].value_counts()"
   ]
  },
  {
   "cell_type": "code",
   "execution_count": 208,
   "id": "e61d5891",
   "metadata": {},
   "outputs": [
    {
     "data": {
      "text/html": [
       "<div>\n",
       "<style scoped>\n",
       "    .dataframe tbody tr th:only-of-type {\n",
       "        vertical-align: middle;\n",
       "    }\n",
       "\n",
       "    .dataframe tbody tr th {\n",
       "        vertical-align: top;\n",
       "    }\n",
       "\n",
       "    .dataframe thead th {\n",
       "        text-align: right;\n",
       "    }\n",
       "</style>\n",
       "<table border=\"1\" class=\"dataframe\">\n",
       "  <thead>\n",
       "    <tr style=\"text-align: right;\">\n",
       "      <th></th>\n",
       "      <th>offer_accepted</th>\n",
       "      <th>reward</th>\n",
       "      <th>mailer_type</th>\n",
       "      <th>income_level</th>\n",
       "      <th>bank_accounts_open</th>\n",
       "      <th>overdraft_protection</th>\n",
       "      <th>credit_rating</th>\n",
       "      <th>credit_cards_held</th>\n",
       "      <th>homes_owned</th>\n",
       "      <th>household_size</th>\n",
       "      <th>own_your_home</th>\n",
       "      <th>average_balance</th>\n",
       "      <th>q1_balance</th>\n",
       "      <th>q2_balance</th>\n",
       "      <th>q3_balance</th>\n",
       "      <th>q4_balance</th>\n",
       "    </tr>\n",
       "  </thead>\n",
       "  <tbody>\n",
       "    <tr>\n",
       "      <th>9031</th>\n",
       "      <td>Yes</td>\n",
       "      <td>Points</td>\n",
       "      <td>Postcard</td>\n",
       "      <td>Low</td>\n",
       "      <td>1</td>\n",
       "      <td>Yes</td>\n",
       "      <td>Low</td>\n",
       "      <td>2</td>\n",
       "      <td>1</td>\n",
       "      <td>5</td>\n",
       "      <td>Yes</td>\n",
       "      <td>8766.136137</td>\n",
       "      <td>12.757285</td>\n",
       "      <td>1301.684548</td>\n",
       "      <td>214.926681</td>\n",
       "      <td>56.515148</td>\n",
       "    </tr>\n",
       "    <tr>\n",
       "      <th>9283</th>\n",
       "      <td>No</td>\n",
       "      <td>Cash Back</td>\n",
       "      <td>Postcard</td>\n",
       "      <td>Medium</td>\n",
       "      <td>1</td>\n",
       "      <td>No</td>\n",
       "      <td>Medium</td>\n",
       "      <td>3</td>\n",
       "      <td>2</td>\n",
       "      <td>3</td>\n",
       "      <td>Yes</td>\n",
       "      <td>4122.124390</td>\n",
       "      <td>50.303816</td>\n",
       "      <td>564.998431</td>\n",
       "      <td>111.989312</td>\n",
       "      <td>36.612301</td>\n",
       "    </tr>\n",
       "    <tr>\n",
       "      <th>6442</th>\n",
       "      <td>No</td>\n",
       "      <td>Points</td>\n",
       "      <td>Letter</td>\n",
       "      <td>High</td>\n",
       "      <td>1</td>\n",
       "      <td>Yes</td>\n",
       "      <td>Medium</td>\n",
       "      <td>1</td>\n",
       "      <td>1</td>\n",
       "      <td>3</td>\n",
       "      <td>Yes</td>\n",
       "      <td>4485.820383</td>\n",
       "      <td>45.596824</td>\n",
       "      <td>594.185165</td>\n",
       "      <td>107.797989</td>\n",
       "      <td>45.756464</td>\n",
       "    </tr>\n",
       "    <tr>\n",
       "      <th>1582</th>\n",
       "      <td>No</td>\n",
       "      <td>Points</td>\n",
       "      <td>Postcard</td>\n",
       "      <td>Medium</td>\n",
       "      <td>1</td>\n",
       "      <td>No</td>\n",
       "      <td>High</td>\n",
       "      <td>1</td>\n",
       "      <td>2</td>\n",
       "      <td>4</td>\n",
       "      <td>Yes</td>\n",
       "      <td>9365.974032</td>\n",
       "      <td>56.553055</td>\n",
       "      <td>957.900787</td>\n",
       "      <td>151.948966</td>\n",
       "      <td>64.788580</td>\n",
       "    </tr>\n",
       "    <tr>\n",
       "      <th>10650</th>\n",
       "      <td>No</td>\n",
       "      <td>Cash Back</td>\n",
       "      <td>Postcard</td>\n",
       "      <td>Low</td>\n",
       "      <td>2</td>\n",
       "      <td>No</td>\n",
       "      <td>High</td>\n",
       "      <td>3</td>\n",
       "      <td>2</td>\n",
       "      <td>4</td>\n",
       "      <td>Yes</td>\n",
       "      <td>1249.648736</td>\n",
       "      <td>24.791565</td>\n",
       "      <td>179.022978</td>\n",
       "      <td>46.605119</td>\n",
       "      <td>35.446236</td>\n",
       "    </tr>\n",
       "    <tr>\n",
       "      <th>...</th>\n",
       "      <td>...</td>\n",
       "      <td>...</td>\n",
       "      <td>...</td>\n",
       "      <td>...</td>\n",
       "      <td>...</td>\n",
       "      <td>...</td>\n",
       "      <td>...</td>\n",
       "      <td>...</td>\n",
       "      <td>...</td>\n",
       "      <td>...</td>\n",
       "      <td>...</td>\n",
       "      <td>...</td>\n",
       "      <td>...</td>\n",
       "      <td>...</td>\n",
       "      <td>...</td>\n",
       "      <td>...</td>\n",
       "    </tr>\n",
       "    <tr>\n",
       "      <th>1584</th>\n",
       "      <td>Yes</td>\n",
       "      <td>Air Miles</td>\n",
       "      <td>Postcard</td>\n",
       "      <td>Low</td>\n",
       "      <td>1</td>\n",
       "      <td>Yes</td>\n",
       "      <td>High</td>\n",
       "      <td>2</td>\n",
       "      <td>1</td>\n",
       "      <td>3</td>\n",
       "      <td>Yes</td>\n",
       "      <td>6430.447609</td>\n",
       "      <td>31.309006</td>\n",
       "      <td>639.194272</td>\n",
       "      <td>191.025695</td>\n",
       "      <td>56.343415</td>\n",
       "    </tr>\n",
       "    <tr>\n",
       "      <th>13471</th>\n",
       "      <td>Yes</td>\n",
       "      <td>Points</td>\n",
       "      <td>Letter</td>\n",
       "      <td>Low</td>\n",
       "      <td>2</td>\n",
       "      <td>No</td>\n",
       "      <td>Low</td>\n",
       "      <td>3</td>\n",
       "      <td>1</td>\n",
       "      <td>5</td>\n",
       "      <td>Yes</td>\n",
       "      <td>6999.301853</td>\n",
       "      <td>36.470377</td>\n",
       "      <td>960.600931</td>\n",
       "      <td>160.469721</td>\n",
       "      <td>55.190523</td>\n",
       "    </tr>\n",
       "    <tr>\n",
       "      <th>12640</th>\n",
       "      <td>No</td>\n",
       "      <td>Points</td>\n",
       "      <td>Letter</td>\n",
       "      <td>Medium</td>\n",
       "      <td>1</td>\n",
       "      <td>No</td>\n",
       "      <td>High</td>\n",
       "      <td>3</td>\n",
       "      <td>1</td>\n",
       "      <td>4</td>\n",
       "      <td>Yes</td>\n",
       "      <td>11034.420057</td>\n",
       "      <td>55.939521</td>\n",
       "      <td>603.895550</td>\n",
       "      <td>235.188009</td>\n",
       "      <td>71.539374</td>\n",
       "    </tr>\n",
       "    <tr>\n",
       "      <th>473</th>\n",
       "      <td>No</td>\n",
       "      <td>Air Miles</td>\n",
       "      <td>Letter</td>\n",
       "      <td>Low</td>\n",
       "      <td>1</td>\n",
       "      <td>No</td>\n",
       "      <td>Medium</td>\n",
       "      <td>2</td>\n",
       "      <td>1</td>\n",
       "      <td>3</td>\n",
       "      <td>Yes</td>\n",
       "      <td>7830.556729</td>\n",
       "      <td>33.987402</td>\n",
       "      <td>878.042993</td>\n",
       "      <td>242.956690</td>\n",
       "      <td>48.563418</td>\n",
       "    </tr>\n",
       "    <tr>\n",
       "      <th>1818</th>\n",
       "      <td>Yes</td>\n",
       "      <td>Points</td>\n",
       "      <td>Postcard</td>\n",
       "      <td>Medium</td>\n",
       "      <td>1</td>\n",
       "      <td>No</td>\n",
       "      <td>Medium</td>\n",
       "      <td>3</td>\n",
       "      <td>1</td>\n",
       "      <td>3</td>\n",
       "      <td>Yes</td>\n",
       "      <td>7148.080089</td>\n",
       "      <td>40.215064</td>\n",
       "      <td>369.318881</td>\n",
       "      <td>184.783258</td>\n",
       "      <td>67.165337</td>\n",
       "    </tr>\n",
       "  </tbody>\n",
       "</table>\n",
       "<p>27128 rows × 16 columns</p>\n",
       "</div>"
      ],
      "text/plain": [
       "      offer_accepted     reward mailer_type income_level  bank_accounts_open  \\\n",
       "9031             Yes     Points    Postcard          Low                   1   \n",
       "9283              No  Cash Back    Postcard       Medium                   1   \n",
       "6442              No     Points      Letter         High                   1   \n",
       "1582              No     Points    Postcard       Medium                   1   \n",
       "10650             No  Cash Back    Postcard          Low                   2   \n",
       "...              ...        ...         ...          ...                 ...   \n",
       "1584             Yes  Air Miles    Postcard          Low                   1   \n",
       "13471            Yes     Points      Letter          Low                   2   \n",
       "12640             No     Points      Letter       Medium                   1   \n",
       "473               No  Air Miles      Letter          Low                   1   \n",
       "1818             Yes     Points    Postcard       Medium                   1   \n",
       "\n",
       "      overdraft_protection credit_rating  credit_cards_held  homes_owned  \\\n",
       "9031                   Yes           Low                  2            1   \n",
       "9283                    No        Medium                  3            2   \n",
       "6442                   Yes        Medium                  1            1   \n",
       "1582                    No          High                  1            2   \n",
       "10650                   No          High                  3            2   \n",
       "...                    ...           ...                ...          ...   \n",
       "1584                   Yes          High                  2            1   \n",
       "13471                   No           Low                  3            1   \n",
       "12640                   No          High                  3            1   \n",
       "473                     No        Medium                  2            1   \n",
       "1818                    No        Medium                  3            1   \n",
       "\n",
       "       household_size own_your_home  average_balance  q1_balance   q2_balance  \\\n",
       "9031                5           Yes      8766.136137   12.757285  1301.684548   \n",
       "9283                3           Yes      4122.124390   50.303816   564.998431   \n",
       "6442                3           Yes      4485.820383   45.596824   594.185165   \n",
       "1582                4           Yes      9365.974032   56.553055   957.900787   \n",
       "10650               4           Yes      1249.648736   24.791565   179.022978   \n",
       "...               ...           ...              ...         ...          ...   \n",
       "1584                3           Yes      6430.447609   31.309006   639.194272   \n",
       "13471               5           Yes      6999.301853   36.470377   960.600931   \n",
       "12640               4           Yes     11034.420057   55.939521   603.895550   \n",
       "473                 3           Yes      7830.556729   33.987402   878.042993   \n",
       "1818                3           Yes      7148.080089   40.215064   369.318881   \n",
       "\n",
       "       q3_balance  q4_balance  \n",
       "9031   214.926681   56.515148  \n",
       "9283   111.989312   36.612301  \n",
       "6442   107.797989   45.756464  \n",
       "1582   151.948966   64.788580  \n",
       "10650   46.605119   35.446236  \n",
       "...           ...         ...  \n",
       "1584   191.025695   56.343415  \n",
       "13471  160.469721   55.190523  \n",
       "12640  235.188009   71.539374  \n",
       "473    242.956690   48.563418  \n",
       "1818   184.783258   67.165337  \n",
       "\n",
       "[27128 rows x 16 columns]"
      ]
     },
     "execution_count": 208,
     "metadata": {},
     "output_type": "execute_result"
    }
   ],
   "source": [
    "# Manually\n",
    "# getting sample with the 60% as the minority class\n",
    "Yes = df[df['offer_accepted'] == 'Yes'].sample(10173, replace=True)\n",
    "No = df[df['offer_accepted'] == 'No'].sample(16955, replace=True)\n",
    "\n",
    "upsampled = pd.concat([Yes,No]).sample(frac=1) # .sample(frac=1) here is just to shuffle the dataframe\n",
    "upsampled"
   ]
  },
  {
   "cell_type": "markdown",
   "id": "3b20d838",
   "metadata": {},
   "source": [
    "#### Encoding"
   ]
  },
  {
   "cell_type": "code",
   "execution_count": 209,
   "id": "7dfe2ae0",
   "metadata": {},
   "outputs": [],
   "source": [
    "X = upsampled.drop('offer_accepted', axis=1)\n",
    "y = upsampled['offer_accepted']"
   ]
  },
  {
   "cell_type": "code",
   "execution_count": 210,
   "id": "c9f3a9f6",
   "metadata": {
    "scrolled": true
   },
   "outputs": [
    {
     "data": {
      "text/html": [
       "<div>\n",
       "<style scoped>\n",
       "    .dataframe tbody tr th:only-of-type {\n",
       "        vertical-align: middle;\n",
       "    }\n",
       "\n",
       "    .dataframe tbody tr th {\n",
       "        vertical-align: top;\n",
       "    }\n",
       "\n",
       "    .dataframe thead th {\n",
       "        text-align: right;\n",
       "    }\n",
       "</style>\n",
       "<table border=\"1\" class=\"dataframe\">\n",
       "  <thead>\n",
       "    <tr style=\"text-align: right;\">\n",
       "      <th></th>\n",
       "      <th>bank_accounts_open</th>\n",
       "      <th>credit_cards_held</th>\n",
       "      <th>homes_owned</th>\n",
       "      <th>household_size</th>\n",
       "      <th>average_balance</th>\n",
       "      <th>q1_balance</th>\n",
       "      <th>q2_balance</th>\n",
       "      <th>q3_balance</th>\n",
       "      <th>q4_balance</th>\n",
       "      <th>reward_Air Miles</th>\n",
       "      <th>...</th>\n",
       "      <th>income_level_High</th>\n",
       "      <th>income_level_Low</th>\n",
       "      <th>income_level_Medium</th>\n",
       "      <th>overdraft_protection_No</th>\n",
       "      <th>overdraft_protection_Yes</th>\n",
       "      <th>credit_rating_High</th>\n",
       "      <th>credit_rating_Low</th>\n",
       "      <th>credit_rating_Medium</th>\n",
       "      <th>own_your_home_No</th>\n",
       "      <th>own_your_home_Yes</th>\n",
       "    </tr>\n",
       "  </thead>\n",
       "  <tbody>\n",
       "    <tr>\n",
       "      <th>9031</th>\n",
       "      <td>1</td>\n",
       "      <td>2</td>\n",
       "      <td>1</td>\n",
       "      <td>5</td>\n",
       "      <td>8766.136137</td>\n",
       "      <td>12.757285</td>\n",
       "      <td>1301.684548</td>\n",
       "      <td>214.926681</td>\n",
       "      <td>56.515148</td>\n",
       "      <td>0</td>\n",
       "      <td>...</td>\n",
       "      <td>0</td>\n",
       "      <td>1</td>\n",
       "      <td>0</td>\n",
       "      <td>0</td>\n",
       "      <td>1</td>\n",
       "      <td>0</td>\n",
       "      <td>1</td>\n",
       "      <td>0</td>\n",
       "      <td>0</td>\n",
       "      <td>1</td>\n",
       "    </tr>\n",
       "    <tr>\n",
       "      <th>9283</th>\n",
       "      <td>1</td>\n",
       "      <td>3</td>\n",
       "      <td>2</td>\n",
       "      <td>3</td>\n",
       "      <td>4122.124390</td>\n",
       "      <td>50.303816</td>\n",
       "      <td>564.998431</td>\n",
       "      <td>111.989312</td>\n",
       "      <td>36.612301</td>\n",
       "      <td>0</td>\n",
       "      <td>...</td>\n",
       "      <td>0</td>\n",
       "      <td>0</td>\n",
       "      <td>1</td>\n",
       "      <td>1</td>\n",
       "      <td>0</td>\n",
       "      <td>0</td>\n",
       "      <td>0</td>\n",
       "      <td>1</td>\n",
       "      <td>0</td>\n",
       "      <td>1</td>\n",
       "    </tr>\n",
       "    <tr>\n",
       "      <th>6442</th>\n",
       "      <td>1</td>\n",
       "      <td>1</td>\n",
       "      <td>1</td>\n",
       "      <td>3</td>\n",
       "      <td>4485.820383</td>\n",
       "      <td>45.596824</td>\n",
       "      <td>594.185165</td>\n",
       "      <td>107.797989</td>\n",
       "      <td>45.756464</td>\n",
       "      <td>0</td>\n",
       "      <td>...</td>\n",
       "      <td>1</td>\n",
       "      <td>0</td>\n",
       "      <td>0</td>\n",
       "      <td>0</td>\n",
       "      <td>1</td>\n",
       "      <td>0</td>\n",
       "      <td>0</td>\n",
       "      <td>1</td>\n",
       "      <td>0</td>\n",
       "      <td>1</td>\n",
       "    </tr>\n",
       "    <tr>\n",
       "      <th>1582</th>\n",
       "      <td>1</td>\n",
       "      <td>1</td>\n",
       "      <td>2</td>\n",
       "      <td>4</td>\n",
       "      <td>9365.974032</td>\n",
       "      <td>56.553055</td>\n",
       "      <td>957.900787</td>\n",
       "      <td>151.948966</td>\n",
       "      <td>64.788580</td>\n",
       "      <td>0</td>\n",
       "      <td>...</td>\n",
       "      <td>0</td>\n",
       "      <td>0</td>\n",
       "      <td>1</td>\n",
       "      <td>1</td>\n",
       "      <td>0</td>\n",
       "      <td>1</td>\n",
       "      <td>0</td>\n",
       "      <td>0</td>\n",
       "      <td>0</td>\n",
       "      <td>1</td>\n",
       "    </tr>\n",
       "    <tr>\n",
       "      <th>10650</th>\n",
       "      <td>2</td>\n",
       "      <td>3</td>\n",
       "      <td>2</td>\n",
       "      <td>4</td>\n",
       "      <td>1249.648736</td>\n",
       "      <td>24.791565</td>\n",
       "      <td>179.022978</td>\n",
       "      <td>46.605119</td>\n",
       "      <td>35.446236</td>\n",
       "      <td>0</td>\n",
       "      <td>...</td>\n",
       "      <td>0</td>\n",
       "      <td>1</td>\n",
       "      <td>0</td>\n",
       "      <td>1</td>\n",
       "      <td>0</td>\n",
       "      <td>1</td>\n",
       "      <td>0</td>\n",
       "      <td>0</td>\n",
       "      <td>0</td>\n",
       "      <td>1</td>\n",
       "    </tr>\n",
       "    <tr>\n",
       "      <th>...</th>\n",
       "      <td>...</td>\n",
       "      <td>...</td>\n",
       "      <td>...</td>\n",
       "      <td>...</td>\n",
       "      <td>...</td>\n",
       "      <td>...</td>\n",
       "      <td>...</td>\n",
       "      <td>...</td>\n",
       "      <td>...</td>\n",
       "      <td>...</td>\n",
       "      <td>...</td>\n",
       "      <td>...</td>\n",
       "      <td>...</td>\n",
       "      <td>...</td>\n",
       "      <td>...</td>\n",
       "      <td>...</td>\n",
       "      <td>...</td>\n",
       "      <td>...</td>\n",
       "      <td>...</td>\n",
       "      <td>...</td>\n",
       "      <td>...</td>\n",
       "    </tr>\n",
       "    <tr>\n",
       "      <th>1584</th>\n",
       "      <td>1</td>\n",
       "      <td>2</td>\n",
       "      <td>1</td>\n",
       "      <td>3</td>\n",
       "      <td>6430.447609</td>\n",
       "      <td>31.309006</td>\n",
       "      <td>639.194272</td>\n",
       "      <td>191.025695</td>\n",
       "      <td>56.343415</td>\n",
       "      <td>1</td>\n",
       "      <td>...</td>\n",
       "      <td>0</td>\n",
       "      <td>1</td>\n",
       "      <td>0</td>\n",
       "      <td>0</td>\n",
       "      <td>1</td>\n",
       "      <td>1</td>\n",
       "      <td>0</td>\n",
       "      <td>0</td>\n",
       "      <td>0</td>\n",
       "      <td>1</td>\n",
       "    </tr>\n",
       "    <tr>\n",
       "      <th>13471</th>\n",
       "      <td>2</td>\n",
       "      <td>3</td>\n",
       "      <td>1</td>\n",
       "      <td>5</td>\n",
       "      <td>6999.301853</td>\n",
       "      <td>36.470377</td>\n",
       "      <td>960.600931</td>\n",
       "      <td>160.469721</td>\n",
       "      <td>55.190523</td>\n",
       "      <td>0</td>\n",
       "      <td>...</td>\n",
       "      <td>0</td>\n",
       "      <td>1</td>\n",
       "      <td>0</td>\n",
       "      <td>1</td>\n",
       "      <td>0</td>\n",
       "      <td>0</td>\n",
       "      <td>1</td>\n",
       "      <td>0</td>\n",
       "      <td>0</td>\n",
       "      <td>1</td>\n",
       "    </tr>\n",
       "    <tr>\n",
       "      <th>12640</th>\n",
       "      <td>1</td>\n",
       "      <td>3</td>\n",
       "      <td>1</td>\n",
       "      <td>4</td>\n",
       "      <td>11034.420057</td>\n",
       "      <td>55.939521</td>\n",
       "      <td>603.895550</td>\n",
       "      <td>235.188009</td>\n",
       "      <td>71.539374</td>\n",
       "      <td>0</td>\n",
       "      <td>...</td>\n",
       "      <td>0</td>\n",
       "      <td>0</td>\n",
       "      <td>1</td>\n",
       "      <td>1</td>\n",
       "      <td>0</td>\n",
       "      <td>1</td>\n",
       "      <td>0</td>\n",
       "      <td>0</td>\n",
       "      <td>0</td>\n",
       "      <td>1</td>\n",
       "    </tr>\n",
       "    <tr>\n",
       "      <th>473</th>\n",
       "      <td>1</td>\n",
       "      <td>2</td>\n",
       "      <td>1</td>\n",
       "      <td>3</td>\n",
       "      <td>7830.556729</td>\n",
       "      <td>33.987402</td>\n",
       "      <td>878.042993</td>\n",
       "      <td>242.956690</td>\n",
       "      <td>48.563418</td>\n",
       "      <td>1</td>\n",
       "      <td>...</td>\n",
       "      <td>0</td>\n",
       "      <td>1</td>\n",
       "      <td>0</td>\n",
       "      <td>1</td>\n",
       "      <td>0</td>\n",
       "      <td>0</td>\n",
       "      <td>0</td>\n",
       "      <td>1</td>\n",
       "      <td>0</td>\n",
       "      <td>1</td>\n",
       "    </tr>\n",
       "    <tr>\n",
       "      <th>1818</th>\n",
       "      <td>1</td>\n",
       "      <td>3</td>\n",
       "      <td>1</td>\n",
       "      <td>3</td>\n",
       "      <td>7148.080089</td>\n",
       "      <td>40.215064</td>\n",
       "      <td>369.318881</td>\n",
       "      <td>184.783258</td>\n",
       "      <td>67.165337</td>\n",
       "      <td>0</td>\n",
       "      <td>...</td>\n",
       "      <td>0</td>\n",
       "      <td>0</td>\n",
       "      <td>1</td>\n",
       "      <td>1</td>\n",
       "      <td>0</td>\n",
       "      <td>0</td>\n",
       "      <td>0</td>\n",
       "      <td>1</td>\n",
       "      <td>0</td>\n",
       "      <td>1</td>\n",
       "    </tr>\n",
       "  </tbody>\n",
       "</table>\n",
       "<p>27128 rows × 24 columns</p>\n",
       "</div>"
      ],
      "text/plain": [
       "       bank_accounts_open  credit_cards_held  homes_owned  household_size  \\\n",
       "9031                    1                  2            1               5   \n",
       "9283                    1                  3            2               3   \n",
       "6442                    1                  1            1               3   \n",
       "1582                    1                  1            2               4   \n",
       "10650                   2                  3            2               4   \n",
       "...                   ...                ...          ...             ...   \n",
       "1584                    1                  2            1               3   \n",
       "13471                   2                  3            1               5   \n",
       "12640                   1                  3            1               4   \n",
       "473                     1                  2            1               3   \n",
       "1818                    1                  3            1               3   \n",
       "\n",
       "       average_balance  q1_balance   q2_balance  q3_balance  q4_balance  \\\n",
       "9031       8766.136137   12.757285  1301.684548  214.926681   56.515148   \n",
       "9283       4122.124390   50.303816   564.998431  111.989312   36.612301   \n",
       "6442       4485.820383   45.596824   594.185165  107.797989   45.756464   \n",
       "1582       9365.974032   56.553055   957.900787  151.948966   64.788580   \n",
       "10650      1249.648736   24.791565   179.022978   46.605119   35.446236   \n",
       "...                ...         ...          ...         ...         ...   \n",
       "1584       6430.447609   31.309006   639.194272  191.025695   56.343415   \n",
       "13471      6999.301853   36.470377   960.600931  160.469721   55.190523   \n",
       "12640     11034.420057   55.939521   603.895550  235.188009   71.539374   \n",
       "473        7830.556729   33.987402   878.042993  242.956690   48.563418   \n",
       "1818       7148.080089   40.215064   369.318881  184.783258   67.165337   \n",
       "\n",
       "       reward_Air Miles  ...  income_level_High  income_level_Low  \\\n",
       "9031                  0  ...                  0                 1   \n",
       "9283                  0  ...                  0                 0   \n",
       "6442                  0  ...                  1                 0   \n",
       "1582                  0  ...                  0                 0   \n",
       "10650                 0  ...                  0                 1   \n",
       "...                 ...  ...                ...               ...   \n",
       "1584                  1  ...                  0                 1   \n",
       "13471                 0  ...                  0                 1   \n",
       "12640                 0  ...                  0                 0   \n",
       "473                   1  ...                  0                 1   \n",
       "1818                  0  ...                  0                 0   \n",
       "\n",
       "       income_level_Medium  overdraft_protection_No  overdraft_protection_Yes  \\\n",
       "9031                     0                        0                         1   \n",
       "9283                     1                        1                         0   \n",
       "6442                     0                        0                         1   \n",
       "1582                     1                        1                         0   \n",
       "10650                    0                        1                         0   \n",
       "...                    ...                      ...                       ...   \n",
       "1584                     0                        0                         1   \n",
       "13471                    0                        1                         0   \n",
       "12640                    1                        1                         0   \n",
       "473                      0                        1                         0   \n",
       "1818                     1                        1                         0   \n",
       "\n",
       "       credit_rating_High  credit_rating_Low  credit_rating_Medium  \\\n",
       "9031                    0                  1                     0   \n",
       "9283                    0                  0                     1   \n",
       "6442                    0                  0                     1   \n",
       "1582                    1                  0                     0   \n",
       "10650                   1                  0                     0   \n",
       "...                   ...                ...                   ...   \n",
       "1584                    1                  0                     0   \n",
       "13471                   0                  1                     0   \n",
       "12640                   1                  0                     0   \n",
       "473                     0                  0                     1   \n",
       "1818                    0                  0                     1   \n",
       "\n",
       "       own_your_home_No  own_your_home_Yes  \n",
       "9031                  0                  1  \n",
       "9283                  0                  1  \n",
       "6442                  0                  1  \n",
       "1582                  0                  1  \n",
       "10650                 0                  1  \n",
       "...                 ...                ...  \n",
       "1584                  0                  1  \n",
       "13471                 0                  1  \n",
       "12640                 0                  1  \n",
       "473                   0                  1  \n",
       "1818                  0                  1  \n",
       "\n",
       "[27128 rows x 24 columns]"
      ]
     },
     "execution_count": 210,
     "metadata": {},
     "output_type": "execute_result"
    }
   ],
   "source": [
    "X = pd.get_dummies(X)\n",
    "X"
   ]
  },
  {
   "cell_type": "markdown",
   "id": "533bd1b0",
   "metadata": {},
   "source": [
    "#### Normalizing"
   ]
  },
  {
   "cell_type": "code",
   "execution_count": null,
   "id": "8ede2b76",
   "metadata": {},
   "outputs": [],
   "source": [
    "X_train, X_test, y_train, y_test = train_test_split(X, y, random_state=0)"
   ]
  },
  {
   "cell_type": "code",
   "execution_count": 212,
   "id": "28254ccc",
   "metadata": {},
   "outputs": [],
   "source": [
    "X_train_n = X_train.filter(['bank_accounts_open', 'credit_cards_held', 'homes_owned',\n",
    "       'household_size', 'average_balance','q1_balance', 'q2_balance', 'q3_balance',\n",
    "       'q4_balance'], axis = 1)\n",
    "\n",
    "X_test_n = X_test.filter(['bank_accounts_open', 'credit_cards_held', 'homes_owned',\n",
    "       'household_size', 'average_balance','q1_balance', 'q2_balance', 'q3_balance',\n",
    "       'q4_balance'], axis = 1)"
   ]
  },
  {
   "cell_type": "code",
   "execution_count": 213,
   "id": "b26925e0",
   "metadata": {},
   "outputs": [],
   "source": [
    "transformer = Normalizer()\n",
    "transformer.fit(X_train_n)\n",
    "\n",
    "# saving in a pickle\n",
    "with open('std_transformer.pickle', 'wb') as file:\n",
    "    pickle.dump(transformer, file)\n",
    "    \n",
    "# loading from a pickle  \n",
    "with open('std_transformer.pickle', 'rb') as file:\n",
    "    loaded_normalizer = pickle.load(file)\n",
    "\n",
    "X_train_ = loaded_normalizer.transform(X_train_n)\n",
    "X_test_ = loaded_normalizer.transform(X_test_n)"
   ]
  },
  {
   "cell_type": "code",
   "execution_count": 214,
   "id": "09121452",
   "metadata": {},
   "outputs": [],
   "source": [
    "num_train = pd.DataFrame(X_train_, columns = num_col)\n",
    "num_test = pd.DataFrame(X_test_, columns = num_col)"
   ]
  },
  {
   "cell_type": "code",
   "execution_count": 215,
   "id": "16f9eef9",
   "metadata": {
    "scrolled": true
   },
   "outputs": [
    {
     "data": {
      "text/plain": [
       "Index(['bank_accounts_open', 'credit_cards_held', 'homes_owned',\n",
       "       'household_size', 'average_balance', 'q1_balance', 'q2_balance',\n",
       "       'q3_balance', 'q4_balance', 'reward_Air Miles', 'reward_Cash Back',\n",
       "       'reward_Points', 'mailer_type_Letter', 'mailer_type_Postcard',\n",
       "       'income_level_High', 'income_level_Low', 'income_level_Medium',\n",
       "       'overdraft_protection_No', 'overdraft_protection_Yes',\n",
       "       'credit_rating_High', 'credit_rating_Low', 'credit_rating_Medium',\n",
       "       'own_your_home_No', 'own_your_home_Yes'],\n",
       "      dtype='object')"
      ]
     },
     "execution_count": 215,
     "metadata": {},
     "output_type": "execute_result"
    }
   ],
   "source": [
    "X_train.columns"
   ]
  },
  {
   "cell_type": "code",
   "execution_count": 216,
   "id": "74ce7aa0",
   "metadata": {},
   "outputs": [],
   "source": [
    "X_train_c = X_train.filter(['reward_Air Miles', 'reward_Cash Back', 'reward_Points',\n",
    "       'mailer_type_Letter', 'mailer_type_Postcard', 'income_level_High',\n",
    "       'income_level_Low', 'income_level_Medium', 'overdraft_protection_No',\n",
    "       'overdraft_protection_Yes', 'credit_rating_High', 'credit_rating_Low',\n",
    "       'credit_rating_Medium', 'own_your_home_No', 'own_your_home_Yes'], axis = 1)"
   ]
  },
  {
   "cell_type": "code",
   "execution_count": 217,
   "id": "3c34769b",
   "metadata": {
    "scrolled": true
   },
   "outputs": [
    {
     "name": "stdout",
     "output_type": "stream",
     "text": [
      "<class 'pandas.core.frame.DataFrame'>\n",
      "RangeIndex: 20346 entries, 0 to 20345\n",
      "Data columns (total 24 columns):\n",
      " #   Column  Non-Null Count  Dtype  \n",
      "---  ------  --------------  -----  \n",
      " 0   0       20346 non-null  float64\n",
      " 1   1       20346 non-null  float64\n",
      " 2   2       20346 non-null  float64\n",
      " 3   3       20346 non-null  float64\n",
      " 4   4       20346 non-null  float64\n",
      " 5   5       20346 non-null  float64\n",
      " 6   6       20346 non-null  float64\n",
      " 7   7       20346 non-null  float64\n",
      " 8   8       20346 non-null  float64\n",
      " 9   9       20346 non-null  uint8  \n",
      " 10  10      20346 non-null  uint8  \n",
      " 11  11      20346 non-null  uint8  \n",
      " 12  12      20346 non-null  uint8  \n",
      " 13  13      20346 non-null  uint8  \n",
      " 14  14      20346 non-null  uint8  \n",
      " 15  15      20346 non-null  uint8  \n",
      " 16  16      20346 non-null  uint8  \n",
      " 17  17      20346 non-null  uint8  \n",
      " 18  18      20346 non-null  uint8  \n",
      " 19  19      20346 non-null  uint8  \n",
      " 20  20      20346 non-null  uint8  \n",
      " 21  21      20346 non-null  uint8  \n",
      " 22  22      20346 non-null  uint8  \n",
      " 23  23      20346 non-null  uint8  \n",
      "dtypes: float64(9), uint8(15)\n",
      "memory usage: 1.7 MB\n"
     ]
    }
   ],
   "source": [
    "X_train_f= pd.concat(\n",
    "    [\n",
    "        num_train.reset_index(drop=True),\n",
    "        X_train_c.reset_index(drop=True)\n",
    "    ], \n",
    "    axis=1, ignore_index=True)\n",
    "\n",
    "X_train_f.info() #checking NAN values\n"
   ]
  },
  {
   "cell_type": "code",
   "execution_count": 218,
   "id": "19646e7e",
   "metadata": {},
   "outputs": [],
   "source": [
    "X_test_c = X_test.filter(['reward_Air Miles', 'reward_Cash Back', 'reward_Points',\n",
    "       'mailer_type_Letter', 'mailer_type_Postcard', 'income_level_High',\n",
    "       'income_level_Low', 'income_level_Medium', 'overdraft_protection_No',\n",
    "       'overdraft_protection_Yes', 'credit_rating_High', 'credit_rating_Low',\n",
    "       'credit_rating_Medium', 'own_your_home_No', 'own_your_home_Yes'], axis = 1)"
   ]
  },
  {
   "cell_type": "code",
   "execution_count": 219,
   "id": "bafcd510",
   "metadata": {
    "scrolled": true
   },
   "outputs": [
    {
     "name": "stdout",
     "output_type": "stream",
     "text": [
      "<class 'pandas.core.frame.DataFrame'>\n",
      "RangeIndex: 6782 entries, 0 to 6781\n",
      "Data columns (total 24 columns):\n",
      " #   Column  Non-Null Count  Dtype  \n",
      "---  ------  --------------  -----  \n",
      " 0   0       6782 non-null   float64\n",
      " 1   1       6782 non-null   float64\n",
      " 2   2       6782 non-null   float64\n",
      " 3   3       6782 non-null   float64\n",
      " 4   4       6782 non-null   float64\n",
      " 5   5       6782 non-null   float64\n",
      " 6   6       6782 non-null   float64\n",
      " 7   7       6782 non-null   float64\n",
      " 8   8       6782 non-null   float64\n",
      " 9   9       6782 non-null   uint8  \n",
      " 10  10      6782 non-null   uint8  \n",
      " 11  11      6782 non-null   uint8  \n",
      " 12  12      6782 non-null   uint8  \n",
      " 13  13      6782 non-null   uint8  \n",
      " 14  14      6782 non-null   uint8  \n",
      " 15  15      6782 non-null   uint8  \n",
      " 16  16      6782 non-null   uint8  \n",
      " 17  17      6782 non-null   uint8  \n",
      " 18  18      6782 non-null   uint8  \n",
      " 19  19      6782 non-null   uint8  \n",
      " 20  20      6782 non-null   uint8  \n",
      " 21  21      6782 non-null   uint8  \n",
      " 22  22      6782 non-null   uint8  \n",
      " 23  23      6782 non-null   uint8  \n",
      "dtypes: float64(9), uint8(15)\n",
      "memory usage: 576.3 KB\n"
     ]
    }
   ],
   "source": [
    "X_test_f= pd.concat(\n",
    "    [\n",
    "        num_test.reset_index(drop=True),\n",
    "        X_test_c.reset_index(drop=True)\n",
    "    ], \n",
    "    axis=1, ignore_index=True)\n",
    "\n",
    "X_test_f.info()"
   ]
  },
  {
   "cell_type": "markdown",
   "id": "79bed4f9",
   "metadata": {},
   "source": [
    "#### Modeling"
   ]
  },
  {
   "cell_type": "markdown",
   "id": "477bbfde",
   "metadata": {},
   "source": [
    "**Logistic Regression**"
   ]
  },
  {
   "cell_type": "markdown",
   "id": "3eaba53c",
   "metadata": {},
   "source": [
    "classification = LogisticRegression(random_state=42, max_iter=10000)\n",
    "classification.fit(X_train_f, y_train)"
   ]
  },
  {
   "cell_type": "code",
   "execution_count": 221,
   "id": "d8081fdb",
   "metadata": {},
   "outputs": [
    {
     "data": {
      "text/plain": [
       "0.7006782659982306"
      ]
     },
     "execution_count": 221,
     "metadata": {},
     "output_type": "execute_result"
    }
   ],
   "source": [
    "classification.score(X_test_f, y_test)"
   ]
  },
  {
   "cell_type": "code",
   "execution_count": 222,
   "id": "a0aa540c",
   "metadata": {
    "scrolled": false
   },
   "outputs": [
    {
     "data": {
      "text/plain": [
       "array([[3555,  682],\n",
       "       [1348, 1197]], dtype=int64)"
      ]
     },
     "execution_count": 222,
     "metadata": {},
     "output_type": "execute_result"
    }
   ],
   "source": [
    "predictions = classification.predict(X_test_f)\n",
    "confusion_matrix(y_test, predictions)"
   ]
  },
  {
   "cell_type": "code",
   "execution_count": 223,
   "id": "3f8ad22e",
   "metadata": {},
   "outputs": [
    {
     "data": {
      "text/plain": [
       "<AxesSubplot:>"
      ]
     },
     "execution_count": 223,
     "metadata": {},
     "output_type": "execute_result"
    },
    {
     "data": {
      "image/png": "[encoded data removed]",
      "text/plain": [
       "<Figure size 432x288 with 2 Axes>"
      ]
     },
     "metadata": {
      "needs_background": "light"
     },
     "output_type": "display_data"
    }
   ],
   "source": [
    "cf_matrix = confusion_matrix(y_test, predictions)\n",
    "group_names = ['True NO', 'False NO',\n",
    "               'False YES', 'True YES']\n",
    "\n",
    "group_counts = [\"{0:0.0f}\".format(value) for value in cf_matrix.flatten()]\n",
    "group_percentages = [\"{0:.2%}\".format(value) for value in cf_matrix.flatten()/np.sum(cf_matrix)]\n",
    "labels = [f\"{v1}\\n{v2}\\n{v3}\" for v1, v2, v3 in zip(group_names,group_counts,group_percentages)]\n",
    "labels = np.asarray(labels).reshape(2,2)\n",
    "sns.heatmap(cf_matrix, annot=labels, fmt='', cmap='Blues')"
   ]
  },
  {
   "cell_type": "markdown",
   "id": "31ebc586",
   "metadata": {},
   "source": [
    "**KNN Classifier**"
   ]
  },
  {
   "cell_type": "code",
   "execution_count": 228,
   "id": "4772221a",
   "metadata": {},
   "outputs": [
    {
     "name": "stdout",
     "output_type": "stream",
     "text": [
      "Accuracy of K-NN classifier on training set: 0.94\n",
      "Accuracy of K-NN classifier on test set: 0.90\n"
     ]
    }
   ],
   "source": [
    "knn = KNeighborsClassifier()\n",
    "knn.fit(X_train_f, y_train)\n",
    "print('Accuracy of K-NN classifier on training set: {:.2f}'\n",
    "     .format(knn.score(X_train_f, y_train)))\n",
    "print('Accuracy of K-NN classifier on test set: {:.2f}'\n",
    "     .format(knn.score(X_test_f, y_test)))"
   ]
  },
  {
   "cell_type": "code",
   "execution_count": 232,
   "id": "609befa6",
   "metadata": {},
   "outputs": [
    {
     "name": "stdout",
     "output_type": "stream",
     "text": [
      "0.8963432615747567\n",
      "              precision    recall  f1-score   support\n",
      "\n",
      "          No       0.99      0.84      0.91      4237\n",
      "         Yes       0.79      0.98      0.88      2545\n",
      "\n",
      "    accuracy                           0.90      6782\n",
      "   macro avg       0.89      0.91      0.89      6782\n",
      "weighted avg       0.91      0.90      0.90      6782\n",
      "\n",
      "[[3579  658]\n",
      " [  45 2500]]\n"
     ]
    }
   ],
   "source": [
    "y_pred = knn.predict(X_test_f)\n",
    "\n",
    "print(accuracy_score(y_test, y_pred))\n",
    "print(classification_report(y_test, y_pred))\n",
    "print(confusion_matrix(y_test, y_pred))"
   ]
  },
  {
   "cell_type": "code",
   "execution_count": 234,
   "id": "17dfa0f9",
   "metadata": {
    "scrolled": true
   },
   "outputs": [
    {
     "data": {
      "text/plain": [
       "<AxesSubplot:>"
      ]
     },
     "execution_count": 234,
     "metadata": {},
     "output_type": "execute_result"
    },
    {
     "data": {
      "image/png": "[encoded data removed]",
      "text/plain": [
       "<Figure size 432x288 with 2 Axes>"
      ]
     },
     "metadata": {
      "needs_background": "light"
     },
     "output_type": "display_data"
    }
   ],
   "source": [
    "cf_matrix = confusion_matrix(y_test, y_pred)\n",
    "group_names = ['True NO', 'False NO',\n",
    "               'False YES', 'True YES']\n",
    "\n",
    "group_counts = [\"{0:0.0f}\".format(value) for value in cf_matrix.flatten()]\n",
    "group_percentages = [\"{0:.2%}\".format(value) for value in cf_matrix.flatten()/np.sum(cf_matrix)]\n",
    "labels = [f\"{v1}\\n{v2}\\n{v3}\" for v1, v2, v3 in zip(group_names,group_counts,group_percentages)]\n",
    "labels = np.asarray(labels).reshape(2,2)\n",
    "sns.heatmap(cf_matrix, annot=labels, fmt='', cmap='Blues')"
   ]
  }
 ],
 "metadata": {
  "kernelspec": {
   "display_name": "Python 3",
   "language": "python",
   "name": "python3"
  },
  "language_info": {
   "codemirror_mode": {
    "name": "ipython",
    "version": 3
   },
   "file_extension": ".py",
   "mimetype": "text/x-python",
   "name": "python",
   "nbconvert_exporter": "python",
   "pygments_lexer": "ipython3",
   "version": "3.9.5"
  }
 },
 "nbformat": 4,
 "nbformat_minor": 5
}
